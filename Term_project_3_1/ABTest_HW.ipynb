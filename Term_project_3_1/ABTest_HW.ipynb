{
 "metadata": {
  "language_info": {
   "codemirror_mode": {
    "name": "ipython",
    "version": 3
   },
   "file_extension": ".py",
   "mimetype": "text/x-python",
   "name": "python",
   "nbconvert_exporter": "python",
   "pygments_lexer": "ipython3",
   "version": "3.8.5-final"
  },
  "orig_nbformat": 2,
  "kernelspec": {
   "name": "python3",
   "display_name": "Python 3.8.5 64-bit ('base': conda)",
   "metadata": {
    "interpreter": {
     "hash": "593c0c41a94be97499a2eac94a25f3d053844850e8aeaf9a990745ffe43dc973"
    }
   }
  }
 },
 "nbformat": 4,
 "nbformat_minor": 2,
 "cells": [
  {
   "source": [
    "# **[作業]電商如何以A/B Test 驗證新網頁設計有效**\n",
    "## **Can eCommerce UX change boost the conversion rate from 0.12 to 0.11?**\n",
    "知識點:\n",
    "*   effect size\n",
    "*   sample size for A/B test \n",
    "*   type I error = 0.05 and Power= 0.8\n",
    "*   z-score, confidence interval\n",
    "數據 : ab_data.csv from Kaggle"
   ],
   "cell_type": "markdown",
   "metadata": {}
  },
  {
   "source": [
    "# **[作業目標]**\n",
    "1.   了解Binomial分布，以及用常態分布求統計解的方法\n",
    "2.   判讀A/B Test 結果"
   ],
   "cell_type": "markdown",
   "metadata": {}
  },
  {
   "source": [
    "# **[作業重點]**\n",
    "1.   如何決定最小樣本數\n",
    "2.   如何以Z值，p-Value和信賴區間(Confidence Interval)判斷A/B結果是否顯著"
   ],
   "cell_type": "markdown",
   "metadata": {}
  },
  {
   "cell_type": "code",
   "execution_count": 4,
   "metadata": {},
   "outputs": [],
   "source": [
    "#import necesary library\n",
    "import numpy as np\n",
    "import pandas as pd\n",
    "import scipy.stats as stats\n",
    "import seaborn as sns\n",
    "from math import ceil"
   ]
  },
  {
   "cell_type": "code",
   "execution_count": 10,
   "metadata": {},
   "outputs": [
    {
     "output_type": "stream",
     "name": "stdout",
     "text": [
      "<class 'pandas.core.frame.DataFrame'>\nRangeIndex: 294478 entries, 0 to 294477\nData columns (total 5 columns):\n #   Column        Non-Null Count   Dtype \n---  ------        --------------   ----- \n 0   user_id       294478 non-null  int64 \n 1   timestamp     294478 non-null  object\n 2   group         294478 non-null  object\n 3   landing_page  294478 non-null  object\n 4   converted     294478 non-null  int64 \ndtypes: int64(2), object(3)\nmemory usage: 11.2+ MB\n"
     ]
    }
   ],
   "source": [
    "# Reading data\n",
    "raw_data=pd.read_csv('ab_data.csv')\n",
    "#show info\n",
    "raw_data.info()\n",
    "#show head\n",
    "raw_data.head(10)"
   ]
  },
  {
   "cell_type": "code",
   "execution_count": 12,
   "metadata": {},
   "outputs": [
    {
     "output_type": "execute_result",
     "data": {
      "text/plain": [
       "637561    2\n",
       "821876    2\n",
       "643869    2\n",
       "938802    2\n",
       "916765    2\n",
       "         ..\n",
       "710897    1\n",
       "708848    1\n",
       "665839    1\n",
       "663790    1\n",
       "630836    1\n",
       "Name: user_id, Length: 290584, dtype: int64"
      ]
     },
     "metadata": {},
     "execution_count": 12
    }
   ],
   "source": [
    "#check unique\n",
    "raw_data['user_id'].value_counts()"
   ]
  },
  {
   "cell_type": "code",
   "execution_count": 21,
   "metadata": {},
   "outputs": [
    {
     "output_type": "stream",
     "name": "stdout",
     "text": [
      "effect size=\t 0.031352702218681694\nrequired n=\t 15970\n"
     ]
    }
   ],
   "source": [
    "# Decide the effect_size base on prob.1 and prob.2\n",
    "import statsmodels.stats.api as sms\n",
    "prob1=0.12\n",
    "prob2=0.11\n",
    "effect_size=sms.proportion_effectsize(prob1,prob2)\n",
    "print('effect size=\\t',effect_size)\n",
    "# Decide reuqired number of sample\n",
    "reuqired_n=sms.NormalIndPower().solve_power(effect_size=effect_size,power=0.8,alpha=0.05,ratio=1)\n",
    "reuqired_n=ceil(reuqired_n)\n",
    "print('required n=\\t',reuqired_n)"
   ]
  },
  {
   "cell_type": "code",
   "execution_count": 94,
   "metadata": {},
   "outputs": [],
   "source": [
    "data=raw_data.drop_duplicates(subset=['user_id'],keep=False)"
   ]
  },
  {
   "cell_type": "code",
   "execution_count": 98,
   "metadata": {},
   "outputs": [],
   "source": [
    "#seperate into \"control\" and \"treatment\"\n",
    "control=data[data['group']=='control']\n",
    "treatment=data[data['group']=='treatment']\n",
    "\n",
    "control_sample=control.sample(reuqired_n,random_state=22)\n",
    "treatment_sample=treatment.sample(reuqired_n,random_state=22)"
   ]
  },
  {
   "cell_type": "code",
   "execution_count": 89,
   "metadata": {},
   "outputs": [
    {
     "output_type": "stream",
     "name": "stdout",
     "text": [
      "       user_id                   timestamp      group landing_page  converted\n0       763854  2017-01-21 03:43:17.188315    control     old_page          0\n1       690555  2017-01-18 06:38:13.079449    control     old_page          0\n2       861520  2017-01-06 21:13:40.044766    control     old_page          0\n3       630778  2017-01-05 16:42:36.995204    control     old_page          0\n4       656634  2017-01-04 15:31:21.676130    control     old_page          0\n...        ...                         ...        ...          ...        ...\n31935   780954  2017-01-19 07:49:58.295232  treatment     new_page          0\n31936   700881  2017-01-13 12:31:37.243352  treatment     new_page          0\n31937   829626  2017-01-14 09:07:57.784950  treatment     new_page          0\n31938   773197  2017-01-05 00:23:56.177295  treatment     new_page          0\n31939   720502  2017-01-15 15:54:12.049241  treatment     new_page          0\n\n[31940 rows x 5 columns]\n"
     ]
    }
   ],
   "source": [
    "ab_test_data=pd.concat([control_sample,treatment_sample])\n",
    "ab_test_data=ab_test_data.reset_index(drop=True)\n",
    "print(ab_test_data)"
   ]
  },
  {
   "cell_type": "code",
   "execution_count": 100,
   "metadata": {},
   "outputs": [],
   "source": [
    "#以函數計算z_stat, pval, confidence interval\n",
    "from statsmodels.stats.proportion import proportion_confint, proportions_ztest\n",
    "control_reuslt=ab_test_data[ab_test_data['group']=='control']['converted']\n",
    "treatment_result=ab_test_data[ab_test_data['group']=='treatment']['converted']\n",
    "\n",
    "n_control=control_reuslt.count()\n",
    "n_treatment=treatment_result.count()"
   ]
  },
  {
   "cell_type": "code",
   "execution_count": 102,
   "metadata": {},
   "outputs": [
    {
     "output_type": "stream",
     "name": "stdout",
     "text": [
      "[1932, 1928]\n[15970, 15970]\n"
     ]
    }
   ],
   "source": [
    "successes=[control_reuslt.sum(),treatment_result.sum()]\n",
    "nobs=[n_control,n_treatment]\n",
    "print(successes)\n",
    "print(nobs)"
   ]
  },
  {
   "cell_type": "code",
   "execution_count": 104,
   "metadata": {},
   "outputs": [],
   "source": [
    "z_stat,pval=proportions_ztest(count=successes,nobs=nobs)\n",
    "(lcl_control,lcl_treatment),(ucl_control,ucl_treatment)=proportion_confint(count=successes,nobs=nobs)"
   ]
  },
  {
   "cell_type": "code",
   "execution_count": 112,
   "metadata": {},
   "outputs": [
    {
     "output_type": "stream",
     "name": "stdout",
     "text": [
      "('z_stat','pval')=(0.069,0.945)\nci 95% for control group: (LCL,UCL)=[0.116,0.126]\nci 95% for treatment group: (LCL,UCL)=[0.116,0.126]\n>>>>>>>> 效果不顯著 <<<<<<<<\n"
     ]
    }
   ],
   "source": [
    "print(\"('z_stat','pval')=({0:.3f},{1:.3f})\".format(z_stat,pval))\n",
    "print(\"ci 95% for control group: (LCL,UCL)=[{0:.3f},{1:.3f}]\".format(lcl_control,ucl_control))\n",
    "print(\"ci 95% for treatment group: (LCL,UCL)=[{0:.3f},{1:.3f}]\".format(lcl_treatment,ucl_treatment))\n",
    "print('>>>>>>>> 效果不顯著 <<<<<<<<')"
   ]
  },
  {
   "cell_type": "code",
   "execution_count": null,
   "metadata": {},
   "outputs": [],
   "source": []
  }
 ]
}