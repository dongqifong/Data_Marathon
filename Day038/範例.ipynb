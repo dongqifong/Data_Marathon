{
 "cells": [
  {
   "cell_type": "markdown",
   "metadata": {},
   "source": [
    "## 今天的範例，帶著大家一起挖掘變數之間的關係"
   ]
  },
  {
   "cell_type": "code",
   "execution_count": 5,
   "metadata": {
    "colab": {
     "base_uri": "https://localhost:8080/",
     "height": 34
    },
    "colab_type": "code",
    "executionInfo": {
     "elapsed": 1558,
     "status": "ok",
     "timestamp": 1578021044012,
     "user": {
      "displayName": "Mora chen",
      "photoUrl": "https://lh3.googleusercontent.com/a-/AAuE7mB40f7sDArbZ5_DYq02nNcnLD0Ryaf7AhsASSQeLQ=s64",
      "userId": "03171203089166907199"
     },
     "user_tz": -480
    },
    "id": "yz28_IgkYdBW",
    "outputId": "a12f486c-18b3-4fb5-d06c-f162aebd9444"
   },
   "outputs": [
    {
     "output_type": "stream",
     "name": "stdout",
     "text": [
      "0.23.2\n"
     ]
    }
   ],
   "source": [
    "# library\n",
    "import matplotlib.pyplot as plt\n",
    "import numpy as np\n",
    "import pandas as pd\n",
    "from scipy import stats\n",
    "import math\n",
    "import statistics\n",
    "import seaborn as sns\n",
    "from IPython.display import display\n",
    "import sklearn\n",
    "print(sklearn.__version__)\n",
    "#如果只有 0.19 記得要更新至 最新版本\n",
    "%matplotlib inline\n"
   ]
  },
  {
   "cell_type": "markdown",
   "metadata": {},
   "source": [
    "## 產生一組資料集"
   ]
  },
  {
   "cell_type": "code",
   "execution_count": 6,
   "metadata": {},
   "outputs": [
    {
     "output_type": "display_data",
     "data": {
      "text/plain": "       sex insomnia  age  height  weight\n0     Male        Y   23     180     100\n1     Male        N   40     170      68\n2     Male        N    5     100      20\n3     Male        N   30     176      70\n4     Male        N    1      70      10\n5   Female        N   40     160      45\n6   Female        Y   16     170      50\n7   Female        Y   27     166      58\n8   Female        Y   43     155      58\n9   Female        N    8      35      17\n10    Male        Y   23     170     101\n11    Male        N   39     168      65\n12    Male        N    5     101      22\n13    Male        N   29     175      79\n14    Male        N    1      72      12\n15  Female        N   42     163      40\n16  Female        Y   13     169      53\n17  Female        Y   29     163      52\n18  Female        Y   41     151      56\n19  Female        N   10      40      14",
      "text/html": "<div>\n<style scoped>\n    .dataframe tbody tr th:only-of-type {\n        vertical-align: middle;\n    }\n\n    .dataframe tbody tr th {\n        vertical-align: top;\n    }\n\n    .dataframe thead th {\n        text-align: right;\n    }\n</style>\n<table border=\"1\" class=\"dataframe\">\n  <thead>\n    <tr style=\"text-align: right;\">\n      <th></th>\n      <th>sex</th>\n      <th>insomnia</th>\n      <th>age</th>\n      <th>height</th>\n      <th>weight</th>\n    </tr>\n  </thead>\n  <tbody>\n    <tr>\n      <th>0</th>\n      <td>Male</td>\n      <td>Y</td>\n      <td>23</td>\n      <td>180</td>\n      <td>100</td>\n    </tr>\n    <tr>\n      <th>1</th>\n      <td>Male</td>\n      <td>N</td>\n      <td>40</td>\n      <td>170</td>\n      <td>68</td>\n    </tr>\n    <tr>\n      <th>2</th>\n      <td>Male</td>\n      <td>N</td>\n      <td>5</td>\n      <td>100</td>\n      <td>20</td>\n    </tr>\n    <tr>\n      <th>3</th>\n      <td>Male</td>\n      <td>N</td>\n      <td>30</td>\n      <td>176</td>\n      <td>70</td>\n    </tr>\n    <tr>\n      <th>4</th>\n      <td>Male</td>\n      <td>N</td>\n      <td>1</td>\n      <td>70</td>\n      <td>10</td>\n    </tr>\n    <tr>\n      <th>5</th>\n      <td>Female</td>\n      <td>N</td>\n      <td>40</td>\n      <td>160</td>\n      <td>45</td>\n    </tr>\n    <tr>\n      <th>6</th>\n      <td>Female</td>\n      <td>Y</td>\n      <td>16</td>\n      <td>170</td>\n      <td>50</td>\n    </tr>\n    <tr>\n      <th>7</th>\n      <td>Female</td>\n      <td>Y</td>\n      <td>27</td>\n      <td>166</td>\n      <td>58</td>\n    </tr>\n    <tr>\n      <th>8</th>\n      <td>Female</td>\n      <td>Y</td>\n      <td>43</td>\n      <td>155</td>\n      <td>58</td>\n    </tr>\n    <tr>\n      <th>9</th>\n      <td>Female</td>\n      <td>N</td>\n      <td>8</td>\n      <td>35</td>\n      <td>17</td>\n    </tr>\n    <tr>\n      <th>10</th>\n      <td>Male</td>\n      <td>Y</td>\n      <td>23</td>\n      <td>170</td>\n      <td>101</td>\n    </tr>\n    <tr>\n      <th>11</th>\n      <td>Male</td>\n      <td>N</td>\n      <td>39</td>\n      <td>168</td>\n      <td>65</td>\n    </tr>\n    <tr>\n      <th>12</th>\n      <td>Male</td>\n      <td>N</td>\n      <td>5</td>\n      <td>101</td>\n      <td>22</td>\n    </tr>\n    <tr>\n      <th>13</th>\n      <td>Male</td>\n      <td>N</td>\n      <td>29</td>\n      <td>175</td>\n      <td>79</td>\n    </tr>\n    <tr>\n      <th>14</th>\n      <td>Male</td>\n      <td>N</td>\n      <td>1</td>\n      <td>72</td>\n      <td>12</td>\n    </tr>\n    <tr>\n      <th>15</th>\n      <td>Female</td>\n      <td>N</td>\n      <td>42</td>\n      <td>163</td>\n      <td>40</td>\n    </tr>\n    <tr>\n      <th>16</th>\n      <td>Female</td>\n      <td>Y</td>\n      <td>13</td>\n      <td>169</td>\n      <td>53</td>\n    </tr>\n    <tr>\n      <th>17</th>\n      <td>Female</td>\n      <td>Y</td>\n      <td>29</td>\n      <td>163</td>\n      <td>52</td>\n    </tr>\n    <tr>\n      <th>18</th>\n      <td>Female</td>\n      <td>Y</td>\n      <td>41</td>\n      <td>151</td>\n      <td>56</td>\n    </tr>\n    <tr>\n      <th>19</th>\n      <td>Female</td>\n      <td>N</td>\n      <td>10</td>\n      <td>40</td>\n      <td>14</td>\n    </tr>\n  </tbody>\n</table>\n</div>"
     },
     "metadata": {}
    },
    {
     "output_type": "stream",
     "name": "stdout",
     "text": [
      "<class 'pandas.core.frame.DataFrame'>\nRangeIndex: 20 entries, 0 to 19\nData columns (total 5 columns):\n #   Column    Non-Null Count  Dtype \n---  ------    --------------  ----- \n 0   sex       20 non-null     object\n 1   insomnia  20 non-null     object\n 2   age       20 non-null     int64 \n 3   height    20 non-null     int64 \n 4   weight    20 non-null     int64 \ndtypes: int64(3), object(2)\nmemory usage: 928.0+ bytes\nNone\n"
     ]
    }
   ],
   "source": [
    "#用字典產生一組資料\n",
    "data={'sex': ['Male','Male','Male','Male','Male','Female','Female','Female','Female','Female','Male','Male','Male','Male','Male','Female','Female','Female','Female','Female'],\n",
    "      'insomnia':['Y','N','N','N','N','N','Y','Y','Y','N','Y','N','N','N','N','N','Y','Y','Y','N'],\n",
    "     'age':[23,40,5,30,1,40,16,27,43,8,23,39,5,29,1,42,13,29,41,10],\n",
    "     'height':[180,170,100,176,70,160,170,166,155,35,170,168,101,175,72,163,169,163,151,40],\n",
    "     'weight':[100,68,20,70,10,45,50,58,58,17,101,65,22,79,12,40,53,52,56,14]}\n",
    "#轉成 dataframe格式 \n",
    "data=pd.DataFrame(data)\n",
    "display(data)\n",
    "\n",
    "print(data.info())"
   ]
  },
  {
   "cell_type": "code",
   "execution_count": 7,
   "metadata": {},
   "outputs": [
    {
     "output_type": "stream",
     "name": "stdout",
     "text": [
      "2 category Features : ['sex', 'insomnia']\n\n"
     ]
    }
   ],
   "source": [
    "cat_features = []\n",
    "for dtype, feature in zip(data.dtypes, data.columns):\n",
    "    if dtype == 'object':\n",
    "        cat_features.append(feature)\n",
    "print(f'{len(cat_features)} category Features : {cat_features}\\n')"
   ]
  },
  {
   "cell_type": "markdown",
   "metadata": {},
   "source": [
    "## 連續 vs 連續\n",
    "  本範例透過 Pearson相關係數，看身高和體重相關性\n",
    "* Pearson相關係數\n",
    "   是描述兩個連續型變數的相關性\n",
    "* 語法: https://docs.scipy.org/doc/scipy/reference/generated/scipy.stats.pearsonr.html"
   ]
  },
  {
   "cell_type": "code",
   "execution_count": 8,
   "metadata": {},
   "outputs": [
    {
     "output_type": "stream",
     "name": "stdout",
     "text": [
      "0.8380879580762451\n"
     ]
    }
   ],
   "source": [
    "# 由於 pearsonr 有兩個回傳結果，我們只需取第一個回傳值為相關係數\n",
    "corr, _=stats.pearsonr(data['height'], data['weight'])\n",
    "print(corr)\n",
    "#代表身高和體重有高度線性相關"
   ]
  },
  {
   "cell_type": "code",
   "execution_count": 9,
   "metadata": {},
   "outputs": [
    {
     "output_type": "display_data",
     "data": {
      "text/plain": "<Figure size 432x288 with 1 Axes>",
      "image/svg+xml": "<?xml version=\"1.0\" encoding=\"utf-8\" standalone=\"no\"?>\n<!DOCTYPE svg PUBLIC \"-//W3C//DTD SVG 1.1//EN\"\n  \"http://www.w3.org/Graphics/SVG/1.1/DTD/svg11.dtd\">\n<!-- Created with matplotlib (https://matplotlib.org/) -->\n<svg height=\"262.19625pt\" version=\"1.1\" viewBox=\"0 0 400.526562 262.19625\" width=\"400.526562pt\" xmlns=\"http://www.w3.org/2000/svg\" xmlns:xlink=\"http://www.w3.org/1999/xlink\">\n <metadata>\n  <rdf:RDF xmlns:cc=\"http://creativecommons.org/ns#\" xmlns:dc=\"http://purl.org/dc/elements/1.1/\" xmlns:rdf=\"http://www.w3.org/1999/02/22-rdf-syntax-ns#\">\n   <cc:Work>\n    <dc:type rdf:resource=\"http://purl.org/dc/dcmitype/StillImage\"/>\n    <dc:date>2021-02-23T14:08:59.012731</dc:date>\n    <dc:format>image/svg+xml</dc:format>\n    <dc:creator>\n     <cc:Agent>\n      <dc:title>Matplotlib v3.3.2, https://matplotlib.org/</dc:title>\n     </cc:Agent>\n    </dc:creator>\n   </cc:Work>\n  </rdf:RDF>\n </metadata>\n <defs>\n  <style type=\"text/css\">*{stroke-linecap:butt;stroke-linejoin:round;}</style>\n </defs>\n <g id=\"figure_1\">\n  <g id=\"patch_1\">\n   <path d=\"M 0 262.19625 \nL 400.526562 262.19625 \nL 400.526562 0 \nL 0 0 \nz\n\" style=\"fill:none;\"/>\n  </g>\n  <g id=\"axes_1\">\n   <g id=\"patch_2\">\n    <path d=\"M 48.982813 224.64 \nL 383.782813 224.64 \nL 383.782813 7.2 \nL 48.982813 7.2 \nz\n\" style=\"fill:#ffffff;\"/>\n   </g>\n   <g id=\"PathCollection_1\">\n    <defs>\n     <path d=\"M 0 3 \nC 0.795609 3 1.55874 2.683901 2.12132 2.12132 \nC 2.683901 1.55874 3 0.795609 3 0 \nC 3 -0.795609 2.683901 -1.55874 2.12132 -2.12132 \nC 1.55874 -2.683901 0.795609 -3 0 -3 \nC -0.795609 -3 -1.55874 -2.683901 -2.12132 -2.12132 \nC -2.683901 -1.55874 -3 -0.795609 -3 0 \nC -3 0.795609 -2.683901 1.55874 -2.12132 2.12132 \nC -1.55874 2.683901 -0.795609 3 0 3 \nz\n\" id=\"m18426ce75c\" style=\"stroke:#008000;stroke-opacity:0.8;\"/>\n    </defs>\n    <g clip-path=\"url(#pf9822f0c04)\">\n     <use style=\"fill:#008000;fill-opacity:0.8;stroke:#008000;stroke-opacity:0.8;\" x=\"383.782812\" xlink:href=\"#m18426ce75c\" y=\"18.680861\"/>\n     <use style=\"fill:#008000;fill-opacity:0.8;stroke:#008000;stroke-opacity:0.8;\" x=\"360.693157\" xlink:href=\"#m18426ce75c\" y=\"69.792057\"/>\n     <use style=\"fill:#008000;fill-opacity:0.8;stroke:#008000;stroke-opacity:0.8;\" x=\"199.065571\" xlink:href=\"#m18426ce75c\" y=\"146.458851\"/>\n     <use style=\"fill:#008000;fill-opacity:0.8;stroke:#008000;stroke-opacity:0.8;\" x=\"374.54695\" xlink:href=\"#m18426ce75c\" y=\"66.597607\"/>\n     <use style=\"fill:#008000;fill-opacity:0.8;stroke:#008000;stroke-opacity:0.8;\" x=\"129.796606\" xlink:href=\"#m18426ce75c\" y=\"162.4311\"/>\n     <use style=\"fill:#008000;fill-opacity:0.8;stroke:#008000;stroke-opacity:0.8;\" x=\"337.603502\" xlink:href=\"#m18426ce75c\" y=\"106.528229\"/>\n     <use style=\"fill:#008000;fill-opacity:0.8;stroke:#008000;stroke-opacity:0.8;\" x=\"360.693157\" xlink:href=\"#m18426ce75c\" y=\"98.542105\"/>\n     <use style=\"fill:#008000;fill-opacity:0.8;stroke:#008000;stroke-opacity:0.8;\" x=\"351.457295\" xlink:href=\"#m18426ce75c\" y=\"85.764306\"/>\n     <use style=\"fill:#008000;fill-opacity:0.8;stroke:#008000;stroke-opacity:0.8;\" x=\"326.058675\" xlink:href=\"#m18426ce75c\" y=\"85.764306\"/>\n     <use style=\"fill:#008000;fill-opacity:0.8;stroke:#008000;stroke-opacity:0.8;\" x=\"48.982813\" xlink:href=\"#m18426ce75c\" y=\"151.250526\"/>\n     <use style=\"fill:#008000;fill-opacity:0.8;stroke:#008000;stroke-opacity:0.8;\" x=\"360.693157\" xlink:href=\"#m18426ce75c\" y=\"17.083636\"/>\n     <use style=\"fill:#008000;fill-opacity:0.8;stroke:#008000;stroke-opacity:0.8;\" x=\"356.075226\" xlink:href=\"#m18426ce75c\" y=\"74.583732\"/>\n     <use style=\"fill:#008000;fill-opacity:0.8;stroke:#008000;stroke-opacity:0.8;\" x=\"201.374537\" xlink:href=\"#m18426ce75c\" y=\"143.264401\"/>\n     <use style=\"fill:#008000;fill-opacity:0.8;stroke:#008000;stroke-opacity:0.8;\" x=\"372.237985\" xlink:href=\"#m18426ce75c\" y=\"52.222584\"/>\n     <use style=\"fill:#008000;fill-opacity:0.8;stroke:#008000;stroke-opacity:0.8;\" x=\"134.414537\" xlink:href=\"#m18426ce75c\" y=\"159.23665\"/>\n     <use style=\"fill:#008000;fill-opacity:0.8;stroke:#008000;stroke-opacity:0.8;\" x=\"344.530399\" xlink:href=\"#m18426ce75c\" y=\"114.514354\"/>\n     <use style=\"fill:#008000;fill-opacity:0.8;stroke:#008000;stroke-opacity:0.8;\" x=\"358.384192\" xlink:href=\"#m18426ce75c\" y=\"93.75043\"/>\n     <use style=\"fill:#008000;fill-opacity:0.8;stroke:#008000;stroke-opacity:0.8;\" x=\"344.530399\" xlink:href=\"#m18426ce75c\" y=\"95.347655\"/>\n     <use style=\"fill:#008000;fill-opacity:0.8;stroke:#008000;stroke-opacity:0.8;\" x=\"316.822812\" xlink:href=\"#m18426ce75c\" y=\"88.958756\"/>\n     <use style=\"fill:#008000;fill-opacity:0.8;stroke:#008000;stroke-opacity:0.8;\" x=\"60.52764\" xlink:href=\"#m18426ce75c\" y=\"156.0422\"/>\n    </g>\n   </g>\n   <g id=\"PolyCollection_1\">\n    <path clip-path=\"url(#pf9822f0c04)\" d=\"M 48.982813 160.656877 \nL 48.982813 214.756364 \nL 52.364631 213.237857 \nL 55.746449 211.71935 \nL 59.128267 210.152998 \nL 62.510085 208.488854 \nL 65.891903 206.824158 \nL 69.273722 205.155845 \nL 72.65554 203.53073 \nL 76.037358 202.022468 \nL 79.419176 200.427221 \nL 82.800994 198.750219 \nL 86.182813 197.072819 \nL 89.564631 195.390049 \nL 92.946449 193.707279 \nL 96.328267 192.024509 \nL 99.710085 190.341739 \nL 103.091903 188.747054 \nL 106.473722 187.08826 \nL 109.85554 185.417886 \nL 113.237358 183.886609 \nL 116.619176 182.355332 \nL 120.000994 180.824055 \nL 123.382813 179.413125 \nL 126.764631 177.883462 \nL 130.146449 176.32994 \nL 133.528267 174.732557 \nL 136.910085 173.167671 \nL 140.291903 171.636394 \nL 143.673722 170.105117 \nL 147.05554 168.565062 \nL 150.437358 167.013267 \nL 153.819176 165.461473 \nL 157.200994 163.909678 \nL 160.582813 162.357884 \nL 163.964631 160.806089 \nL 167.346449 159.254294 \nL 170.728267 157.7025 \nL 174.110085 156.150705 \nL 177.491903 154.59891 \nL 180.873722 153.047116 \nL 184.25554 151.495321 \nL 187.637358 149.943527 \nL 191.019176 148.47234 \nL 194.400994 147.03602 \nL 197.782813 145.5997 \nL 201.164631 144.082434 \nL 204.546449 142.503242 \nL 207.928267 141.246838 \nL 211.310085 139.866914 \nL 214.691903 138.417633 \nL 218.073722 136.829759 \nL 221.45554 135.241884 \nL 224.837358 133.895475 \nL 228.219176 132.607609 \nL 231.600994 131.323065 \nL 234.982813 130.04362 \nL 238.364631 128.757715 \nL 241.746449 127.469935 \nL 245.128267 126.344787 \nL 248.510085 124.903012 \nL 251.891903 123.573594 \nL 255.273722 121.919672 \nL 258.65554 120.801867 \nL 262.037358 119.466109 \nL 265.419176 118.272047 \nL 268.800994 117.074279 \nL 272.182813 115.82735 \nL 275.564631 114.697879 \nL 278.946449 113.451144 \nL 282.328267 111.836843 \nL 285.710085 110.362702 \nL 289.091903 109.334398 \nL 292.473722 108.210061 \nL 295.85554 106.949586 \nL 299.237358 105.985599 \nL 302.619176 104.996143 \nL 306.000994 104.065577 \nL 309.382812 103.121139 \nL 312.764631 102.140252 \nL 316.146449 101.2081 \nL 319.528267 100.253629 \nL 322.910085 99.356395 \nL 326.291903 98.344479 \nL 329.673722 97.337536 \nL 333.05554 96.43129 \nL 336.437358 95.491446 \nL 339.819176 94.631467 \nL 343.200994 93.806611 \nL 346.582812 92.982899 \nL 349.964631 92.10231 \nL 353.346449 91.197267 \nL 356.728267 90.339374 \nL 360.110085 89.481089 \nL 363.491903 88.609024 \nL 366.873722 87.543214 \nL 370.25554 86.631936 \nL 373.637358 85.758341 \nL 377.019176 84.970339 \nL 380.400994 84.182338 \nL 383.782812 83.394336 \nL 383.782812 51.653907 \nL 383.782812 51.653907 \nL 380.400994 53.001764 \nL 377.019176 54.389139 \nL 373.637358 55.793697 \nL 370.25554 57.146597 \nL 366.873722 58.477593 \nL 363.491903 59.747088 \nL 360.110085 61.041971 \nL 356.728267 62.540323 \nL 353.346449 63.820674 \nL 349.964631 65.263259 \nL 346.582812 66.549342 \nL 343.200994 67.835425 \nL 339.819176 69.131869 \nL 336.437358 70.687616 \nL 333.05554 71.849734 \nL 329.673722 72.996548 \nL 326.291903 74.282055 \nL 322.910085 75.361798 \nL 319.528267 76.827647 \nL 316.146449 78.14808 \nL 312.764631 79.345174 \nL 309.382812 80.385739 \nL 306.000994 81.568469 \nL 302.619176 82.654903 \nL 299.237358 83.74662 \nL 295.85554 85.043954 \nL 292.473722 86.389095 \nL 289.091903 87.735165 \nL 285.710085 89.019722 \nL 282.328267 90.195113 \nL 278.946449 91.307595 \nL 275.564631 92.531639 \nL 272.182813 93.789683 \nL 268.800994 94.976857 \nL 265.419176 96.165598 \nL 262.037358 97.340348 \nL 258.65554 98.449586 \nL 255.273722 99.557511 \nL 251.891903 100.660504 \nL 248.510085 101.766264 \nL 245.128267 103.040088 \nL 241.746449 104.357745 \nL 238.364631 105.5955 \nL 234.982813 106.687627 \nL 231.600994 107.773904 \nL 228.219176 108.860181 \nL 224.837358 109.950237 \nL 221.45554 111.021175 \nL 218.073722 112.136054 \nL 214.691903 113.226651 \nL 211.310085 114.338934 \nL 207.928267 115.583267 \nL 204.546449 116.610214 \nL 201.164631 117.586016 \nL 197.782813 118.67186 \nL 194.400994 119.758992 \nL 191.019176 120.725291 \nL 187.637358 121.700888 \nL 184.25554 122.774159 \nL 180.873722 123.718362 \nL 177.491903 124.678305 \nL 174.110085 125.656381 \nL 170.728267 126.762258 \nL 167.346449 127.7038 \nL 163.964631 128.768149 \nL 160.582813 129.770728 \nL 157.200994 130.72496 \nL 153.819176 131.685772 \nL 150.437358 132.627977 \nL 147.05554 133.531923 \nL 143.673722 134.417835 \nL 140.291903 135.393079 \nL 136.910085 136.365802 \nL 133.528267 137.340535 \nL 130.146449 138.314505 \nL 126.764631 139.28919 \nL 123.382813 140.263876 \nL 120.000994 141.247182 \nL 116.619176 142.150272 \nL 113.237358 143.080851 \nL 109.85554 143.996602 \nL 106.473722 145.002615 \nL 103.091903 145.958134 \nL 99.710085 147.009698 \nL 96.328267 147.852447 \nL 92.946449 148.591469 \nL 89.564631 149.440413 \nL 86.182813 150.45105 \nL 82.800994 151.42919 \nL 79.419176 152.158529 \nL 76.037358 152.967955 \nL 72.65554 154.031395 \nL 69.273722 155.095537 \nL 65.891903 156.015256 \nL 62.510085 156.87367 \nL 59.128267 157.732084 \nL 55.746449 158.590499 \nL 52.364631 159.573494 \nL 48.982813 160.656877 \nz\n\" style=\"fill:#008000;fill-opacity:0.15;\"/>\n   </g>\n   <g id=\"matplotlib.axis_1\">\n    <g id=\"xtick_1\">\n     <g id=\"line2d_1\">\n      <defs>\n       <path d=\"M 0 0 \nL 0 3.5 \n\" id=\"m3f0c473810\" style=\"stroke:#000000;stroke-width:0.8;\"/>\n      </defs>\n      <g>\n       <use style=\"stroke:#000000;stroke-width:0.8;\" x=\"60.52764\" xlink:href=\"#m3f0c473810\" y=\"224.64\"/>\n      </g>\n     </g>\n     <g id=\"text_1\">\n      <!-- 40 -->\n      <g transform=\"translate(54.16514 239.238437)scale(0.1 -0.1)\">\n       <defs>\n        <path d=\"M 37.796875 64.3125 \nL 12.890625 25.390625 \nL 37.796875 25.390625 \nz\nM 35.203125 72.90625 \nL 47.609375 72.90625 \nL 47.609375 25.390625 \nL 58.015625 25.390625 \nL 58.015625 17.1875 \nL 47.609375 17.1875 \nL 47.609375 0 \nL 37.796875 0 \nL 37.796875 17.1875 \nL 4.890625 17.1875 \nL 4.890625 26.703125 \nz\n\" id=\"DejaVuSans-52\"/>\n        <path d=\"M 31.78125 66.40625 \nQ 24.171875 66.40625 20.328125 58.90625 \nQ 16.5 51.421875 16.5 36.375 \nQ 16.5 21.390625 20.328125 13.890625 \nQ 24.171875 6.390625 31.78125 6.390625 \nQ 39.453125 6.390625 43.28125 13.890625 \nQ 47.125 21.390625 47.125 36.375 \nQ 47.125 51.421875 43.28125 58.90625 \nQ 39.453125 66.40625 31.78125 66.40625 \nz\nM 31.78125 74.21875 \nQ 44.046875 74.21875 50.515625 64.515625 \nQ 56.984375 54.828125 56.984375 36.375 \nQ 56.984375 17.96875 50.515625 8.265625 \nQ 44.046875 -1.421875 31.78125 -1.421875 \nQ 19.53125 -1.421875 13.0625 8.265625 \nQ 6.59375 17.96875 6.59375 36.375 \nQ 6.59375 54.828125 13.0625 64.515625 \nQ 19.53125 74.21875 31.78125 74.21875 \nz\n\" id=\"DejaVuSans-48\"/>\n       </defs>\n       <use xlink:href=\"#DejaVuSans-52\"/>\n       <use x=\"63.623047\" xlink:href=\"#DejaVuSans-48\"/>\n      </g>\n     </g>\n    </g>\n    <g id=\"xtick_2\">\n     <g id=\"line2d_2\">\n      <g>\n       <use style=\"stroke:#000000;stroke-width:0.8;\" x=\"106.70695\" xlink:href=\"#m3f0c473810\" y=\"224.64\"/>\n      </g>\n     </g>\n     <g id=\"text_2\">\n      <!-- 60 -->\n      <g transform=\"translate(100.34445 239.238437)scale(0.1 -0.1)\">\n       <defs>\n        <path d=\"M 33.015625 40.375 \nQ 26.375 40.375 22.484375 35.828125 \nQ 18.609375 31.296875 18.609375 23.390625 \nQ 18.609375 15.53125 22.484375 10.953125 \nQ 26.375 6.390625 33.015625 6.390625 \nQ 39.65625 6.390625 43.53125 10.953125 \nQ 47.40625 15.53125 47.40625 23.390625 \nQ 47.40625 31.296875 43.53125 35.828125 \nQ 39.65625 40.375 33.015625 40.375 \nz\nM 52.59375 71.296875 \nL 52.59375 62.3125 \nQ 48.875 64.0625 45.09375 64.984375 \nQ 41.3125 65.921875 37.59375 65.921875 \nQ 27.828125 65.921875 22.671875 59.328125 \nQ 17.53125 52.734375 16.796875 39.40625 \nQ 19.671875 43.65625 24.015625 45.921875 \nQ 28.375 48.1875 33.59375 48.1875 \nQ 44.578125 48.1875 50.953125 41.515625 \nQ 57.328125 34.859375 57.328125 23.390625 \nQ 57.328125 12.15625 50.6875 5.359375 \nQ 44.046875 -1.421875 33.015625 -1.421875 \nQ 20.359375 -1.421875 13.671875 8.265625 \nQ 6.984375 17.96875 6.984375 36.375 \nQ 6.984375 53.65625 15.1875 63.9375 \nQ 23.390625 74.21875 37.203125 74.21875 \nQ 40.921875 74.21875 44.703125 73.484375 \nQ 48.484375 72.75 52.59375 71.296875 \nz\n\" id=\"DejaVuSans-54\"/>\n       </defs>\n       <use xlink:href=\"#DejaVuSans-54\"/>\n       <use x=\"63.623047\" xlink:href=\"#DejaVuSans-48\"/>\n      </g>\n     </g>\n    </g>\n    <g id=\"xtick_3\">\n     <g id=\"line2d_3\">\n      <g>\n       <use style=\"stroke:#000000;stroke-width:0.8;\" x=\"152.886261\" xlink:href=\"#m3f0c473810\" y=\"224.64\"/>\n      </g>\n     </g>\n     <g id=\"text_3\">\n      <!-- 80 -->\n      <g transform=\"translate(146.523761 239.238437)scale(0.1 -0.1)\">\n       <defs>\n        <path d=\"M 31.78125 34.625 \nQ 24.75 34.625 20.71875 30.859375 \nQ 16.703125 27.09375 16.703125 20.515625 \nQ 16.703125 13.921875 20.71875 10.15625 \nQ 24.75 6.390625 31.78125 6.390625 \nQ 38.8125 6.390625 42.859375 10.171875 \nQ 46.921875 13.96875 46.921875 20.515625 \nQ 46.921875 27.09375 42.890625 30.859375 \nQ 38.875 34.625 31.78125 34.625 \nz\nM 21.921875 38.8125 \nQ 15.578125 40.375 12.03125 44.71875 \nQ 8.5 49.078125 8.5 55.328125 \nQ 8.5 64.0625 14.71875 69.140625 \nQ 20.953125 74.21875 31.78125 74.21875 \nQ 42.671875 74.21875 48.875 69.140625 \nQ 55.078125 64.0625 55.078125 55.328125 \nQ 55.078125 49.078125 51.53125 44.71875 \nQ 48 40.375 41.703125 38.8125 \nQ 48.828125 37.15625 52.796875 32.3125 \nQ 56.78125 27.484375 56.78125 20.515625 \nQ 56.78125 9.90625 50.3125 4.234375 \nQ 43.84375 -1.421875 31.78125 -1.421875 \nQ 19.734375 -1.421875 13.25 4.234375 \nQ 6.78125 9.90625 6.78125 20.515625 \nQ 6.78125 27.484375 10.78125 32.3125 \nQ 14.796875 37.15625 21.921875 38.8125 \nz\nM 18.3125 54.390625 \nQ 18.3125 48.734375 21.84375 45.5625 \nQ 25.390625 42.390625 31.78125 42.390625 \nQ 38.140625 42.390625 41.71875 45.5625 \nQ 45.3125 48.734375 45.3125 54.390625 \nQ 45.3125 60.0625 41.71875 63.234375 \nQ 38.140625 66.40625 31.78125 66.40625 \nQ 25.390625 66.40625 21.84375 63.234375 \nQ 18.3125 60.0625 18.3125 54.390625 \nz\n\" id=\"DejaVuSans-56\"/>\n       </defs>\n       <use xlink:href=\"#DejaVuSans-56\"/>\n       <use x=\"63.623047\" xlink:href=\"#DejaVuSans-48\"/>\n      </g>\n     </g>\n    </g>\n    <g id=\"xtick_4\">\n     <g id=\"line2d_4\">\n      <g>\n       <use style=\"stroke:#000000;stroke-width:0.8;\" x=\"199.065571\" xlink:href=\"#m3f0c473810\" y=\"224.64\"/>\n      </g>\n     </g>\n     <g id=\"text_4\">\n      <!-- 100 -->\n      <g transform=\"translate(189.521821 239.238437)scale(0.1 -0.1)\">\n       <defs>\n        <path d=\"M 12.40625 8.296875 \nL 28.515625 8.296875 \nL 28.515625 63.921875 \nL 10.984375 60.40625 \nL 10.984375 69.390625 \nL 28.421875 72.90625 \nL 38.28125 72.90625 \nL 38.28125 8.296875 \nL 54.390625 8.296875 \nL 54.390625 0 \nL 12.40625 0 \nz\n\" id=\"DejaVuSans-49\"/>\n       </defs>\n       <use xlink:href=\"#DejaVuSans-49\"/>\n       <use x=\"63.623047\" xlink:href=\"#DejaVuSans-48\"/>\n       <use x=\"127.246094\" xlink:href=\"#DejaVuSans-48\"/>\n      </g>\n     </g>\n    </g>\n    <g id=\"xtick_5\">\n     <g id=\"line2d_5\">\n      <g>\n       <use style=\"stroke:#000000;stroke-width:0.8;\" x=\"245.244881\" xlink:href=\"#m3f0c473810\" y=\"224.64\"/>\n      </g>\n     </g>\n     <g id=\"text_5\">\n      <!-- 120 -->\n      <g transform=\"translate(235.701131 239.238437)scale(0.1 -0.1)\">\n       <defs>\n        <path d=\"M 19.1875 8.296875 \nL 53.609375 8.296875 \nL 53.609375 0 \nL 7.328125 0 \nL 7.328125 8.296875 \nQ 12.9375 14.109375 22.625 23.890625 \nQ 32.328125 33.6875 34.8125 36.53125 \nQ 39.546875 41.84375 41.421875 45.53125 \nQ 43.3125 49.21875 43.3125 52.78125 \nQ 43.3125 58.59375 39.234375 62.25 \nQ 35.15625 65.921875 28.609375 65.921875 \nQ 23.96875 65.921875 18.8125 64.3125 \nQ 13.671875 62.703125 7.8125 59.421875 \nL 7.8125 69.390625 \nQ 13.765625 71.78125 18.9375 73 \nQ 24.125 74.21875 28.421875 74.21875 \nQ 39.75 74.21875 46.484375 68.546875 \nQ 53.21875 62.890625 53.21875 53.421875 \nQ 53.21875 48.921875 51.53125 44.890625 \nQ 49.859375 40.875 45.40625 35.40625 \nQ 44.1875 33.984375 37.640625 27.21875 \nQ 31.109375 20.453125 19.1875 8.296875 \nz\n\" id=\"DejaVuSans-50\"/>\n       </defs>\n       <use xlink:href=\"#DejaVuSans-49\"/>\n       <use x=\"63.623047\" xlink:href=\"#DejaVuSans-50\"/>\n       <use x=\"127.246094\" xlink:href=\"#DejaVuSans-48\"/>\n      </g>\n     </g>\n    </g>\n    <g id=\"xtick_6\">\n     <g id=\"line2d_6\">\n      <g>\n       <use style=\"stroke:#000000;stroke-width:0.8;\" x=\"291.424192\" xlink:href=\"#m3f0c473810\" y=\"224.64\"/>\n      </g>\n     </g>\n     <g id=\"text_6\">\n      <!-- 140 -->\n      <g transform=\"translate(281.880442 239.238437)scale(0.1 -0.1)\">\n       <use xlink:href=\"#DejaVuSans-49\"/>\n       <use x=\"63.623047\" xlink:href=\"#DejaVuSans-52\"/>\n       <use x=\"127.246094\" xlink:href=\"#DejaVuSans-48\"/>\n      </g>\n     </g>\n    </g>\n    <g id=\"xtick_7\">\n     <g id=\"line2d_7\">\n      <g>\n       <use style=\"stroke:#000000;stroke-width:0.8;\" x=\"337.603502\" xlink:href=\"#m3f0c473810\" y=\"224.64\"/>\n      </g>\n     </g>\n     <g id=\"text_7\">\n      <!-- 160 -->\n      <g transform=\"translate(328.059752 239.238437)scale(0.1 -0.1)\">\n       <use xlink:href=\"#DejaVuSans-49\"/>\n       <use x=\"63.623047\" xlink:href=\"#DejaVuSans-54\"/>\n       <use x=\"127.246094\" xlink:href=\"#DejaVuSans-48\"/>\n      </g>\n     </g>\n    </g>\n    <g id=\"xtick_8\">\n     <g id=\"line2d_8\">\n      <g>\n       <use style=\"stroke:#000000;stroke-width:0.8;\" x=\"383.782812\" xlink:href=\"#m3f0c473810\" y=\"224.64\"/>\n      </g>\n     </g>\n     <g id=\"text_8\">\n      <!-- 180 -->\n      <g transform=\"translate(374.239062 239.238437)scale(0.1 -0.1)\">\n       <use xlink:href=\"#DejaVuSans-49\"/>\n       <use x=\"63.623047\" xlink:href=\"#DejaVuSans-56\"/>\n       <use x=\"127.246094\" xlink:href=\"#DejaVuSans-48\"/>\n      </g>\n     </g>\n    </g>\n    <g id=\"text_9\">\n     <!-- height -->\n     <g transform=\"translate(200.445312 252.916562)scale(0.1 -0.1)\">\n      <defs>\n       <path d=\"M 54.890625 33.015625 \nL 54.890625 0 \nL 45.90625 0 \nL 45.90625 32.71875 \nQ 45.90625 40.484375 42.875 44.328125 \nQ 39.84375 48.1875 33.796875 48.1875 \nQ 26.515625 48.1875 22.3125 43.546875 \nQ 18.109375 38.921875 18.109375 30.90625 \nL 18.109375 0 \nL 9.078125 0 \nL 9.078125 75.984375 \nL 18.109375 75.984375 \nL 18.109375 46.1875 \nQ 21.34375 51.125 25.703125 53.5625 \nQ 30.078125 56 35.796875 56 \nQ 45.21875 56 50.046875 50.171875 \nQ 54.890625 44.34375 54.890625 33.015625 \nz\n\" id=\"DejaVuSans-104\"/>\n       <path d=\"M 56.203125 29.59375 \nL 56.203125 25.203125 \nL 14.890625 25.203125 \nQ 15.484375 15.921875 20.484375 11.0625 \nQ 25.484375 6.203125 34.421875 6.203125 \nQ 39.59375 6.203125 44.453125 7.46875 \nQ 49.3125 8.734375 54.109375 11.28125 \nL 54.109375 2.78125 \nQ 49.265625 0.734375 44.1875 -0.34375 \nQ 39.109375 -1.421875 33.890625 -1.421875 \nQ 20.796875 -1.421875 13.15625 6.1875 \nQ 5.515625 13.8125 5.515625 26.8125 \nQ 5.515625 40.234375 12.765625 48.109375 \nQ 20.015625 56 32.328125 56 \nQ 43.359375 56 49.78125 48.890625 \nQ 56.203125 41.796875 56.203125 29.59375 \nz\nM 47.21875 32.234375 \nQ 47.125 39.59375 43.09375 43.984375 \nQ 39.0625 48.390625 32.421875 48.390625 \nQ 24.90625 48.390625 20.390625 44.140625 \nQ 15.875 39.890625 15.1875 32.171875 \nz\n\" id=\"DejaVuSans-101\"/>\n       <path d=\"M 9.421875 54.6875 \nL 18.40625 54.6875 \nL 18.40625 0 \nL 9.421875 0 \nz\nM 9.421875 75.984375 \nL 18.40625 75.984375 \nL 18.40625 64.59375 \nL 9.421875 64.59375 \nz\n\" id=\"DejaVuSans-105\"/>\n       <path d=\"M 45.40625 27.984375 \nQ 45.40625 37.75 41.375 43.109375 \nQ 37.359375 48.484375 30.078125 48.484375 \nQ 22.859375 48.484375 18.828125 43.109375 \nQ 14.796875 37.75 14.796875 27.984375 \nQ 14.796875 18.265625 18.828125 12.890625 \nQ 22.859375 7.515625 30.078125 7.515625 \nQ 37.359375 7.515625 41.375 12.890625 \nQ 45.40625 18.265625 45.40625 27.984375 \nz\nM 54.390625 6.78125 \nQ 54.390625 -7.171875 48.1875 -13.984375 \nQ 42 -20.796875 29.203125 -20.796875 \nQ 24.46875 -20.796875 20.265625 -20.09375 \nQ 16.0625 -19.390625 12.109375 -17.921875 \nL 12.109375 -9.1875 \nQ 16.0625 -11.328125 19.921875 -12.34375 \nQ 23.78125 -13.375 27.78125 -13.375 \nQ 36.625 -13.375 41.015625 -8.765625 \nQ 45.40625 -4.15625 45.40625 5.171875 \nL 45.40625 9.625 \nQ 42.625 4.78125 38.28125 2.390625 \nQ 33.9375 0 27.875 0 \nQ 17.828125 0 11.671875 7.65625 \nQ 5.515625 15.328125 5.515625 27.984375 \nQ 5.515625 40.671875 11.671875 48.328125 \nQ 17.828125 56 27.875 56 \nQ 33.9375 56 38.28125 53.609375 \nQ 42.625 51.21875 45.40625 46.390625 \nL 45.40625 54.6875 \nL 54.390625 54.6875 \nz\n\" id=\"DejaVuSans-103\"/>\n       <path d=\"M 18.3125 70.21875 \nL 18.3125 54.6875 \nL 36.8125 54.6875 \nL 36.8125 47.703125 \nL 18.3125 47.703125 \nL 18.3125 18.015625 \nQ 18.3125 11.328125 20.140625 9.421875 \nQ 21.96875 7.515625 27.59375 7.515625 \nL 36.8125 7.515625 \nL 36.8125 0 \nL 27.59375 0 \nQ 17.1875 0 13.234375 3.875 \nQ 9.28125 7.765625 9.28125 18.015625 \nL 9.28125 47.703125 \nL 2.6875 47.703125 \nL 2.6875 54.6875 \nL 9.28125 54.6875 \nL 9.28125 70.21875 \nz\n\" id=\"DejaVuSans-116\"/>\n      </defs>\n      <use xlink:href=\"#DejaVuSans-104\"/>\n      <use x=\"63.378906\" xlink:href=\"#DejaVuSans-101\"/>\n      <use x=\"124.902344\" xlink:href=\"#DejaVuSans-105\"/>\n      <use x=\"152.685547\" xlink:href=\"#DejaVuSans-103\"/>\n      <use x=\"216.162109\" xlink:href=\"#DejaVuSans-104\"/>\n      <use x=\"279.541016\" xlink:href=\"#DejaVuSans-116\"/>\n     </g>\n    </g>\n   </g>\n   <g id=\"matplotlib.axis_2\">\n    <g id=\"ytick_1\">\n     <g id=\"line2d_9\">\n      <defs>\n       <path d=\"M 0 0 \nL -3.5 0 \n\" id=\"m02130b9d4d\" style=\"stroke:#000000;stroke-width:0.8;\"/>\n      </defs>\n      <g>\n       <use style=\"stroke:#000000;stroke-width:0.8;\" x=\"48.982813\" xlink:href=\"#m02130b9d4d\" y=\"210.347846\"/>\n      </g>\n     </g>\n     <g id=\"text_10\">\n      <!-- −20 -->\n      <g transform=\"translate(20.878125 214.147065)scale(0.1 -0.1)\">\n       <defs>\n        <path d=\"M 10.59375 35.5 \nL 73.1875 35.5 \nL 73.1875 27.203125 \nL 10.59375 27.203125 \nz\n\" id=\"DejaVuSans-8722\"/>\n       </defs>\n       <use xlink:href=\"#DejaVuSans-8722\"/>\n       <use x=\"83.789062\" xlink:href=\"#DejaVuSans-50\"/>\n       <use x=\"147.412109\" xlink:href=\"#DejaVuSans-48\"/>\n      </g>\n     </g>\n    </g>\n    <g id=\"ytick_2\">\n     <g id=\"line2d_10\">\n      <g>\n       <use style=\"stroke:#000000;stroke-width:0.8;\" x=\"48.982813\" xlink:href=\"#m02130b9d4d\" y=\"178.403348\"/>\n      </g>\n     </g>\n     <g id=\"text_11\">\n      <!-- 0 -->\n      <g transform=\"translate(35.620312 182.202567)scale(0.1 -0.1)\">\n       <use xlink:href=\"#DejaVuSans-48\"/>\n      </g>\n     </g>\n    </g>\n    <g id=\"ytick_3\">\n     <g id=\"line2d_11\">\n      <g>\n       <use style=\"stroke:#000000;stroke-width:0.8;\" x=\"48.982813\" xlink:href=\"#m02130b9d4d\" y=\"146.458851\"/>\n      </g>\n     </g>\n     <g id=\"text_12\">\n      <!-- 20 -->\n      <g transform=\"translate(29.257812 150.25807)scale(0.1 -0.1)\">\n       <use xlink:href=\"#DejaVuSans-50\"/>\n       <use x=\"63.623047\" xlink:href=\"#DejaVuSans-48\"/>\n      </g>\n     </g>\n    </g>\n    <g id=\"ytick_4\">\n     <g id=\"line2d_12\">\n      <g>\n       <use style=\"stroke:#000000;stroke-width:0.8;\" x=\"48.982813\" xlink:href=\"#m02130b9d4d\" y=\"114.514354\"/>\n      </g>\n     </g>\n     <g id=\"text_13\">\n      <!-- 40 -->\n      <g transform=\"translate(29.257812 118.313572)scale(0.1 -0.1)\">\n       <use xlink:href=\"#DejaVuSans-52\"/>\n       <use x=\"63.623047\" xlink:href=\"#DejaVuSans-48\"/>\n      </g>\n     </g>\n    </g>\n    <g id=\"ytick_5\">\n     <g id=\"line2d_13\">\n      <g>\n       <use style=\"stroke:#000000;stroke-width:0.8;\" x=\"48.982813\" xlink:href=\"#m02130b9d4d\" y=\"82.569856\"/>\n      </g>\n     </g>\n     <g id=\"text_14\">\n      <!-- 60 -->\n      <g transform=\"translate(29.257812 86.369075)scale(0.1 -0.1)\">\n       <use xlink:href=\"#DejaVuSans-54\"/>\n       <use x=\"63.623047\" xlink:href=\"#DejaVuSans-48\"/>\n      </g>\n     </g>\n    </g>\n    <g id=\"ytick_6\">\n     <g id=\"line2d_14\">\n      <g>\n       <use style=\"stroke:#000000;stroke-width:0.8;\" x=\"48.982813\" xlink:href=\"#m02130b9d4d\" y=\"50.625359\"/>\n      </g>\n     </g>\n     <g id=\"text_15\">\n      <!-- 80 -->\n      <g transform=\"translate(29.257812 54.424577)scale(0.1 -0.1)\">\n       <use xlink:href=\"#DejaVuSans-56\"/>\n       <use x=\"63.623047\" xlink:href=\"#DejaVuSans-48\"/>\n      </g>\n     </g>\n    </g>\n    <g id=\"ytick_7\">\n     <g id=\"line2d_15\">\n      <g>\n       <use style=\"stroke:#000000;stroke-width:0.8;\" x=\"48.982813\" xlink:href=\"#m02130b9d4d\" y=\"18.680861\"/>\n      </g>\n     </g>\n     <g id=\"text_16\">\n      <!-- 100 -->\n      <g transform=\"translate(22.895312 22.48008)scale(0.1 -0.1)\">\n       <use xlink:href=\"#DejaVuSans-49\"/>\n       <use x=\"63.623047\" xlink:href=\"#DejaVuSans-48\"/>\n       <use x=\"127.246094\" xlink:href=\"#DejaVuSans-48\"/>\n      </g>\n     </g>\n    </g>\n    <g id=\"text_17\">\n     <!-- weight -->\n     <g transform=\"translate(14.798437 132.777812)rotate(-90)scale(0.1 -0.1)\">\n      <defs>\n       <path d=\"M 4.203125 54.6875 \nL 13.1875 54.6875 \nL 24.421875 12.015625 \nL 35.59375 54.6875 \nL 46.1875 54.6875 \nL 57.421875 12.015625 \nL 68.609375 54.6875 \nL 77.59375 54.6875 \nL 63.28125 0 \nL 52.6875 0 \nL 40.921875 44.828125 \nL 29.109375 0 \nL 18.5 0 \nz\n\" id=\"DejaVuSans-119\"/>\n      </defs>\n      <use xlink:href=\"#DejaVuSans-119\"/>\n      <use x=\"81.787109\" xlink:href=\"#DejaVuSans-101\"/>\n      <use x=\"143.310547\" xlink:href=\"#DejaVuSans-105\"/>\n      <use x=\"171.09375\" xlink:href=\"#DejaVuSans-103\"/>\n      <use x=\"234.570312\" xlink:href=\"#DejaVuSans-104\"/>\n      <use x=\"297.949219\" xlink:href=\"#DejaVuSans-116\"/>\n     </g>\n    </g>\n   </g>\n   <g id=\"line2d_16\">\n    <path clip-path=\"url(#pf9822f0c04)\" d=\"M 48.982813 177.28372 \nL 52.364631 176.172143 \nL 55.746449 175.060566 \nL 59.128267 173.948989 \nL 62.510085 172.837413 \nL 65.891903 171.725836 \nL 69.273722 170.614259 \nL 72.65554 169.502682 \nL 76.037358 168.391105 \nL 79.419176 167.279528 \nL 82.800994 166.167951 \nL 86.182813 165.056375 \nL 89.564631 163.944798 \nL 92.946449 162.833221 \nL 96.328267 161.721644 \nL 99.710085 160.610067 \nL 103.091903 159.49849 \nL 106.473722 158.386913 \nL 109.85554 157.275337 \nL 113.237358 156.16376 \nL 116.619176 155.052183 \nL 120.000994 153.940606 \nL 123.382813 152.829029 \nL 126.764631 151.717452 \nL 130.146449 150.605875 \nL 133.528267 149.494299 \nL 136.910085 148.382722 \nL 140.291903 147.271145 \nL 143.673722 146.159568 \nL 147.05554 145.047991 \nL 150.437358 143.936414 \nL 153.819176 142.824837 \nL 157.200994 141.713261 \nL 160.582813 140.601684 \nL 163.964631 139.490107 \nL 167.346449 138.37853 \nL 170.728267 137.266953 \nL 174.110085 136.155376 \nL 177.491903 135.043799 \nL 180.873722 133.932223 \nL 184.25554 132.820646 \nL 187.637358 131.709069 \nL 191.019176 130.597492 \nL 194.400994 129.485915 \nL 197.782813 128.374338 \nL 201.164631 127.262761 \nL 204.546449 126.151185 \nL 207.928267 125.039608 \nL 211.310085 123.928031 \nL 214.691903 122.816454 \nL 218.073722 121.704877 \nL 221.45554 120.5933 \nL 224.837358 119.481723 \nL 228.219176 118.370147 \nL 231.600994 117.25857 \nL 234.982813 116.146993 \nL 238.364631 115.035416 \nL 241.746449 113.923839 \nL 245.128267 112.812262 \nL 248.510085 111.700685 \nL 251.891903 110.589109 \nL 255.273722 109.477532 \nL 258.65554 108.365955 \nL 262.037358 107.254378 \nL 265.419176 106.142801 \nL 268.800994 105.031224 \nL 272.182813 103.919647 \nL 275.564631 102.80807 \nL 278.946449 101.696494 \nL 282.328267 100.584917 \nL 285.710085 99.47334 \nL 289.091903 98.361763 \nL 292.473722 97.250186 \nL 295.85554 96.138609 \nL 299.237358 95.027032 \nL 302.619176 93.915456 \nL 306.000994 92.803879 \nL 309.382812 91.692302 \nL 312.764631 90.580725 \nL 316.146449 89.469148 \nL 319.528267 88.357571 \nL 322.910085 87.245994 \nL 326.291903 86.134418 \nL 329.673722 85.022841 \nL 333.05554 83.911264 \nL 336.437358 82.799687 \nL 339.819176 81.68811 \nL 343.200994 80.576533 \nL 346.582812 79.464956 \nL 349.964631 78.35338 \nL 353.346449 77.241803 \nL 356.728267 76.130226 \nL 360.110085 75.018649 \nL 363.491903 73.907072 \nL 366.873722 72.795495 \nL 370.25554 71.683918 \nL 373.637358 70.572342 \nL 377.019176 69.460765 \nL 380.400994 68.349188 \nL 383.782812 67.237611 \n\" style=\"fill:none;stroke:#008000;stroke-linecap:square;stroke-width:2.25;\"/>\n   </g>\n   <g id=\"patch_3\">\n    <path d=\"M 48.982813 224.64 \nL 48.982813 7.2 \n\" style=\"fill:none;stroke:#000000;stroke-linecap:square;stroke-linejoin:miter;stroke-width:0.8;\"/>\n   </g>\n   <g id=\"patch_4\">\n    <path d=\"M 383.782813 224.64 \nL 383.782813 7.2 \n\" style=\"fill:none;stroke:#000000;stroke-linecap:square;stroke-linejoin:miter;stroke-width:0.8;\"/>\n   </g>\n   <g id=\"patch_5\">\n    <path d=\"M 48.982813 224.64 \nL 383.782812 224.64 \n\" style=\"fill:none;stroke:#000000;stroke-linecap:square;stroke-linejoin:miter;stroke-width:0.8;\"/>\n   </g>\n   <g id=\"patch_6\">\n    <path d=\"M 48.982813 7.2 \nL 383.782812 7.2 \n\" style=\"fill:none;stroke:#000000;stroke-linecap:square;stroke-linejoin:miter;stroke-width:0.8;\"/>\n   </g>\n  </g>\n </g>\n <defs>\n  <clipPath id=\"pf9822f0c04\">\n   <rect height=\"217.44\" width=\"334.8\" x=\"48.982813\" y=\"7.2\"/>\n  </clipPath>\n </defs>\n</svg>\n",
      "image/png": "[encoded data removed]"
     },
     "metadata": {
      "needs_background": "light"
     }
    }
   ],
   "source": [
    "g = sns.regplot(x=\"height\", y=\"weight\", color=\"g\",data=data)\n",
    "#年齡和身高有關連"
   ]
  },
  {
   "cell_type": "markdown",
   "metadata": {},
   "source": [
    "## 離散 vs 離散\n",
    "  本範例透過 Cramér's V ，看失眠的狀態和性別相關性"
   ]
  },
  {
   "cell_type": "code",
   "execution_count": 11,
   "metadata": {
    "collapsed": true
   },
   "outputs": [
    {
     "output_type": "error",
     "ename": "ModuleNotFoundError",
     "evalue": "No module named 'researchpy'",
     "traceback": [
      "\u001b[0;31m---------------------------------------------------------------------------\u001b[0m",
      "\u001b[0;31mModuleNotFoundError\u001b[0m                       Traceback (most recent call last)",
      "\u001b[0;32m<ipython-input-11-513780f32269>\u001b[0m in \u001b[0;36m<module>\u001b[0;34m\u001b[0m\n\u001b[1;32m      2\u001b[0m \u001b[0;31m#!pip install researchpy\u001b[0m\u001b[0;34m\u001b[0m\u001b[0;34m\u001b[0m\u001b[0;34m\u001b[0m\u001b[0m\n\u001b[1;32m      3\u001b[0m \u001b[0;34m\u001b[0m\u001b[0m\n\u001b[0;32m----> 4\u001b[0;31m \u001b[0;32mimport\u001b[0m \u001b[0mresearchpy\u001b[0m\u001b[0;34m\u001b[0m\u001b[0;34m\u001b[0m\u001b[0m\n\u001b[0m\u001b[1;32m      5\u001b[0m \u001b[0;31m# https://researchpy.readthedocs.io/\u001b[0m\u001b[0;34m\u001b[0m\u001b[0;34m\u001b[0m\u001b[0;34m\u001b[0m\u001b[0m\n",
      "\u001b[0;31mModuleNotFoundError\u001b[0m: No module named 'researchpy'"
     ]
    }
   ],
   "source": [
    "#如果沒有安裝過，先把下一行程式碼打開，先安裝套件 \n",
    "#!pip install researchpy\n",
    "\n",
    "import researchpy   \n",
    "# https://researchpy.readthedocs.io/"
   ]
  },
  {
   "cell_type": "markdown",
   "metadata": {},
   "source": [
    "## step1: 用交叉列連表(contingency table)，來整理兩個類別型的資料"
   ]
  },
  {
   "cell_type": "code",
   "execution_count": 97,
   "metadata": {},
   "outputs": [
    {
     "data": {
      "text/html": [
       "<div>\n",
       "<style scoped>\n",
       "    .dataframe tbody tr th:only-of-type {\n",
       "        vertical-align: middle;\n",
       "    }\n",
       "\n",
       "    .dataframe tbody tr th {\n",
       "        vertical-align: top;\n",
       "    }\n",
       "\n",
       "    .dataframe thead th {\n",
       "        text-align: right;\n",
       "    }\n",
       "</style>\n",
       "<table border=\"1\" class=\"dataframe\">\n",
       "  <thead>\n",
       "    <tr style=\"text-align: right;\">\n",
       "      <th>insomnia</th>\n",
       "      <th>N</th>\n",
       "      <th>Y</th>\n",
       "    </tr>\n",
       "    <tr>\n",
       "      <th>sex</th>\n",
       "      <th></th>\n",
       "      <th></th>\n",
       "    </tr>\n",
       "  </thead>\n",
       "  <tbody>\n",
       "    <tr>\n",
       "      <th>Female</th>\n",
       "      <td>4</td>\n",
       "      <td>6</td>\n",
       "    </tr>\n",
       "    <tr>\n",
       "      <th>Male</th>\n",
       "      <td>8</td>\n",
       "      <td>2</td>\n",
       "    </tr>\n",
       "  </tbody>\n",
       "</table>\n",
       "</div>"
      ],
      "text/plain": [
       "insomnia  N  Y\n",
       "sex           \n",
       "Female    4  6\n",
       "Male      8  2"
      ]
     },
     "execution_count": 97,
     "metadata": {},
     "output_type": "execute_result"
    }
   ],
   "source": [
    "contTable = pd.crosstab(data['sex'], data['insomnia'])\n",
    "contTable"
   ]
  },
  {
   "cell_type": "markdown",
   "metadata": {},
   "source": [
    "## Step2:計算資料自由度 df*\n"
   ]
  },
  {
   "cell_type": "code",
   "execution_count": 98,
   "metadata": {},
   "outputs": [
    {
     "data": {
      "text/plain": [
       "1"
      ]
     },
     "execution_count": 98,
     "metadata": {},
     "output_type": "execute_result"
    }
   ],
   "source": [
    "df = min(contTable.shape[0], contTable.shape[1]) - 1\n",
    "df"
   ]
  },
  {
   "cell_type": "markdown",
   "metadata": {},
   "source": [
    "## Step3:運用 researchpy 套件，計算出 Cramer’s V 係數\n"
   ]
  },
  {
   "cell_type": "code",
   "execution_count": 99,
   "metadata": {},
   "outputs": [
    {
     "name": "stdout",
     "output_type": "stream",
     "text": [
      "Cramer's value is 0.4082\n"
     ]
    }
   ],
   "source": [
    "crosstab, res = researchpy.crosstab(data['sex'], data['insomnia'], test='chi-square')\n",
    "#print(res)\n",
    "print(\"Cramer's value is\",res.loc[2,'results'])\n",
    "\n",
    "#這邊用卡方檢定獨立性，所以採用的 test 參數為卡方 \"test =\" argument.\n",
    "# 採用的變數在這個模組中，會自己根據資料集來判斷，Cramer's Phi if it a 2x2 table, or Cramer's V is larger than 2x2."
   ]
  },
  {
   "cell_type": "code",
   "execution_count": 100,
   "metadata": {},
   "outputs": [
    {
     "data": {
      "text/plain": [
       "'medium'"
      ]
     },
     "execution_count": 100,
     "metadata": {},
     "output_type": "execute_result"
    }
   ],
   "source": [
    "## 寫一個副程式判斷相關性的強度\n",
    "def judgment_CramerV(df,V):\n",
    "    if df == 1:\n",
    "        if V < 0.10:\n",
    "            qual = 'negligible'\n",
    "        elif V < 0.30:\n",
    "            qual = 'small'\n",
    "        elif V < 0.50:\n",
    "            qual = 'medium'\n",
    "        else:\n",
    "            qual = 'large'\n",
    "    elif df == 2:\n",
    "        if V < 0.07:\n",
    "            qual = 'negligible'\n",
    "        elif V < 0.21:\n",
    "            qual = 'small'\n",
    "        elif V < 0.35:\n",
    "            qual = 'medium'\n",
    "        else:\n",
    "            qual = 'large'\n",
    "    elif df == 3:\n",
    "        if V < 0.06:\n",
    "            qual = 'negligible'\n",
    "        elif V < 0.17:\n",
    "            qual = 'small'\n",
    "        elif V < 0.29:\n",
    "            qual = 'medium'\n",
    "        else:\n",
    "            qual = 'large'\n",
    "    elif df == 4:\n",
    "        if V < 0.05:\n",
    "            qual = 'negligible'\n",
    "        elif V < 0.15:\n",
    "            qual = 'small'\n",
    "        elif V < 0.25:\n",
    "            qual = 'medium'\n",
    "        else:\n",
    "            qual = 'large'\n",
    "    else:\n",
    "        if V < 0.05:\n",
    "            qual = 'negligible'\n",
    "        elif V < 0.13:\n",
    "            qual = 'small'\n",
    "        elif V < 0.22:\n",
    "            qual = 'medium'\n",
    "        else:\n",
    "            qual = 'large'\n",
    "    return(qual)\n",
    "\n",
    "judgment_CramerV(df,res.loc[2,'results'])"
   ]
  },
  {
   "cell_type": "markdown",
   "metadata": {},
   "source": [
    "### 此案例的失眠狀態和性別這兩個變數，呈現中度相關"
   ]
  },
  {
   "cell_type": "markdown",
   "metadata": {},
   "source": [
    "## 搭配圖形觀察"
   ]
  },
  {
   "cell_type": "code",
   "execution_count": 101,
   "metadata": {},
   "outputs": [
    {
     "data": {
      "image/png": "[encoded data removed]",
      "text/plain": [
       "<Figure size 432x288 with 1 Axes>"
      ]
     },
     "metadata": {},
     "output_type": "display_data"
    }
   ],
   "source": [
    "g= sns.countplot(x=\"sex\", hue=\"insomnia\", data=data)"
   ]
  },
  {
   "cell_type": "markdown",
   "metadata": {},
   "source": [
    "## 離散 vs 連續 Eta Squared(η2)\n",
    "  本範例透過 Eta Squared ，看失眠的狀態和體重相關性"
   ]
  },
  {
   "cell_type": "code",
   "execution_count": 108,
   "metadata": {
    "collapsed": true
   },
   "outputs": [],
   "source": [
    "#如果沒有安裝過，先把下一行程式碼打開，先安裝套件 \n",
    "#!pip install pingouin\n",
    "import pingouin as pg"
   ]
  },
  {
   "cell_type": "markdown",
   "metadata": {},
   "source": [
    "### Step1: 取出失眠和體重資料\n",
    "###  Step2:運用 pg.anova 計算三種變異數"
   ]
  },
  {
   "cell_type": "code",
   "execution_count": 103,
   "metadata": {},
   "outputs": [
    {
     "data": {
      "text/html": [
       "<div>\n",
       "<style scoped>\n",
       "    .dataframe tbody tr th:only-of-type {\n",
       "        vertical-align: middle;\n",
       "    }\n",
       "\n",
       "    .dataframe tbody tr th {\n",
       "        vertical-align: top;\n",
       "    }\n",
       "\n",
       "    .dataframe thead th {\n",
       "        text-align: right;\n",
       "    }\n",
       "</style>\n",
       "<table border=\"1\" class=\"dataframe\">\n",
       "  <thead>\n",
       "    <tr style=\"text-align: right;\">\n",
       "      <th></th>\n",
       "      <th>Source</th>\n",
       "      <th>SS</th>\n",
       "      <th>DF</th>\n",
       "      <th>MS</th>\n",
       "      <th>F</th>\n",
       "      <th>p-unc</th>\n",
       "      <th>np2</th>\n",
       "    </tr>\n",
       "  </thead>\n",
       "  <tbody>\n",
       "    <tr>\n",
       "      <th>0</th>\n",
       "      <td>insomnia</td>\n",
       "      <td>3630.0</td>\n",
       "      <td>1</td>\n",
       "      <td>3630.000000</td>\n",
       "      <td>6.123137</td>\n",
       "      <td>0.023521</td>\n",
       "      <td>0.253828</td>\n",
       "    </tr>\n",
       "    <tr>\n",
       "      <th>1</th>\n",
       "      <td>Within</td>\n",
       "      <td>10671.0</td>\n",
       "      <td>18</td>\n",
       "      <td>592.833333</td>\n",
       "      <td>NaN</td>\n",
       "      <td>NaN</td>\n",
       "      <td>NaN</td>\n",
       "    </tr>\n",
       "  </tbody>\n",
       "</table>\n",
       "</div>"
      ],
      "text/plain": [
       "     Source       SS  DF           MS         F     p-unc       np2\n",
       "0  insomnia   3630.0   1  3630.000000  6.123137  0.023521  0.253828\n",
       "1    Within  10671.0  18   592.833333       NaN       NaN       NaN"
      ]
     },
     "execution_count": 103,
     "metadata": {},
     "output_type": "execute_result"
    }
   ],
   "source": [
    "aov = pg.anova(dv='weight', between='insomnia', data=data, detailed=True)\n",
    "aov"
   ]
  },
  {
   "cell_type": "markdown",
   "metadata": {},
   "source": [
    "### Step3:變異數換算得到 Eta Squared (𝜼^𝟐)"
   ]
  },
  {
   "cell_type": "code",
   "execution_count": 104,
   "metadata": {},
   "outputs": [
    {
     "data": {
      "text/plain": [
       "0.2538284036081393"
      ]
     },
     "execution_count": 104,
     "metadata": {},
     "output_type": "execute_result"
    }
   ],
   "source": [
    "etaSq = aov.SS[0] / (aov.SS[0] + aov.SS[1])\n",
    "etaSq"
   ]
  },
  {
   "cell_type": "code",
   "execution_count": 105,
   "metadata": {},
   "outputs": [
    {
     "data": {
      "text/plain": [
       "'Large'"
      ]
     },
     "execution_count": 105,
     "metadata": {},
     "output_type": "execute_result"
    }
   ],
   "source": [
    "def judgment_etaSq(etaSq):\n",
    "    if etaSq < .01:\n",
    "        qual = 'Negligible'\n",
    "    elif etaSq < .06:\n",
    "        qual = 'Small'\n",
    "    elif etaSq < .14:\n",
    "        qual = 'Medium'\n",
    "    else:\n",
    "        qual = 'Large'\n",
    "    return(qual)\n",
    "judgment_etaSq(etaSq)"
   ]
  },
  {
   "cell_type": "markdown",
   "metadata": {},
   "source": [
    "### 搭配圖形來檢視\n",
    "* 這邊使用小提琴圖示法"
   ]
  },
  {
   "cell_type": "code",
   "execution_count": 106,
   "metadata": {},
   "outputs": [
    {
     "data": {
      "image/png": "[encoded data removed]",
      "text/plain": [
       "<Figure size 360x360 with 1 Axes>"
      ]
     },
     "metadata": {},
     "output_type": "display_data"
    }
   ],
   "source": [
    "g = sns.catplot(x=\"insomnia\", y=\"weight\", hue=\"insomnia\",\n",
    "               data=data, kind=\"violin\")"
   ]
  },
  {
   "cell_type": "markdown",
   "metadata": {},
   "source": [
    "### 結論: 體重和失眠狀態有高度相關性，有失眠狀態的體重較非失眠狀態來的大。"
   ]
  }
 ],
 "metadata": {
  "colab": {
   "name": "Day33.YOLO 細節理解 - 網路輸出的後處理_HW.ipynb",
   "provenance": []
  },
  "kernelspec": {
   "display_name": "Python 3",
   "language": "python",
   "name": "python3"
  },
  "language_info": {
   "codemirror_mode": {
    "name": "ipython",
    "version": 3
   },
   "file_extension": ".py",
   "mimetype": "text/x-python",
   "name": "python",
   "nbconvert_exporter": "python",
   "pygments_lexer": "ipython3",
   "version": "3.8.5-final"
  }
 },
 "nbformat": 4,
 "nbformat_minor": 1
}