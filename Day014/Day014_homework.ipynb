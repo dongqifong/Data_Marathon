{
 "cells": [
  {
   "cell_type": "markdown",
   "metadata": {
    "id": "i9iZ2230aW84"
   },
   "source": [
    "作業目標:<br>\n",
    "1. 熟悉索引與欄位設定\n",
    "2. 使用樞紐建立新資料"
   ]
  },
  {
   "cell_type": "markdown",
   "metadata": {
    "id": "VhzIqUcIY99e"
   },
   "source": [
    "作業重點:<br>\n",
    "1. 多維度索引、欄位是有順序性的須注意\n",
    "2. 使用樞紐建立資料需要注意參數<br>\n",
    "  index : 新資料的索引名稱<br>\n",
    "  columns : 新資料的欄位名稱<br>\n",
    "  values :新資料的值名稱\n"
   ]
  },
  {
   "cell_type": "markdown",
   "metadata": {
    "id": "lqcrvsyOaaaR"
   },
   "source": [
    "題目: 運用下列分數資料重新建構資料，將索引(index)依序改為sex、class、student_id，欄位依序改成chinese_score、english_score、math_score<br><br>\n",
    "score_df = pd.DataFrame([[1,50,80,70,'boy',1],[2,60,45,50,'boy',2],[3,98,43,55,'boy',1],[4,70,69,89,'boy',2],[5,56,79,60,'girl',1],[6,60,68,55,'girl',2],[7,45,70,77,'girl',1],[8,55,77,76,'girl',2],[9,25,57,60,'girl',1],[10,88,40,43,'girl',3],[11,25,60,45,'boy',3],[12,80,60,23,'boy',3],[13,20,90,66,'girl',3],[14,50,50,50,'girl',3],[15,89,67,77,'girl',3]],columns=['student_id','math_score','english_score','chinese_score','sex','class'])\n"
   ]
  },
  {
   "cell_type": "code",
   "execution_count": 17,
   "metadata": {
    "id": "GJVSUJ4zaZTj"
   },
   "outputs": [],
   "source": [
    "import pandas as pd\n",
    "import numpy as np\n",
    "score_df = pd.DataFrame([[1,50,80,70,'boy',1],[2,60,45,50,'boy',2],[3,98,43,55,'boy',1],[4,70,69,89,'boy',2],[5,56,79,60,'girl',1],[6,60,68,55,'girl',2],[7,45,70,77,'girl',1],[8,55,77,76,'girl',2],[9,25,57,60,'girl',1],[10,88,40,43,'girl',3],[11,25,60,45,'boy',3],[12,80,60,23,'boy',3],[13,20,90,66,'girl',3],[14,50,50,50,'girl',3],[15,89,67,77,'girl',3]],columns=['student_id','math_score','english_score','chinese_score','sex','class'])"
   ]
  },
  {
   "cell_type": "code",
   "execution_count": 19,
   "metadata": {
    "id": "sXolLlu6a_8F"
   },
   "outputs": [],
   "source": [
    "#將索引(index)依序改為sex、class、student_id，欄位依序改成chinese_score、english_score、math_score"
   ]
  },
  {
   "cell_type": "code",
   "execution_count": 20,
   "metadata": {
    "id": "6005fVVybA_9"
   },
   "outputs": [
    {
     "name": "stdout",
     "output_type": "stream",
     "text": [
      "     sex  class  student_id       variable  value\n",
      "0    boy      1           1  chinese_score     70\n",
      "1    boy      2           2  chinese_score     50\n",
      "2    boy      1           3  chinese_score     55\n",
      "3    boy      2           4  chinese_score     89\n",
      "4   girl      1           5  chinese_score     60\n",
      "5   girl      2           6  chinese_score     55\n",
      "6   girl      1           7  chinese_score     77\n",
      "7   girl      2           8  chinese_score     76\n",
      "8   girl      1           9  chinese_score     60\n",
      "9   girl      3          10  chinese_score     43\n",
      "10   boy      3          11  chinese_score     45\n",
      "11   boy      3          12  chinese_score     23\n",
      "12  girl      3          13  chinese_score     66\n",
      "13  girl      3          14  chinese_score     50\n",
      "14  girl      3          15  chinese_score     77\n",
      "15   boy      1           1  english_score     80\n",
      "16   boy      2           2  english_score     45\n",
      "17   boy      1           3  english_score     43\n",
      "18   boy      2           4  english_score     69\n",
      "19  girl      1           5  english_score     79\n",
      "20  girl      2           6  english_score     68\n",
      "21  girl      1           7  english_score     70\n",
      "22  girl      2           8  english_score     77\n",
      "23  girl      1           9  english_score     57\n",
      "24  girl      3          10  english_score     40\n",
      "25   boy      3          11  english_score     60\n",
      "26   boy      3          12  english_score     60\n",
      "27  girl      3          13  english_score     90\n",
      "28  girl      3          14  english_score     50\n",
      "29  girl      3          15  english_score     67\n",
      "30   boy      1           1     math_score     50\n",
      "31   boy      2           2     math_score     60\n",
      "32   boy      1           3     math_score     98\n",
      "33   boy      2           4     math_score     70\n",
      "34  girl      1           5     math_score     56\n",
      "35  girl      2           6     math_score     60\n",
      "36  girl      1           7     math_score     45\n",
      "37  girl      2           8     math_score     55\n",
      "38  girl      1           9     math_score     25\n",
      "39  girl      3          10     math_score     88\n",
      "40   boy      3          11     math_score     25\n",
      "41   boy      3          12     math_score     80\n",
      "42  girl      3          13     math_score     20\n",
      "43  girl      3          14     math_score     50\n",
      "44  girl      3          15     math_score     89\n"
     ]
    }
   ],
   "source": [
    "df = score_df.melt(id_vars=['sex','class','student_id'],value_vars=['chinese_score','english_score','math_score'])\n",
    "print(df)"
   ]
  },
  {
   "cell_type": "code",
   "execution_count": 21,
   "metadata": {},
   "outputs": [
    {
     "name": "stdout",
     "output_type": "stream",
     "text": [
      "variable               chinese_score  english_score  math_score\n",
      "sex  class student_id                                          \n",
      "boy  1     1                      70             80          50\n",
      "           3                      55             43          98\n",
      "     2     2                      50             45          60\n",
      "           4                      89             69          70\n",
      "     3     11                     45             60          25\n",
      "           12                     23             60          80\n",
      "girl 1     5                      60             79          56\n",
      "           7                      77             70          45\n",
      "           9                      60             57          25\n",
      "     2     6                      55             68          60\n",
      "           8                      76             77          55\n",
      "     3     10                     43             40          88\n",
      "           13                     66             90          20\n",
      "           14                     50             50          50\n",
      "           15                     77             67          89\n"
     ]
    }
   ],
   "source": [
    "df2=df.pivot(index=['sex','class','student_id'],columns='variable',values='value')\n",
    "print(df2)"
   ]
  }
 ],
 "metadata": {
  "colab": {
   "collapsed_sections": [],
   "name": "作業題目.ipynb",
   "provenance": []
  },
  "kernelspec": {
   "display_name": "Python 3",
   "language": "python",
   "name": "python3"
  },
  "language_info": {
   "codemirror_mode": {
    "name": "ipython",
    "version": 3
   },
   "file_extension": ".py",
   "mimetype": "text/x-python",
   "name": "python",
   "nbconvert_exporter": "python",
   "pygments_lexer": "ipython3",
   "version": "3.6.12"
  }
 },
 "nbformat": 4,
 "nbformat_minor": 1
}
