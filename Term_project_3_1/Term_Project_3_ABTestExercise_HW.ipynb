{
 "cells": [
  {
   "cell_type": "markdown",
   "metadata": {
    "id": "CUUk4M9ESPiL"
   },
   "source": [
    "# **[作業]電商如何以A/B Test 驗證新網頁設計有效**\n",
    "## **Can eCommerce UX change boost the conversion rate from 0.13 to 0.15?**\n",
    "知識點:\n",
    "\n",
    "*   effect size\n",
    "*   sample size for A/B test \n",
    "*   type I error = 0.05 and Power= 0.8\n",
    "*   z-score, confidence interval\n",
    "\n",
    "參考：A/B testing: A step-by-step guide in Python by Renato Fillinich @ medium.com\n",
    "\n",
    "數據 : ab_data.csv from Kaggle"
   ]
  },
  {
   "cell_type": "markdown",
   "metadata": {
    "id": "_CFV1buAeAMz"
   },
   "source": [
    "# **[作業目標]**\n",
    "\n",
    "1.   了解Binomial分布，以及用常態分布求統計解的方法\n",
    "2.   判讀A/B Test 結果\n",
    "\n"
   ]
  },
  {
   "cell_type": "markdown",
   "metadata": {
    "id": "19cuAxsOeI3k"
   },
   "source": [
    "# **[作業重點]**\n",
    "\n",
    "\n",
    "\n",
    "1.   如何決定最小樣本數\n",
    "2.   如何以Z值，p-Value和信賴區間(Confidence Interval)判斷A/B結果是否顯著\n",
    "\n"
   ]
  },
  {
   "cell_type": "code",
   "execution_count": 4,
   "metadata": {
    "colab": {
     "base_uri": "https://localhost:8080/"
    },
    "id": "b5pbmX1PCiUD",
    "outputId": "523d70e1-293c-4d36-bfc1-2acfcf4d6f1e"
   },
   "outputs": [
    {
     "output_type": "stream",
     "name": "stdout",
     "text": [
      "4720\n"
     ]
    }
   ],
   "source": [
    "# Packages imports\n",
    "# \n",
    "import numpy as np\n",
    "import pandas as pd\n",
    "import scipy.stats as stats\n",
    "import statsmodels.stats.api as sms\n",
    "import matplotlib as mpl\n",
    "import matplotlib.pyplot as plt\n",
    "import seaborn as sns\n",
    "from math import ceil\n",
    "\n",
    "%matplotlib inline\n",
    "\n",
    "# Some plot styling preferences\n",
    "plt.style.use('seaborn-whitegrid')\n",
    "font = {'family' : 'Helvetica',\n",
    "        'weight' : 'bold',\n",
    "        'size'   : 14}\n",
    "\n",
    "mpl.rc('font', **font)\n",
    "\n",
    "#求樣本大小\n",
    "effect_size = sms.proportion_effectsize(0.13, 0.15)    # Calculating effect size based on our expected rates\n",
    "\n",
    "required_n = sms.NormalIndPower().solve_power(\n",
    "    effect_size, \n",
    "    power=0.8, \n",
    "    alpha=0.05, \n",
    "    ratio=1\n",
    "    )                                                  # Calculating sample size needed\n",
    "\n",
    "required_n = ceil(required_n)                          # Rounding up to next whole number                          \n",
    "\n",
    "print(required_n)"
   ]
  },
  {
   "cell_type": "code",
   "execution_count": 5,
   "metadata": {
    "colab": {
     "base_uri": "https://localhost:8080/",
     "height": 198
    },
    "id": "NzCIP30MEIWw",
    "outputId": "0fac92d3-76f1-4ad2-c881-a944e20b74eb"
   },
   "outputs": [
    {
     "output_type": "execute_result",
     "data": {
      "text/plain": [
       "   user_id                   timestamp      group landing_page  converted\n",
       "0   851104  2017-01-21 22:11:48.556739    control     old_page          0\n",
       "1   804228  2017-01-12 08:01:45.159739    control     old_page          0\n",
       "2   661590  2017-01-11 16:55:06.154213  treatment     new_page          0\n",
       "3   853541  2017-01-08 18:28:03.143765  treatment     new_page          0\n",
       "4   864975  2017-01-21 01:52:26.210827    control     old_page          1"
      ],
      "text/html": "<div>\n<style scoped>\n    .dataframe tbody tr th:only-of-type {\n        vertical-align: middle;\n    }\n\n    .dataframe tbody tr th {\n        vertical-align: top;\n    }\n\n    .dataframe thead th {\n        text-align: right;\n    }\n</style>\n<table border=\"1\" class=\"dataframe\">\n  <thead>\n    <tr style=\"text-align: right;\">\n      <th></th>\n      <th>user_id</th>\n      <th>timestamp</th>\n      <th>group</th>\n      <th>landing_page</th>\n      <th>converted</th>\n    </tr>\n  </thead>\n  <tbody>\n    <tr>\n      <th>0</th>\n      <td>851104</td>\n      <td>2017-01-21 22:11:48.556739</td>\n      <td>control</td>\n      <td>old_page</td>\n      <td>0</td>\n    </tr>\n    <tr>\n      <th>1</th>\n      <td>804228</td>\n      <td>2017-01-12 08:01:45.159739</td>\n      <td>control</td>\n      <td>old_page</td>\n      <td>0</td>\n    </tr>\n    <tr>\n      <th>2</th>\n      <td>661590</td>\n      <td>2017-01-11 16:55:06.154213</td>\n      <td>treatment</td>\n      <td>new_page</td>\n      <td>0</td>\n    </tr>\n    <tr>\n      <th>3</th>\n      <td>853541</td>\n      <td>2017-01-08 18:28:03.143765</td>\n      <td>treatment</td>\n      <td>new_page</td>\n      <td>0</td>\n    </tr>\n    <tr>\n      <th>4</th>\n      <td>864975</td>\n      <td>2017-01-21 01:52:26.210827</td>\n      <td>control</td>\n      <td>old_page</td>\n      <td>1</td>\n    </tr>\n  </tbody>\n</table>\n</div>"
     },
     "metadata": {},
     "execution_count": 5
    }
   ],
   "source": [
    "#展示實驗資料\n",
    "df = pd.read_csv('ab_data.csv')\n",
    "\n",
    "df.head()"
   ]
  },
  {
   "cell_type": "code",
   "execution_count": 6,
   "metadata": {
    "colab": {
     "base_uri": "https://localhost:8080/",
     "height": 345
    },
    "id": "i1FXBm0sEMz4",
    "outputId": "f954c865-9cbf-453b-918b-e41685189926"
   },
   "outputs": [
    {
     "output_type": "stream",
     "name": "stdout",
     "text": [
      "<class 'pandas.core.frame.DataFrame'>\nRangeIndex: 294478 entries, 0 to 294477\nData columns (total 5 columns):\n #   Column        Non-Null Count   Dtype \n---  ------        --------------   ----- \n 0   user_id       294478 non-null  int64 \n 1   timestamp     294478 non-null  object\n 2   group         294478 non-null  object\n 3   landing_page  294478 non-null  object\n 4   converted     294478 non-null  int64 \ndtypes: int64(2), object(3)\nmemory usage: 11.2+ MB\n"
     ]
    },
    {
     "output_type": "execute_result",
     "data": {
      "text/plain": [
       "landing_page  new_page  old_page\n",
       "group                           \n",
       "control           1928    145274\n",
       "treatment       145311      1965"
      ],
      "text/html": "<div>\n<style scoped>\n    .dataframe tbody tr th:only-of-type {\n        vertical-align: middle;\n    }\n\n    .dataframe tbody tr th {\n        vertical-align: top;\n    }\n\n    .dataframe thead th {\n        text-align: right;\n    }\n</style>\n<table border=\"1\" class=\"dataframe\">\n  <thead>\n    <tr style=\"text-align: right;\">\n      <th>landing_page</th>\n      <th>new_page</th>\n      <th>old_page</th>\n    </tr>\n    <tr>\n      <th>group</th>\n      <th></th>\n      <th></th>\n    </tr>\n  </thead>\n  <tbody>\n    <tr>\n      <th>control</th>\n      <td>1928</td>\n      <td>145274</td>\n    </tr>\n    <tr>\n      <th>treatment</th>\n      <td>145311</td>\n      <td>1965</td>\n    </tr>\n  </tbody>\n</table>\n</div>"
     },
     "metadata": {},
     "execution_count": 6
    }
   ],
   "source": [
    "df.info()\n",
    "\n",
    "# To make sure all the control group are seeing the old page and viceversa\n",
    "# 用 crosstab 將 landing_page 當作 column，group 當作 row\n",
    "pd.crosstab(df['group'], df['landing_page'])"
   ]
  },
  {
   "cell_type": "code",
   "execution_count": 7,
   "metadata": {
    "colab": {
     "base_uri": "https://localhost:8080/"
    },
    "id": "smK1d9OoEQ4c",
    "outputId": "aaf70cfa-c9cf-46b3-e10b-186bce4e13b9"
   },
   "outputs": [
    {
     "output_type": "stream",
     "name": "stdout",
     "text": [
      "There are 3894 users that appear multiple times in the dataset\n"
     ]
    }
   ],
   "source": [
    "#偵測重複出現使用者\n",
    "session_counts = df['user_id'].value_counts(ascending=False)\n",
    "multi_users = session_counts[session_counts > 1].count()\n",
    "\n",
    "print(f'There are {multi_users} users that appear multiple times in the dataset')"
   ]
  },
  {
   "cell_type": "code",
   "execution_count": 8,
   "metadata": {
    "colab": {
     "base_uri": "https://localhost:8080/"
    },
    "id": "1Iu-jUPxEUFX",
    "outputId": "fe577125-b873-4c10-bf70-c7199b1f57ce"
   },
   "outputs": [
    {
     "output_type": "stream",
     "name": "stdout",
     "text": [
      "The updated dataset now has 286690 entries\n"
     ]
    }
   ],
   "source": [
    "#除去重複出現使用者\n",
    "users_to_drop = session_counts[session_counts > 1].index\n",
    "\n",
    "df = df[~df['user_id'].isin(users_to_drop)]\n",
    "print(f'The updated dataset now has {df.shape[0]} entries')"
   ]
  },
  {
   "cell_type": "code",
   "execution_count": 9,
   "metadata": {
    "colab": {
     "base_uri": "https://localhost:8080/",
     "height": 408
    },
    "id": "gOh_R80CEYVs",
    "outputId": "47915ff9-eaa4-4f59-eb5d-e941be57d61d"
   },
   "outputs": [
    {
     "output_type": "execute_result",
     "data": {
      "text/plain": [
       "      user_id                   timestamp      group landing_page  converted\n",
       "0      763854  2017-01-21 03:43:17.188315    control     old_page          0\n",
       "1      690555  2017-01-18 06:38:13.079449    control     old_page          0\n",
       "2      861520  2017-01-06 21:13:40.044766    control     old_page          0\n",
       "3      630778  2017-01-05 16:42:36.995204    control     old_page          0\n",
       "4      656634  2017-01-04 15:31:21.676130    control     old_page          0\n",
       "...       ...                         ...        ...          ...        ...\n",
       "9435   908512  2017-01-14 22:02:29.922674  treatment     new_page          0\n",
       "9436   873211  2017-01-05 00:57:16.167151  treatment     new_page          0\n",
       "9437   631276  2017-01-20 18:56:58.167809  treatment     new_page          0\n",
       "9438   662301  2017-01-03 08:10:57.768806  treatment     new_page          0\n",
       "9439   944623  2017-01-19 10:56:01.648653  treatment     new_page          1\n",
       "\n",
       "[9440 rows x 5 columns]"
      ],
      "text/html": "<div>\n<style scoped>\n    .dataframe tbody tr th:only-of-type {\n        vertical-align: middle;\n    }\n\n    .dataframe tbody tr th {\n        vertical-align: top;\n    }\n\n    .dataframe thead th {\n        text-align: right;\n    }\n</style>\n<table border=\"1\" class=\"dataframe\">\n  <thead>\n    <tr style=\"text-align: right;\">\n      <th></th>\n      <th>user_id</th>\n      <th>timestamp</th>\n      <th>group</th>\n      <th>landing_page</th>\n      <th>converted</th>\n    </tr>\n  </thead>\n  <tbody>\n    <tr>\n      <th>0</th>\n      <td>763854</td>\n      <td>2017-01-21 03:43:17.188315</td>\n      <td>control</td>\n      <td>old_page</td>\n      <td>0</td>\n    </tr>\n    <tr>\n      <th>1</th>\n      <td>690555</td>\n      <td>2017-01-18 06:38:13.079449</td>\n      <td>control</td>\n      <td>old_page</td>\n      <td>0</td>\n    </tr>\n    <tr>\n      <th>2</th>\n      <td>861520</td>\n      <td>2017-01-06 21:13:40.044766</td>\n      <td>control</td>\n      <td>old_page</td>\n      <td>0</td>\n    </tr>\n    <tr>\n      <th>3</th>\n      <td>630778</td>\n      <td>2017-01-05 16:42:36.995204</td>\n      <td>control</td>\n      <td>old_page</td>\n      <td>0</td>\n    </tr>\n    <tr>\n      <th>4</th>\n      <td>656634</td>\n      <td>2017-01-04 15:31:21.676130</td>\n      <td>control</td>\n      <td>old_page</td>\n      <td>0</td>\n    </tr>\n    <tr>\n      <th>...</th>\n      <td>...</td>\n      <td>...</td>\n      <td>...</td>\n      <td>...</td>\n      <td>...</td>\n    </tr>\n    <tr>\n      <th>9435</th>\n      <td>908512</td>\n      <td>2017-01-14 22:02:29.922674</td>\n      <td>treatment</td>\n      <td>new_page</td>\n      <td>0</td>\n    </tr>\n    <tr>\n      <th>9436</th>\n      <td>873211</td>\n      <td>2017-01-05 00:57:16.167151</td>\n      <td>treatment</td>\n      <td>new_page</td>\n      <td>0</td>\n    </tr>\n    <tr>\n      <th>9437</th>\n      <td>631276</td>\n      <td>2017-01-20 18:56:58.167809</td>\n      <td>treatment</td>\n      <td>new_page</td>\n      <td>0</td>\n    </tr>\n    <tr>\n      <th>9438</th>\n      <td>662301</td>\n      <td>2017-01-03 08:10:57.768806</td>\n      <td>treatment</td>\n      <td>new_page</td>\n      <td>0</td>\n    </tr>\n    <tr>\n      <th>9439</th>\n      <td>944623</td>\n      <td>2017-01-19 10:56:01.648653</td>\n      <td>treatment</td>\n      <td>new_page</td>\n      <td>1</td>\n    </tr>\n  </tbody>\n</table>\n<p>9440 rows × 5 columns</p>\n</div>"
     },
     "metadata": {},
     "execution_count": 9
    }
   ],
   "source": [
    "#選取 控制組和實驗組各半 4720 * 2 = 9440\n",
    "control_sample = df[df['group'] == 'control'].sample(n=required_n, random_state=22)\n",
    "treatment_sample = df[df['group'] == 'treatment'].sample(n=required_n, random_state=22)\n",
    "\n",
    "ab_test = pd.concat([control_sample, treatment_sample], axis=0)\n",
    "ab_test.reset_index(drop=True, inplace=True)\n",
    "ab_test"
   ]
  },
  {
   "cell_type": "code",
   "execution_count": 10,
   "metadata": {
    "colab": {
     "base_uri": "https://localhost:8080/"
    },
    "id": "I0DU6C8uEbbZ",
    "outputId": "213e691f-a140-4ac0-e615-ff5e28b6396e"
   },
   "outputs": [
    {
     "output_type": "stream",
     "name": "stdout",
     "text": [
      "<class 'pandas.core.frame.DataFrame'>\nRangeIndex: 9440 entries, 0 to 9439\nData columns (total 5 columns):\n #   Column        Non-Null Count  Dtype \n---  ------        --------------  ----- \n 0   user_id       9440 non-null   int64 \n 1   timestamp     9440 non-null   object\n 2   group         9440 non-null   object\n 3   landing_page  9440 non-null   object\n 4   converted     9440 non-null   int64 \ndtypes: int64(2), object(3)\nmemory usage: 368.9+ KB\n"
     ]
    }
   ],
   "source": [
    "ab_test.info()"
   ]
  },
  {
   "cell_type": "code",
   "execution_count": 11,
   "metadata": {
    "colab": {
     "base_uri": "https://localhost:8080/"
    },
    "id": "viU4ZRx6W3Yh",
    "outputId": "6a47ab36-3255-4888-92e4-25fdbd166a7f"
   },
   "outputs": [
    {
     "output_type": "execute_result",
     "data": {
      "text/plain": [
       "control      4720\n",
       "treatment    4720\n",
       "Name: group, dtype: int64"
      ]
     },
     "metadata": {},
     "execution_count": 11
    }
   ],
   "source": [
    "#確認 ab_test 控制組實驗組各半\n",
    "ab_test['group'].value_counts()"
   ]
  },
  {
   "cell_type": "code",
   "execution_count": 12,
   "metadata": {
    "colab": {
     "base_uri": "https://localhost:8080/",
     "height": 101
    },
    "id": "ewFAGIwMEfJJ",
    "outputId": "081f4f2a-d31e-4fd7-bcf0-6a57389d02fd"
   },
   "outputs": [
    {
     "output_type": "execute_result",
     "data": {
      "text/plain": [
       "<pandas.io.formats.style.Styler at 0x7fba60b7ce20>"
      ],
      "text/html": "<style  type=\"text/css\" >\n</style><table id=\"T_2e46f360_78f4_11eb_a8c5_8c859059c533\" ><thead>    <tr>        <th class=\"blank level0\" ></th>        <th class=\"col_heading level0 col0\" >conversion_rate</th>        <th class=\"col_heading level0 col1\" >std_deviation</th>        <th class=\"col_heading level0 col2\" >std_error</th>    </tr>    <tr>        <th class=\"index_name level0\" >group</th>        <th class=\"blank\" ></th>        <th class=\"blank\" ></th>        <th class=\"blank\" ></th>    </tr></thead><tbody>\n                <tr>\n                        <th id=\"T_2e46f360_78f4_11eb_a8c5_8c859059c533level0_row0\" class=\"row_heading level0 row0\" >control</th>\n                        <td id=\"T_2e46f360_78f4_11eb_a8c5_8c859059c533row0_col0\" class=\"data row0 col0\" >0.123</td>\n                        <td id=\"T_2e46f360_78f4_11eb_a8c5_8c859059c533row0_col1\" class=\"data row0 col1\" >0.329</td>\n                        <td id=\"T_2e46f360_78f4_11eb_a8c5_8c859059c533row0_col2\" class=\"data row0 col2\" >0.005</td>\n            </tr>\n            <tr>\n                        <th id=\"T_2e46f360_78f4_11eb_a8c5_8c859059c533level0_row1\" class=\"row_heading level0 row1\" >treatment</th>\n                        <td id=\"T_2e46f360_78f4_11eb_a8c5_8c859059c533row1_col0\" class=\"data row1 col0\" >0.126</td>\n                        <td id=\"T_2e46f360_78f4_11eb_a8c5_8c859059c533row1_col1\" class=\"data row1 col1\" >0.331</td>\n                        <td id=\"T_2e46f360_78f4_11eb_a8c5_8c859059c533row1_col2\" class=\"data row1 col2\" >0.005</td>\n            </tr>\n    </tbody></table>"
     },
     "metadata": {},
     "execution_count": 12
    }
   ],
   "source": [
    "#計算conversion rate 平均值，標準差，標準誤\n",
    "conversion_rates = ab_test.groupby('group')['converted']\n",
    "\n",
    "std_p = lambda x: np.std(x, ddof=0)              # Std. deviation of the proportion\n",
    "se_p = lambda x: stats.sem(x, ddof=0)            # Std. error of the proportion (std / sqrt(n))\n",
    "\n",
    "conversion_rates = conversion_rates.agg([np.mean, std_p, se_p])\n",
    "conversion_rates.columns = ['conversion_rate', 'std_deviation', 'std_error']\n",
    "\n",
    "\n",
    "conversion_rates.style.format('{:.3f}')"
   ]
  },
  {
   "cell_type": "code",
   "execution_count": 13,
   "metadata": {
    "colab": {
     "base_uri": "https://localhost:8080/",
     "height": 478
    },
    "id": "IVM21KkUEitI",
    "outputId": "a980c634-be8e-4c2f-ff32-f57c59a78047"
   },
   "outputs": [
    {
     "output_type": "display_data",
     "data": {
      "text/plain": "<Figure size 576x432 with 1 Axes>",
      "image/svg+xml": "<?xml version=\"1.0\" encoding=\"utf-8\" standalone=\"no\"?>\n<!DOCTYPE svg PUBLIC \"-//W3C//DTD SVG 1.1//EN\"\n  \"http://www.w3.org/Graphics/SVG/1.1/DTD/svg11.dtd\">\n<!-- Created with matplotlib (https://matplotlib.org/) -->\n<svg height=\"417.634813pt\" version=\"1.1\" viewBox=\"0 0 519.779687 417.634813\" width=\"519.779687pt\" xmlns=\"http://www.w3.org/2000/svg\" xmlns:xlink=\"http://www.w3.org/1999/xlink\">\n <metadata>\n  <rdf:RDF xmlns:cc=\"http://creativecommons.org/ns#\" xmlns:dc=\"http://purl.org/dc/elements/1.1/\" xmlns:rdf=\"http://www.w3.org/1999/02/22-rdf-syntax-ns#\">\n   <cc:Work>\n    <dc:type rdf:resource=\"http://purl.org/dc/dcmitype/StillImage\"/>\n    <dc:date>2021-02-27T20:06:11.136684</dc:date>\n    <dc:format>image/svg+xml</dc:format>\n    <dc:creator>\n     <cc:Agent>\n      <dc:title>Matplotlib v3.3.2, https://matplotlib.org/</dc:title>\n     </cc:Agent>\n    </dc:creator>\n   </cc:Work>\n  </rdf:RDF>\n </metadata>\n <defs>\n  <style type=\"text/css\">*{stroke-linecap:butt;stroke-linejoin:round;}</style>\n </defs>\n <g id=\"figure_1\">\n  <g id=\"patch_1\">\n   <path d=\"M 0 417.634813 \nL 519.779687 417.634813 \nL 519.779687 0 \nL 0 0 \nz\n\" style=\"fill:#ffffff;\"/>\n  </g>\n  <g id=\"axes_1\">\n   <g id=\"patch_2\">\n    <path d=\"M 66.179688 365.7395 \nL 512.579687 365.7395 \nL 512.579687 39.5795 \nL 66.179688 39.5795 \nz\n\" style=\"fill:#ffffff;\"/>\n   </g>\n   <g id=\"matplotlib.axis_1\">\n    <g id=\"xtick_1\">\n     <g id=\"line2d_1\"/>\n     <g id=\"text_1\">\n      <!-- control -->\n      <g style=\"fill:#262626;\" transform=\"translate(156.770938 379.282312)scale(0.14 -0.14)\">\n       <defs>\n        <path d=\"M 26.609375 53.8125 \nQ 35.453125 53.8125 40.984375 49.515625 \nQ 46.53125 45.21875 47.65625 34.71875 \nL 39.109375 34.71875 \nQ 38.328125 39.546875 35.546875 42.75 \nQ 32.765625 45.953125 26.609375 45.953125 \nQ 18.21875 45.953125 14.59375 37.75 \nQ 12.25 32.421875 12.25 24.609375 \nQ 12.25 16.75 15.5625 11.375 \nQ 18.890625 6 26.03125 6 \nQ 31.5 6 34.6875 9.34375 \nQ 37.890625 12.703125 39.109375 18.5 \nL 47.65625 18.5 \nQ 46.1875 8.109375 40.328125 3.296875 \nQ 34.46875 -1.515625 25.34375 -1.515625 \nQ 15.09375 -1.515625 8.984375 5.984375 \nQ 2.875 13.484375 2.875 24.703125 \nQ 2.875 38.484375 9.5625 46.140625 \nQ 16.265625 53.8125 26.609375 53.8125 \nz\nM 25.25 53.5625 \nz\n\" id=\"Helvetica-99\"/>\n        <path d=\"M 27.203125 5.671875 \nQ 35.9375 5.671875 39.1875 12.28125 \nQ 42.4375 18.890625 42.4375 27 \nQ 42.4375 34.328125 40.09375 38.921875 \nQ 36.375 46.140625 27.296875 46.140625 \nQ 19.234375 46.140625 15.578125 39.984375 \nQ 11.921875 33.84375 11.921875 25.140625 \nQ 11.921875 16.796875 15.578125 11.234375 \nQ 19.234375 5.671875 27.203125 5.671875 \nz\nM 27.546875 53.8125 \nQ 37.640625 53.8125 44.625 47.0625 \nQ 51.609375 40.328125 51.609375 27.25 \nQ 51.609375 14.59375 45.453125 6.34375 \nQ 39.3125 -1.90625 26.375 -1.90625 \nQ 15.578125 -1.90625 9.21875 5.390625 \nQ 2.875 12.703125 2.875 25 \nQ 2.875 38.1875 9.5625 46 \nQ 16.265625 53.8125 27.546875 53.8125 \nz\nM 27.25 53.5625 \nz\n\" id=\"Helvetica-111\"/>\n        <path d=\"M 6.453125 52.296875 \nL 14.796875 52.296875 \nL 14.796875 44.875 \nQ 18.5 49.46875 22.65625 51.46875 \nQ 26.8125 53.46875 31.890625 53.46875 \nQ 43.015625 53.46875 46.921875 45.703125 \nQ 49.078125 41.453125 49.078125 33.546875 \nL 49.078125 0 \nL 40.140625 0 \nL 40.140625 32.953125 \nQ 40.140625 37.75 38.71875 40.671875 \nQ 36.375 45.5625 30.21875 45.5625 \nQ 27.09375 45.5625 25.09375 44.921875 \nQ 21.484375 43.84375 18.75 40.625 \nQ 16.546875 38.03125 15.890625 35.265625 \nQ 15.234375 32.515625 15.234375 27.390625 \nL 15.234375 0 \nL 6.453125 0 \nz\nM 27.09375 53.5625 \nz\n\" id=\"Helvetica-110\"/>\n        <path d=\"M 8.203125 66.890625 \nL 17.09375 66.890625 \nL 17.09375 52.296875 \nL 25.4375 52.296875 \nL 25.4375 45.125 \nL 17.09375 45.125 \nL 17.09375 10.984375 \nQ 17.09375 8.25 18.953125 7.328125 \nQ 19.96875 6.78125 22.359375 6.78125 \nQ 23 6.78125 23.734375 6.8125 \nQ 24.46875 6.84375 25.4375 6.9375 \nL 25.4375 0 \nQ 23.921875 -0.4375 22.28125 -0.625 \nQ 20.65625 -0.828125 18.75 -0.828125 \nQ 12.59375 -0.828125 10.390625 2.3125 \nQ 8.203125 5.46875 8.203125 10.5 \nL 8.203125 45.125 \nL 1.125 45.125 \nL 1.125 52.296875 \nL 8.203125 52.296875 \nz\n\" id=\"Helvetica-116\"/>\n        <path d=\"M 6.6875 52.296875 \nL 15.046875 52.296875 \nL 15.046875 43.265625 \nQ 16.0625 45.90625 20.0625 49.6875 \nQ 24.078125 53.46875 29.296875 53.46875 \nQ 29.546875 53.46875 30.125 53.421875 \nQ 30.71875 53.375 32.125 53.21875 \nL 32.125 43.953125 \nQ 31.34375 44.09375 30.6875 44.140625 \nQ 30.03125 44.1875 29.25 44.1875 \nQ 22.609375 44.1875 19.046875 39.90625 \nQ 15.484375 35.640625 15.484375 30.078125 \nL 15.484375 0 \nL 6.6875 0 \nz\n\" id=\"Helvetica-114\"/>\n        <path d=\"M 6.6875 71.734375 \nL 15.484375 71.734375 \nL 15.484375 0 \nL 6.6875 0 \nz\n\" id=\"Helvetica-108\"/>\n       </defs>\n       <use xlink:href=\"#Helvetica-99\"/>\n       <use x=\"50\" xlink:href=\"#Helvetica-111\"/>\n       <use x=\"105.615234\" xlink:href=\"#Helvetica-110\"/>\n       <use x=\"161.230469\" xlink:href=\"#Helvetica-116\"/>\n       <use x=\"189.013672\" xlink:href=\"#Helvetica-114\"/>\n       <use x=\"222.314453\" xlink:href=\"#Helvetica-111\"/>\n       <use x=\"277.929688\" xlink:href=\"#Helvetica-108\"/>\n      </g>\n     </g>\n    </g>\n    <g id=\"xtick_2\">\n     <g id=\"line2d_2\"/>\n     <g id=\"text_2\">\n      <!-- treatment -->\n      <g style=\"fill:#262626;\" transform=\"translate(371.413437 379.282312)scale(0.14 -0.14)\">\n       <defs>\n        <path d=\"M 28.21875 53.46875 \nQ 33.796875 53.46875 39.015625 50.859375 \nQ 44.234375 48.25 46.96875 44.09375 \nQ 49.609375 40.140625 50.484375 34.859375 \nQ 51.265625 31.25 51.265625 23.34375 \nL 12.9375 23.34375 \nQ 13.1875 15.375 16.703125 10.5625 \nQ 20.21875 5.765625 27.59375 5.765625 \nQ 34.46875 5.765625 38.578125 10.296875 \nQ 40.921875 12.9375 41.890625 16.40625 \nL 50.53125 16.40625 \nQ 50.203125 13.53125 48.265625 9.984375 \nQ 46.34375 6.453125 43.953125 4.203125 \nQ 39.9375 0.296875 34.03125 -1.078125 \nQ 30.859375 -1.859375 26.859375 -1.859375 \nQ 17.09375 -1.859375 10.296875 5.25 \nQ 3.515625 12.359375 3.515625 25.140625 \nQ 3.515625 37.75 10.34375 45.609375 \nQ 17.1875 53.46875 28.21875 53.46875 \nz\nM 42.234375 30.328125 \nQ 41.703125 36.03125 39.75 39.453125 \nQ 36.140625 45.796875 27.6875 45.796875 \nQ 21.625 45.796875 17.515625 41.421875 \nQ 13.421875 37.0625 13.1875 30.328125 \nz\nM 27.390625 53.5625 \nz\n\" id=\"Helvetica-101\"/>\n        <path d=\"M 13.1875 13.921875 \nQ 13.1875 10.109375 15.96875 7.90625 \nQ 18.75 5.71875 22.5625 5.71875 \nQ 27.203125 5.71875 31.546875 7.859375 \nQ 38.875 11.421875 38.875 19.53125 \nL 38.875 26.609375 \nQ 37.25 25.59375 34.703125 24.90625 \nQ 32.171875 24.21875 29.734375 23.921875 \nL 24.421875 23.25 \nQ 19.625 22.609375 17.234375 21.234375 \nQ 13.1875 18.953125 13.1875 13.921875 \nz\nM 34.46875 31.6875 \nQ 37.5 32.078125 38.53125 34.234375 \nQ 39.109375 35.40625 39.109375 37.59375 \nQ 39.109375 42.09375 35.90625 44.109375 \nQ 32.71875 46.140625 26.765625 46.140625 \nQ 19.875 46.140625 17 42.4375 \nQ 15.375 40.375 14.890625 36.328125 \nL 6.6875 36.328125 \nQ 6.9375 46 12.96875 49.78125 \nQ 19 53.5625 26.953125 53.5625 \nQ 36.1875 53.5625 41.9375 50.046875 \nQ 47.65625 46.53125 47.65625 39.109375 \nL 47.65625 8.984375 \nQ 47.65625 7.625 48.21875 6.78125 \nQ 48.78125 5.953125 50.59375 5.953125 \nQ 51.171875 5.953125 51.90625 6.03125 \nQ 52.640625 6.109375 53.46875 6.25 \nL 53.46875 -0.25 \nQ 51.421875 -0.828125 50.34375 -0.96875 \nQ 49.265625 -1.125 47.40625 -1.125 \nQ 42.875 -1.125 40.828125 2.09375 \nQ 39.75 3.8125 39.3125 6.9375 \nQ 36.625 3.421875 31.59375 0.828125 \nQ 26.5625 -1.765625 20.515625 -1.765625 \nQ 13.234375 -1.765625 8.609375 2.65625 \nQ 4 7.078125 4 13.71875 \nQ 4 21 8.546875 25 \nQ 13.09375 29 20.453125 29.9375 \nz\nM 27.203125 53.5625 \nz\n\" id=\"Helvetica-97\"/>\n        <path d=\"M 6.453125 52.296875 \nL 15.140625 52.296875 \nL 15.140625 44.875 \nQ 18.265625 48.734375 20.796875 50.484375 \nQ 25.140625 53.46875 30.671875 53.46875 \nQ 36.921875 53.46875 40.71875 50.390625 \nQ 42.875 48.640625 44.625 45.21875 \nQ 47.5625 49.421875 51.515625 51.4375 \nQ 55.46875 53.46875 60.40625 53.46875 \nQ 70.953125 53.46875 74.75 45.84375 \nQ 76.8125 41.75 76.8125 34.8125 \nL 76.8125 0 \nL 67.671875 0 \nL 67.671875 36.328125 \nQ 67.671875 41.546875 65.0625 43.5 \nQ 62.453125 45.453125 58.6875 45.453125 \nQ 53.515625 45.453125 49.78125 41.984375 \nQ 46.046875 38.53125 46.046875 30.421875 \nL 46.046875 0 \nL 37.109375 0 \nL 37.109375 34.125 \nQ 37.109375 39.453125 35.84375 41.890625 \nQ 33.84375 45.5625 28.375 45.5625 \nQ 23.390625 45.5625 19.3125 41.703125 \nQ 15.234375 37.84375 15.234375 27.734375 \nL 15.234375 0 \nL 6.453125 0 \nz\n\" id=\"Helvetica-109\"/>\n       </defs>\n       <use xlink:href=\"#Helvetica-116\"/>\n       <use x=\"27.783203\" xlink:href=\"#Helvetica-114\"/>\n       <use x=\"61.083984\" xlink:href=\"#Helvetica-101\"/>\n       <use x=\"116.699219\" xlink:href=\"#Helvetica-97\"/>\n       <use x=\"172.314453\" xlink:href=\"#Helvetica-116\"/>\n       <use x=\"200.097656\" xlink:href=\"#Helvetica-109\"/>\n       <use x=\"283.398438\" xlink:href=\"#Helvetica-101\"/>\n       <use x=\"339.013672\" xlink:href=\"#Helvetica-110\"/>\n       <use x=\"394.628906\" xlink:href=\"#Helvetica-116\"/>\n      </g>\n     </g>\n    </g>\n    <g id=\"text_3\">\n     <!-- Group -->\n     <g style=\"fill:#262626;\" transform=\"translate(269.92625 407.516687)scale(0.14 -0.14)\">\n      <defs>\n       <path d=\"M 38.625 73.578125 \nQ 48.734375 73.578125 56.109375 69.671875 \nQ 66.796875 64.0625 69.1875 50 \nL 59.578125 50 \nQ 57.8125 57.859375 52.296875 61.453125 \nQ 46.78125 65.046875 38.375 65.046875 \nQ 28.421875 65.046875 21.609375 57.5625 \nQ 14.796875 50.09375 14.796875 35.296875 \nQ 14.796875 22.515625 20.40625 14.484375 \nQ 26.03125 6.453125 38.71875 6.453125 \nQ 48.4375 6.453125 54.8125 12.078125 \nQ 61.1875 17.71875 61.328125 30.328125 \nL 38.875 30.328125 \nL 38.875 38.375 \nL 70.359375 38.375 \nL 70.359375 0 \nL 64.109375 0 \nL 61.765625 9.234375 \nQ 56.84375 3.8125 53.03125 1.703125 \nQ 46.625 -1.90625 36.765625 -1.90625 \nQ 24.03125 -1.90625 14.84375 6.34375 \nQ 4.828125 16.703125 4.828125 34.765625 \nQ 4.828125 52.78125 14.59375 63.421875 \nQ 23.875 73.578125 38.625 73.578125 \nz\nM 37.015625 73.6875 \nz\n\" id=\"Helvetica-71\"/>\n       <path d=\"M 15.234375 52.296875 \nL 15.234375 17.578125 \nQ 15.234375 13.578125 16.5 11.03125 \nQ 18.84375 6.34375 25.25 6.34375 \nQ 34.421875 6.34375 37.75 14.546875 \nQ 39.546875 18.953125 39.546875 26.609375 \nL 39.546875 52.296875 \nL 48.34375 52.296875 \nL 48.34375 0 \nL 40.046875 0 \nL 40.140625 7.71875 \nQ 38.421875 4.734375 35.890625 2.6875 \nQ 30.859375 -1.421875 23.6875 -1.421875 \nQ 12.5 -1.421875 8.453125 6.0625 \nQ 6.25 10.0625 6.25 16.75 \nL 6.25 52.296875 \nz\nM 27.296875 53.5625 \nz\n\" id=\"Helvetica-117\"/>\n       <path d=\"M 28.515625 5.90625 \nQ 34.671875 5.90625 38.75 11.0625 \nQ 42.828125 16.21875 42.828125 26.46875 \nQ 42.828125 32.71875 41.015625 37.203125 \nQ 37.59375 45.84375 28.515625 45.84375 \nQ 19.390625 45.84375 16.015625 36.71875 \nQ 14.203125 31.84375 14.203125 24.3125 \nQ 14.203125 18.265625 16.015625 14.015625 \nQ 19.4375 5.90625 28.515625 5.90625 \nz\nM 5.765625 52.046875 \nL 14.3125 52.046875 \nL 14.3125 45.125 \nQ 16.9375 48.6875 20.0625 50.640625 \nQ 24.515625 53.5625 30.515625 53.5625 \nQ 39.40625 53.5625 45.609375 46.75 \nQ 51.8125 39.9375 51.8125 27.296875 \nQ 51.8125 10.203125 42.875 2.875 \nQ 37.203125 -1.765625 29.6875 -1.765625 \nQ 23.78125 -1.765625 19.78125 0.828125 \nQ 17.4375 2.296875 14.546875 5.859375 \nL 14.546875 -20.84375 \nL 5.765625 -20.84375 \nz\n\" id=\"Helvetica-112\"/>\n      </defs>\n      <use xlink:href=\"#Helvetica-71\"/>\n      <use x=\"77.783203\" xlink:href=\"#Helvetica-114\"/>\n      <use x=\"111.083984\" xlink:href=\"#Helvetica-111\"/>\n      <use x=\"166.699219\" xlink:href=\"#Helvetica-117\"/>\n      <use x=\"222.314453\" xlink:href=\"#Helvetica-112\"/>\n     </g>\n    </g>\n   </g>\n   <g id=\"matplotlib.axis_2\">\n    <g id=\"ytick_1\">\n     <g id=\"line2d_3\">\n      <path clip-path=\"url(#p06c375aa26)\" d=\"M 66.179688 365.7395 \nL 512.579687 365.7395 \n\" style=\"fill:none;stroke:#cccccc;stroke-linecap:round;stroke-width:0.8;\"/>\n     </g>\n     <g id=\"line2d_4\"/>\n     <g id=\"text_4\">\n      <!-- 0.00 -->\n      <g style=\"fill:#262626;\" transform=\"translate(35.434375 370.760906)scale(0.14 -0.14)\">\n       <defs>\n        <path d=\"M 27.046875 69.921875 \nQ 40.625 69.921875 46.6875 58.734375 \nQ 51.375 50.09375 51.375 35.0625 \nQ 51.375 20.796875 47.125 11.46875 \nQ 40.96875 -1.90625 27 -1.90625 \nQ 14.40625 -1.90625 8.25 9.03125 \nQ 3.125 18.171875 3.125 33.546875 \nQ 3.125 45.453125 6.203125 54 \nQ 11.96875 69.921875 27.046875 69.921875 \nz\nM 26.953125 6.109375 \nQ 33.796875 6.109375 37.84375 12.15625 \nQ 41.890625 18.21875 41.890625 34.71875 \nQ 41.890625 46.625 38.953125 54.3125 \nQ 36.03125 62.015625 27.59375 62.015625 \nQ 19.828125 62.015625 16.234375 54.703125 \nQ 12.640625 47.40625 12.640625 33.203125 \nQ 12.640625 22.515625 14.9375 16.015625 \nQ 18.453125 6.109375 26.953125 6.109375 \nz\n\" id=\"Helvetica-48\"/>\n        <path d=\"M 8.546875 10.640625 \nL 18.75 10.640625 \nL 18.75 0 \nL 8.546875 0 \nz\n\" id=\"Helvetica-46\"/>\n       </defs>\n       <use xlink:href=\"#Helvetica-48\"/>\n       <use x=\"55.615234\" xlink:href=\"#Helvetica-46\"/>\n       <use x=\"83.398438\" xlink:href=\"#Helvetica-48\"/>\n       <use x=\"139.013672\" xlink:href=\"#Helvetica-48\"/>\n      </g>\n     </g>\n    </g>\n    <g id=\"ytick_2\">\n     <g id=\"line2d_5\">\n      <path clip-path=\"url(#p06c375aa26)\" d=\"M 66.179688 327.367735 \nL 512.579687 327.367735 \n\" style=\"fill:none;stroke:#cccccc;stroke-linecap:round;stroke-width:0.8;\"/>\n     </g>\n     <g id=\"line2d_6\"/>\n     <g id=\"text_5\">\n      <!-- 0.02 -->\n      <g style=\"fill:#262626;\" transform=\"translate(35.434375 332.389142)scale(0.14 -0.14)\">\n       <defs>\n        <path d=\"M 3.125 0 \nQ 3.609375 9.03125 6.859375 15.71875 \nQ 10.109375 22.40625 19.53125 27.875 \nL 28.90625 33.296875 \nQ 35.203125 36.96875 37.75 39.546875 \nQ 41.75 43.609375 41.75 48.828125 \nQ 41.75 54.9375 38.078125 58.515625 \nQ 34.421875 62.109375 28.328125 62.109375 \nQ 19.28125 62.109375 15.828125 55.28125 \nQ 13.96875 51.609375 13.765625 45.125 \nL 4.828125 45.125 \nQ 4.984375 54.25 8.203125 60.015625 \nQ 13.921875 70.171875 28.375 70.171875 \nQ 40.375 70.171875 45.921875 63.671875 \nQ 51.46875 57.171875 51.46875 49.21875 \nQ 51.46875 40.828125 45.5625 34.859375 \nQ 42.140625 31.390625 33.296875 26.46875 \nL 26.609375 22.75 \nQ 21.828125 20.125 19.09375 17.71875 \nQ 14.203125 13.484375 12.9375 8.296875 \nL 51.125 8.296875 \nL 51.125 0 \nL 3.125 0 \nz\n\" id=\"Helvetica-50\"/>\n       </defs>\n       <use xlink:href=\"#Helvetica-48\"/>\n       <use x=\"55.615234\" xlink:href=\"#Helvetica-46\"/>\n       <use x=\"83.398438\" xlink:href=\"#Helvetica-48\"/>\n       <use x=\"139.013672\" xlink:href=\"#Helvetica-50\"/>\n      </g>\n     </g>\n    </g>\n    <g id=\"ytick_3\">\n     <g id=\"line2d_7\">\n      <path clip-path=\"url(#p06c375aa26)\" d=\"M 66.179688 288.995971 \nL 512.579687 288.995971 \n\" style=\"fill:none;stroke:#cccccc;stroke-linecap:round;stroke-width:0.8;\"/>\n     </g>\n     <g id=\"line2d_8\"/>\n     <g id=\"text_6\">\n      <!-- 0.04 -->\n      <g style=\"fill:#262626;\" transform=\"translate(35.434375 294.017377)scale(0.14 -0.14)\">\n       <defs>\n        <path d=\"M 33.0625 24.75 \nL 33.0625 56.453125 \nL 10.640625 24.75 \nz\nM 33.203125 0 \nL 33.203125 17.09375 \nL 2.546875 17.09375 \nL 2.546875 25.6875 \nL 34.578125 70.125 \nL 42 70.125 \nL 42 24.75 \nL 52.296875 24.75 \nL 52.296875 17.09375 \nL 42 17.09375 \nL 42 0 \nz\n\" id=\"Helvetica-52\"/>\n       </defs>\n       <use xlink:href=\"#Helvetica-48\"/>\n       <use x=\"55.615234\" xlink:href=\"#Helvetica-46\"/>\n       <use x=\"83.398438\" xlink:href=\"#Helvetica-48\"/>\n       <use x=\"139.013672\" xlink:href=\"#Helvetica-52\"/>\n      </g>\n     </g>\n    </g>\n    <g id=\"ytick_4\">\n     <g id=\"line2d_9\">\n      <path clip-path=\"url(#p06c375aa26)\" d=\"M 66.179688 250.624206 \nL 512.579687 250.624206 \n\" style=\"fill:none;stroke:#cccccc;stroke-linecap:round;stroke-width:0.8;\"/>\n     </g>\n     <g id=\"line2d_10\"/>\n     <g id=\"text_7\">\n      <!-- 0.06 -->\n      <g style=\"fill:#262626;\" transform=\"translate(35.434375 255.645612)scale(0.14 -0.14)\">\n       <defs>\n        <path d=\"M 29.25 70.21875 \nQ 40.96875 70.21875 45.578125 64.140625 \nQ 50.203125 58.0625 50.203125 51.609375 \nL 41.5 51.609375 \nQ 40.71875 55.765625 39.015625 58.109375 \nQ 35.84375 62.5 29.390625 62.5 \nQ 22.015625 62.5 17.671875 55.6875 \nQ 13.328125 48.875 12.84375 36.1875 \nQ 15.875 40.625 20.453125 42.828125 \nQ 24.65625 44.78125 29.828125 44.78125 \nQ 38.625 44.78125 45.15625 39.15625 \nQ 51.703125 33.546875 51.703125 22.40625 \nQ 51.703125 12.890625 45.5 5.53125 \nQ 39.3125 -1.8125 27.828125 -1.8125 \nQ 18.015625 -1.8125 10.890625 5.640625 \nQ 3.765625 13.09375 3.765625 30.71875 \nQ 3.765625 43.75 6.9375 52.828125 \nQ 13.03125 70.21875 29.25 70.21875 \nz\nM 28.609375 6 \nQ 35.546875 6 38.984375 10.65625 \nQ 42.4375 15.328125 42.4375 21.6875 \nQ 42.4375 27.046875 39.359375 31.90625 \nQ 36.28125 36.765625 28.171875 36.765625 \nQ 22.515625 36.765625 18.234375 33 \nQ 13.96875 29.25 13.96875 21.6875 \nQ 13.96875 15.046875 17.84375 10.515625 \nQ 21.734375 6 28.609375 6 \nz\n\" id=\"Helvetica-54\"/>\n       </defs>\n       <use xlink:href=\"#Helvetica-48\"/>\n       <use x=\"55.615234\" xlink:href=\"#Helvetica-46\"/>\n       <use x=\"83.398438\" xlink:href=\"#Helvetica-48\"/>\n       <use x=\"139.013672\" xlink:href=\"#Helvetica-54\"/>\n      </g>\n     </g>\n    </g>\n    <g id=\"ytick_5\">\n     <g id=\"line2d_11\">\n      <path clip-path=\"url(#p06c375aa26)\" d=\"M 66.179688 212.252441 \nL 512.579687 212.252441 \n\" style=\"fill:none;stroke:#cccccc;stroke-linecap:round;stroke-width:0.8;\"/>\n     </g>\n     <g id=\"line2d_12\"/>\n     <g id=\"text_8\">\n      <!-- 0.08 -->\n      <g style=\"fill:#262626;\" transform=\"translate(35.434375 217.273847)scale(0.14 -0.14)\">\n       <defs>\n        <path d=\"M 27.203125 40.625 \nQ 33.015625 40.625 36.28125 43.875 \nQ 39.546875 47.125 39.546875 51.609375 \nQ 39.546875 55.515625 36.421875 58.78125 \nQ 33.296875 62.0625 26.90625 62.0625 \nQ 20.5625 62.0625 17.71875 58.78125 \nQ 14.890625 55.515625 14.890625 51.125 \nQ 14.890625 46.1875 18.546875 43.40625 \nQ 22.21875 40.625 27.203125 40.625 \nz\nM 27.734375 6 \nQ 33.84375 6 37.859375 9.296875 \nQ 41.890625 12.59375 41.890625 19.140625 \nQ 41.890625 25.921875 37.734375 29.4375 \nQ 33.59375 32.953125 27.09375 32.953125 \nQ 20.796875 32.953125 16.8125 29.359375 \nQ 12.84375 25.78125 12.84375 19.4375 \nQ 12.84375 13.96875 16.484375 9.984375 \nQ 20.125 6 27.734375 6 \nz\nM 15.234375 37.25 \nQ 11.578125 38.8125 9.515625 40.921875 \nQ 5.671875 44.828125 5.671875 51.078125 \nQ 5.671875 58.890625 11.328125 64.5 \nQ 17 70.125 27.390625 70.125 \nQ 37.453125 70.125 43.15625 64.8125 \nQ 48.875 59.515625 48.875 52.4375 \nQ 48.875 45.90625 45.5625 41.84375 \nQ 43.703125 39.546875 39.796875 37.359375 \nQ 44.140625 35.359375 46.625 32.765625 \nQ 51.265625 27.875 51.265625 20.0625 \nQ 51.265625 10.84375 45.0625 4.421875 \nQ 38.875 -2 27.546875 -2 \nQ 17.328125 -2 10.265625 3.53125 \nQ 3.21875 9.078125 3.21875 19.625 \nQ 3.21875 25.828125 6.25 30.34375 \nQ 9.28125 34.859375 15.234375 37.25 \nz\n\" id=\"Helvetica-56\"/>\n       </defs>\n       <use xlink:href=\"#Helvetica-48\"/>\n       <use x=\"55.615234\" xlink:href=\"#Helvetica-46\"/>\n       <use x=\"83.398438\" xlink:href=\"#Helvetica-48\"/>\n       <use x=\"139.013672\" xlink:href=\"#Helvetica-56\"/>\n      </g>\n     </g>\n    </g>\n    <g id=\"ytick_6\">\n     <g id=\"line2d_13\">\n      <path clip-path=\"url(#p06c375aa26)\" d=\"M 66.179688 173.880676 \nL 512.579687 173.880676 \n\" style=\"fill:none;stroke:#cccccc;stroke-linecap:round;stroke-width:0.8;\"/>\n     </g>\n     <g id=\"line2d_14\"/>\n     <g id=\"text_9\">\n      <!-- 0.10 -->\n      <g style=\"fill:#262626;\" transform=\"translate(35.434375 178.902083)scale(0.14 -0.14)\">\n       <defs>\n        <path d=\"M 9.578125 49.515625 \nL 9.578125 56.25 \nQ 19.09375 57.171875 22.84375 59.34375 \nQ 26.609375 61.53125 28.46875 69.625 \nL 35.40625 69.625 \nL 35.40625 0 \nL 26.03125 0 \nL 26.03125 49.515625 \nz\n\" id=\"Helvetica-49\"/>\n       </defs>\n       <use xlink:href=\"#Helvetica-48\"/>\n       <use x=\"55.615234\" xlink:href=\"#Helvetica-46\"/>\n       <use x=\"83.398438\" xlink:href=\"#Helvetica-49\"/>\n       <use x=\"139.013672\" xlink:href=\"#Helvetica-48\"/>\n      </g>\n     </g>\n    </g>\n    <g id=\"ytick_7\">\n     <g id=\"line2d_15\">\n      <path clip-path=\"url(#p06c375aa26)\" d=\"M 66.179688 135.508912 \nL 512.579687 135.508912 \n\" style=\"fill:none;stroke:#cccccc;stroke-linecap:round;stroke-width:0.8;\"/>\n     </g>\n     <g id=\"line2d_16\"/>\n     <g id=\"text_10\">\n      <!-- 0.12 -->\n      <g style=\"fill:#262626;\" transform=\"translate(35.434375 140.530318)scale(0.14 -0.14)\">\n       <use xlink:href=\"#Helvetica-48\"/>\n       <use x=\"55.615234\" xlink:href=\"#Helvetica-46\"/>\n       <use x=\"83.398438\" xlink:href=\"#Helvetica-49\"/>\n       <use x=\"139.013672\" xlink:href=\"#Helvetica-50\"/>\n      </g>\n     </g>\n    </g>\n    <g id=\"ytick_8\">\n     <g id=\"line2d_17\">\n      <path clip-path=\"url(#p06c375aa26)\" d=\"M 66.179688 97.137147 \nL 512.579687 97.137147 \n\" style=\"fill:none;stroke:#cccccc;stroke-linecap:round;stroke-width:0.8;\"/>\n     </g>\n     <g id=\"line2d_18\"/>\n     <g id=\"text_11\">\n      <!-- 0.14 -->\n      <g style=\"fill:#262626;\" transform=\"translate(35.434375 102.158553)scale(0.14 -0.14)\">\n       <use xlink:href=\"#Helvetica-48\"/>\n       <use x=\"55.615234\" xlink:href=\"#Helvetica-46\"/>\n       <use x=\"83.398438\" xlink:href=\"#Helvetica-49\"/>\n       <use x=\"139.013672\" xlink:href=\"#Helvetica-52\"/>\n      </g>\n     </g>\n    </g>\n    <g id=\"ytick_9\">\n     <g id=\"line2d_19\">\n      <path clip-path=\"url(#p06c375aa26)\" d=\"M 66.179688 58.765382 \nL 512.579687 58.765382 \n\" style=\"fill:none;stroke:#cccccc;stroke-linecap:round;stroke-width:0.8;\"/>\n     </g>\n     <g id=\"line2d_20\"/>\n     <g id=\"text_12\">\n      <!-- 0.16 -->\n      <g style=\"fill:#262626;\" transform=\"translate(35.434375 63.786789)scale(0.14 -0.14)\">\n       <use xlink:href=\"#Helvetica-48\"/>\n       <use x=\"55.615234\" xlink:href=\"#Helvetica-46\"/>\n       <use x=\"83.398438\" xlink:href=\"#Helvetica-49\"/>\n       <use x=\"139.013672\" xlink:href=\"#Helvetica-54\"/>\n      </g>\n     </g>\n    </g>\n    <g id=\"text_13\">\n     <!-- Converted (proportion) -->\n     <g style=\"fill:#262626;\" transform=\"translate(17.51625 273.077313)rotate(-90)scale(0.14 -0.14)\">\n      <defs>\n       <path d=\"M 37.84375 73.6875 \nQ 51.46875 73.6875 58.984375 66.5 \nQ 66.5 59.328125 67.328125 50.203125 \nL 57.859375 50.203125 \nQ 56.25 57.125 51.4375 61.171875 \nQ 46.625 65.234375 37.9375 65.234375 \nQ 27.34375 65.234375 20.828125 57.78125 \nQ 14.3125 50.34375 14.3125 34.96875 \nQ 14.3125 22.359375 20.1875 14.515625 \nQ 26.078125 6.6875 37.75 6.6875 \nQ 48.484375 6.6875 54.109375 14.9375 \nQ 57.078125 19.28125 58.546875 26.375 \nL 68.015625 26.375 \nQ 66.75 15.046875 59.625 7.375 \nQ 51.078125 -1.859375 36.578125 -1.859375 \nQ 24.078125 -1.859375 15.578125 5.71875 \nQ 4.390625 15.71875 4.390625 36.625 \nQ 4.390625 52.484375 12.796875 62.640625 \nQ 21.875 73.6875 37.84375 73.6875 \nz\nM 35.890625 73.6875 \nz\n\" id=\"Helvetica-67\"/>\n       <path d=\"M 10.75 52.296875 \nL 24.703125 9.71875 \nL 39.3125 52.296875 \nL 48.921875 52.296875 \nL 29.203125 0 \nL 19.828125 0 \nL 0.53125 52.296875 \nz\n\" id=\"Helvetica-118\"/>\n       <path d=\"M 12.015625 25.53125 \nQ 12.015625 17.140625 15.578125 11.46875 \nQ 19.140625 5.8125 27 5.8125 \nQ 33.109375 5.8125 37.03125 11.0625 \nQ 40.96875 16.3125 40.96875 26.125 \nQ 40.96875 36.03125 36.90625 40.796875 \nQ 32.859375 45.5625 26.90625 45.5625 \nQ 20.265625 45.5625 16.140625 40.484375 \nQ 12.015625 35.40625 12.015625 25.53125 \nz\nM 25.25 53.21875 \nQ 31.25 53.21875 35.296875 50.6875 \nQ 37.640625 49.21875 40.625 45.5625 \nL 40.625 71.96875 \nL 49.078125 71.96875 \nL 49.078125 0 \nL 41.15625 0 \nL 41.15625 7.28125 \nQ 38.09375 2.4375 33.890625 0.28125 \nQ 29.6875 -1.859375 24.265625 -1.859375 \nQ 15.53125 -1.859375 9.125 5.484375 \nQ 2.734375 12.84375 2.734375 25.046875 \nQ 2.734375 36.46875 8.5625 44.84375 \nQ 14.40625 53.21875 25.25 53.21875 \nz\n\" id=\"Helvetica-100\"/>\n       <path id=\"Helvetica-32\"/>\n       <path d=\"M 29.59375 72.90625 \nQ 21.921875 58.015625 19.625 50.984375 \nQ 16.15625 40.28125 16.15625 26.265625 \nQ 16.15625 12.109375 20.125 0.390625 \nQ 22.5625 -6.84375 29.734375 -20.40625 \nL 23.828125 -20.40625 \nQ 16.703125 -9.28125 14.984375 -6.203125 \nQ 13.28125 -3.125 11.28125 2.15625 \nQ 8.546875 9.375 7.46875 17.578125 \nQ 6.9375 21.828125 6.9375 25.6875 \nQ 6.9375 40.140625 11.46875 51.421875 \nQ 14.359375 58.59375 23.484375 72.90625 \nz\n\" id=\"Helvetica-40\"/>\n       <path d=\"M 6.453125 52.046875 \nL 15.375 52.046875 \nL 15.375 0 \nL 6.453125 0 \nz\nM 6.453125 71.734375 \nL 15.375 71.734375 \nL 15.375 61.765625 \nL 6.453125 61.765625 \nz\n\" id=\"Helvetica-105\"/>\n       <path d=\"M 3.46875 -20.40625 \nQ 11.234375 -5.28125 13.484375 1.65625 \nQ 16.890625 12.15625 16.890625 26.265625 \nQ 16.890625 40.375 12.9375 52.09375 \nQ 10.5 59.328125 3.328125 72.90625 \nL 9.234375 72.90625 \nQ 16.75 60.890625 18.328125 58.078125 \nQ 19.921875 55.28125 21.78125 50.34375 \nQ 24.125 44.234375 25.125 38.28125 \nQ 26.125 32.328125 26.125 26.8125 \nQ 26.125 12.359375 21.53125 1.03125 \nQ 18.65625 -6.25 9.578125 -20.40625 \nz\n\" id=\"Helvetica-41\"/>\n      </defs>\n      <use xlink:href=\"#Helvetica-67\"/>\n      <use x=\"72.216797\" xlink:href=\"#Helvetica-111\"/>\n      <use x=\"127.832031\" xlink:href=\"#Helvetica-110\"/>\n      <use x=\"183.447266\" xlink:href=\"#Helvetica-118\"/>\n      <use x=\"233.447266\" xlink:href=\"#Helvetica-101\"/>\n      <use x=\"289.0625\" xlink:href=\"#Helvetica-114\"/>\n      <use x=\"322.363281\" xlink:href=\"#Helvetica-116\"/>\n      <use x=\"350.146484\" xlink:href=\"#Helvetica-101\"/>\n      <use x=\"405.761719\" xlink:href=\"#Helvetica-100\"/>\n      <use x=\"461.376953\" xlink:href=\"#Helvetica-32\"/>\n      <use x=\"489.160156\" xlink:href=\"#Helvetica-40\"/>\n      <use x=\"522.460938\" xlink:href=\"#Helvetica-112\"/>\n      <use x=\"578.076172\" xlink:href=\"#Helvetica-114\"/>\n      <use x=\"611.376953\" xlink:href=\"#Helvetica-111\"/>\n      <use x=\"666.992188\" xlink:href=\"#Helvetica-112\"/>\n      <use x=\"722.607422\" xlink:href=\"#Helvetica-111\"/>\n      <use x=\"778.222656\" xlink:href=\"#Helvetica-114\"/>\n      <use x=\"811.523438\" xlink:href=\"#Helvetica-116\"/>\n      <use x=\"839.306641\" xlink:href=\"#Helvetica-105\"/>\n      <use x=\"861.523438\" xlink:href=\"#Helvetica-111\"/>\n      <use x=\"917.138672\" xlink:href=\"#Helvetica-110\"/>\n      <use x=\"972.753906\" xlink:href=\"#Helvetica-41\"/>\n     </g>\n    </g>\n   </g>\n   <g id=\"patch_3\">\n    <path clip-path=\"url(#p06c375aa26)\" d=\"M 88.499688 365.7395 \nL 267.059687 365.7395 \nL 267.059687 129.167815 \nL 88.499688 129.167815 \nz\n\" style=\"fill:#3274a1;\"/>\n   </g>\n   <g id=\"patch_4\">\n    <path clip-path=\"url(#p06c375aa26)\" d=\"M 311.699687 365.7395 \nL 490.259687 365.7395 \nL 490.259687 124.696529 \nL 311.699687 124.696529 \nz\n\" style=\"fill:#e1812c;\"/>\n   </g>\n   <g id=\"line2d_21\">\n    <path clip-path=\"url(#p06c375aa26)\" d=\"M 177.779688 128.558094 \nL 177.779688 128.558094 \n\" style=\"fill:none;stroke:#424242;stroke-linecap:round;stroke-width:2.7;\"/>\n   </g>\n   <g id=\"line2d_22\">\n    <path clip-path=\"url(#p06c375aa26)\" d=\"M 400.979688 124.696529 \nL 400.979688 124.696529 \n\" style=\"fill:none;stroke:#424242;stroke-linecap:round;stroke-width:2.7;\"/>\n   </g>\n   <g id=\"patch_5\">\n    <path d=\"M 66.179688 365.7395 \nL 66.179688 39.5795 \n\" style=\"fill:none;stroke:#cccccc;stroke-linecap:square;stroke-linejoin:miter;\"/>\n   </g>\n   <g id=\"patch_6\">\n    <path d=\"M 512.579687 365.7395 \nL 512.579687 39.5795 \n\" style=\"fill:none;stroke:#cccccc;stroke-linecap:square;stroke-linejoin:miter;\"/>\n   </g>\n   <g id=\"patch_7\">\n    <path d=\"M 66.179688 365.7395 \nL 512.579687 365.7395 \n\" style=\"fill:none;stroke:#cccccc;stroke-linecap:square;stroke-linejoin:miter;\"/>\n   </g>\n   <g id=\"patch_8\">\n    <path d=\"M 66.179688 39.5795 \nL 512.579687 39.5795 \n\" style=\"fill:none;stroke:#cccccc;stroke-linecap:square;stroke-linejoin:miter;\"/>\n   </g>\n   <g id=\"text_14\">\n    <!-- Conversion rate by group -->\n    <g style=\"fill:#262626;\" transform=\"translate(195.067375 19.5795)scale(0.168 -0.168)\">\n     <defs>\n      <path d=\"M 11.671875 16.40625 \nQ 12.0625 12.015625 13.875 9.671875 \nQ 17.1875 5.421875 25.390625 5.421875 \nQ 30.28125 5.421875 33.984375 7.546875 \nQ 37.703125 9.671875 37.703125 14.109375 \nQ 37.703125 17.484375 34.71875 19.234375 \nQ 32.8125 20.3125 27.203125 21.734375 \nL 20.21875 23.484375 \nQ 13.53125 25.140625 10.359375 27.203125 \nQ 4.6875 30.765625 4.6875 37.0625 \nQ 4.6875 44.484375 10.03125 49.0625 \nQ 15.375 53.65625 24.421875 53.65625 \nQ 36.234375 53.65625 41.453125 46.734375 \nQ 44.734375 42.328125 44.625 37.25 \nL 36.328125 37.25 \nQ 36.078125 40.234375 34.234375 42.671875 \nQ 31.203125 46.140625 23.734375 46.140625 \nQ 18.75 46.140625 16.1875 44.234375 \nQ 13.625 42.328125 13.625 39.203125 \nQ 13.625 35.796875 17 33.734375 \nQ 18.953125 32.515625 22.75 31.59375 \nL 28.5625 30.171875 \nQ 38.03125 27.875 41.265625 25.734375 \nQ 46.390625 22.359375 46.390625 15.140625 \nQ 46.390625 8.15625 41.09375 3.078125 \nQ 35.796875 -2 24.953125 -2 \nQ 13.28125 -2 8.421875 3.296875 \nQ 3.5625 8.59375 3.21875 16.40625 \nz\nM 24.65625 53.5625 \nz\n\" id=\"Helvetica-115\"/>\n      <path d=\"M 5.765625 71.96875 \nL 14.3125 71.96875 \nL 14.3125 45.953125 \nQ 17.1875 49.703125 21.1875 51.671875 \nQ 25.203125 53.65625 29.890625 53.65625 \nQ 39.65625 53.65625 45.734375 46.9375 \nQ 51.8125 40.234375 51.8125 27.15625 \nQ 51.8125 14.75 45.796875 6.546875 \nQ 39.796875 -1.65625 29.15625 -1.65625 \nQ 23.1875 -1.65625 19.09375 1.21875 \nQ 16.65625 2.9375 13.875 6.6875 \nL 13.875 0 \nL 5.765625 0 \nz\nM 28.609375 6.109375 \nQ 35.75 6.109375 39.28125 11.765625 \nQ 42.828125 17.4375 42.828125 26.703125 \nQ 42.828125 34.96875 39.28125 40.375 \nQ 35.75 45.796875 28.859375 45.796875 \nQ 22.859375 45.796875 18.328125 41.359375 \nQ 13.8125 36.921875 13.8125 26.703125 \nQ 13.8125 19.34375 15.671875 14.75 \nQ 19.140625 6.109375 28.609375 6.109375 \nz\n\" id=\"Helvetica-98\"/>\n      <path d=\"M 39.109375 52.296875 \nL 48.828125 52.296875 \nQ 46.96875 47.265625 40.578125 29.34375 \nQ 35.796875 15.875 32.5625 7.375 \nQ 24.953125 -12.640625 21.828125 -17.03125 \nQ 18.703125 -21.4375 11.078125 -21.4375 \nQ 9.234375 -21.4375 8.234375 -21.28125 \nQ 7.234375 -21.140625 5.765625 -20.75 \nL 5.765625 -12.75 \nQ 8.0625 -13.375 9.078125 -13.515625 \nQ 10.109375 -13.671875 10.890625 -13.671875 \nQ 13.328125 -13.671875 14.46875 -12.859375 \nQ 15.625 -12.0625 16.40625 -10.890625 \nQ 16.65625 -10.5 18.15625 -6.875 \nQ 19.671875 -3.265625 20.359375 -1.515625 \nL 1.03125 52.296875 \nL 10.984375 52.296875 \nL 25 9.71875 \nz\nM 24.953125 53.5625 \nz\n\" id=\"Helvetica-121\"/>\n      <path d=\"M 24.90625 53.21875 \nQ 31.0625 53.21875 35.640625 50.203125 \nQ 38.140625 48.484375 40.71875 45.21875 \nL 40.71875 51.8125 \nL 48.828125 51.8125 \nL 48.828125 4.25 \nQ 48.828125 -5.71875 45.90625 -11.46875 \nQ 40.4375 -22.125 25.25 -22.125 \nQ 16.796875 -22.125 11.03125 -18.328125 \nQ 5.28125 -14.546875 4.59375 -6.5 \nL 13.53125 -6.5 \nQ 14.15625 -10.015625 16.0625 -11.921875 \nQ 19.046875 -14.84375 25.4375 -14.84375 \nQ 35.546875 -14.84375 38.671875 -7.71875 \nQ 40.53125 -3.515625 40.375 7.28125 \nQ 37.75 3.265625 34.03125 1.3125 \nQ 30.328125 -0.640625 24.21875 -0.640625 \nQ 15.71875 -0.640625 9.34375 5.390625 \nQ 2.984375 11.421875 2.984375 25.34375 \nQ 2.984375 38.484375 9.40625 45.84375 \nQ 15.828125 53.21875 24.90625 53.21875 \nz\nM 40.71875 26.375 \nQ 40.71875 36.078125 36.71875 40.765625 \nQ 32.71875 45.453125 26.515625 45.453125 \nQ 17.234375 45.453125 13.8125 36.765625 \nQ 12.015625 32.125 12.015625 24.609375 \nQ 12.015625 15.765625 15.59375 11.15625 \nQ 19.1875 6.546875 25.25 6.546875 \nQ 34.71875 6.546875 38.578125 15.09375 \nQ 40.71875 19.921875 40.71875 26.375 \nz\nM 25.921875 53.5625 \nz\n\" id=\"Helvetica-103\"/>\n     </defs>\n     <use xlink:href=\"#Helvetica-67\"/>\n     <use x=\"72.216797\" xlink:href=\"#Helvetica-111\"/>\n     <use x=\"127.832031\" xlink:href=\"#Helvetica-110\"/>\n     <use x=\"183.447266\" xlink:href=\"#Helvetica-118\"/>\n     <use x=\"233.447266\" xlink:href=\"#Helvetica-101\"/>\n     <use x=\"289.0625\" xlink:href=\"#Helvetica-114\"/>\n     <use x=\"322.363281\" xlink:href=\"#Helvetica-115\"/>\n     <use x=\"372.363281\" xlink:href=\"#Helvetica-105\"/>\n     <use x=\"394.580078\" xlink:href=\"#Helvetica-111\"/>\n     <use x=\"450.195312\" xlink:href=\"#Helvetica-110\"/>\n     <use x=\"505.810547\" xlink:href=\"#Helvetica-32\"/>\n     <use x=\"533.59375\" xlink:href=\"#Helvetica-114\"/>\n     <use x=\"566.894531\" xlink:href=\"#Helvetica-97\"/>\n     <use x=\"622.509766\" xlink:href=\"#Helvetica-116\"/>\n     <use x=\"650.292969\" xlink:href=\"#Helvetica-101\"/>\n     <use x=\"705.908203\" xlink:href=\"#Helvetica-32\"/>\n     <use x=\"733.691406\" xlink:href=\"#Helvetica-98\"/>\n     <use x=\"789.306641\" xlink:href=\"#Helvetica-121\"/>\n     <use x=\"839.306641\" xlink:href=\"#Helvetica-32\"/>\n     <use x=\"867.089844\" xlink:href=\"#Helvetica-103\"/>\n     <use x=\"922.705078\" xlink:href=\"#Helvetica-114\"/>\n     <use x=\"956.005859\" xlink:href=\"#Helvetica-111\"/>\n     <use x=\"1011.621094\" xlink:href=\"#Helvetica-117\"/>\n     <use x=\"1067.236328\" xlink:href=\"#Helvetica-112\"/>\n    </g>\n   </g>\n  </g>\n </g>\n <defs>\n  <clipPath id=\"p06c375aa26\">\n   <rect height=\"326.16\" width=\"446.4\" x=\"66.179688\" y=\"39.5795\"/>\n  </clipPath>\n </defs>\n</svg>\n",
      "image/png": "[encoded data removed]"
     },
     "metadata": {}
    }
   ],
   "source": [
    "#繪出 conversion rate 棒狀圖\n",
    "plt.figure(figsize=(8,6))\n",
    "\n",
    "sns.barplot(x=ab_test['group'], y=ab_test['converted'], ci=False)\n",
    "\n",
    "plt.ylim(0, 0.17)\n",
    "plt.title('Conversion rate by group', pad=20)\n",
    "plt.xlabel('Group', labelpad=15)\n",
    "plt.ylabel('Converted (proportion)', labelpad=15);"
   ]
  },
  {
   "cell_type": "code",
   "execution_count": 14,
   "metadata": {
    "colab": {
     "base_uri": "https://localhost:8080/"
    },
    "id": "3SJ2HsmYEm4M",
    "outputId": "f9f481d7-f3c9-49dc-c75a-ea6a5bd12fec"
   },
   "outputs": [
    {
     "output_type": "stream",
     "name": "stdout",
     "text": [
      "z statistic: -0.34\np-value: 0.732\nci 95% for control group: [0.114, 0.133]\nci 95% for treatment group: [0.116, 0.135]\n"
     ]
    }
   ],
   "source": [
    "#以函數計算z_stat, pval, confidence interval\n",
    "from statsmodels.stats.proportion import proportions_ztest, proportion_confint\n",
    "control_results = ab_test[ab_test['group'] == 'control']['converted']\n",
    "treatment_results = ab_test[ab_test['group'] == 'treatment']['converted']\n",
    "n_con = control_results.count()\n",
    "n_treat = treatment_results.count()\n",
    "successes = [control_results.sum(), treatment_results.sum()]\n",
    "nobs = [n_con, n_treat]\n",
    "\n",
    "z_stat, pval = proportions_ztest(successes, nobs=nobs)\n",
    "(lower_con, lower_treat), (upper_con, upper_treat) = proportion_confint(successes, nobs=nobs, alpha=0.05)\n",
    "\n",
    "print(f'z statistic: {z_stat:.2f}')\n",
    "print(f'p-value: {pval:.3f}')\n",
    "print(f'ci 95% for control group: [{lower_con:.3f}, {upper_con:.3f}]')\n",
    "print(f'ci 95% for treatment group: [{lower_treat:.3f}, {upper_treat:.3f}]')\n",
    "#判讀統計結果"
   ]
  },
  {
   "cell_type": "markdown",
   "metadata": {
    "id": "ckQFAPewwRJL"
   },
   "source": [
    "# 作業：判讀程式最後統計結果，A/B test 是否顯著\n",
    "\n",
    "z statistic: -0.34\n",
    "\n",
    "p-value: 0.732\n",
    "\n",
    "ci 95% for control group: [0.114, 0.133]\n",
    "\n",
    "ci 95% for treatment group: [0.116, 0.135]"
   ]
  },
  {
   "cell_type": "code",
   "execution_count": 15,
   "metadata": {},
   "outputs": [
    {
     "output_type": "stream",
     "name": "stdout",
     "text": [
      "因為p-value大於0.05故，效果不顯著\n"
     ]
    }
   ],
   "source": [
    "print(\"因為p-value大於0.05故，效果不顯著\")"
   ]
  },
  {
   "cell_type": "markdown",
   "metadata": {
    "id": "25S0aik5wjew"
   },
   "source": [
    "# 作業：試以(0.12, 0.11)計算結果是否顯著\n"
   ]
  },
  {
   "cell_type": "code",
   "execution_count": 16,
   "metadata": {},
   "outputs": [],
   "source": [
    "#import necesary library\n",
    "import numpy as np\n",
    "import pandas as pd\n",
    "import scipy.stats as stats\n",
    "import seaborn as sns\n",
    "from math import ceil"
   ]
  },
  {
   "cell_type": "code",
   "execution_count": 17,
   "metadata": {},
   "outputs": [
    {
     "output_type": "stream",
     "name": "stdout",
     "text": [
      "<class 'pandas.core.frame.DataFrame'>\nRangeIndex: 294478 entries, 0 to 294477\nData columns (total 5 columns):\n #   Column        Non-Null Count   Dtype \n---  ------        --------------   ----- \n 0   user_id       294478 non-null  int64 \n 1   timestamp     294478 non-null  object\n 2   group         294478 non-null  object\n 3   landing_page  294478 non-null  object\n 4   converted     294478 non-null  int64 \ndtypes: int64(2), object(3)\nmemory usage: 11.2+ MB\n"
     ]
    },
    {
     "output_type": "execute_result",
     "data": {
      "text/plain": [
       "   user_id                   timestamp      group landing_page  converted\n",
       "0   851104  2017-01-21 22:11:48.556739    control     old_page          0\n",
       "1   804228  2017-01-12 08:01:45.159739    control     old_page          0\n",
       "2   661590  2017-01-11 16:55:06.154213  treatment     new_page          0\n",
       "3   853541  2017-01-08 18:28:03.143765  treatment     new_page          0\n",
       "4   864975  2017-01-21 01:52:26.210827    control     old_page          1\n",
       "5   936923  2017-01-10 15:20:49.083499    control     old_page          0\n",
       "6   679687  2017-01-19 03:26:46.940749  treatment     new_page          1\n",
       "7   719014  2017-01-17 01:48:29.539573    control     old_page          0\n",
       "8   817355  2017-01-04 17:58:08.979471  treatment     new_page          1\n",
       "9   839785  2017-01-15 18:11:06.610965  treatment     new_page          1"
      ],
      "text/html": "<div>\n<style scoped>\n    .dataframe tbody tr th:only-of-type {\n        vertical-align: middle;\n    }\n\n    .dataframe tbody tr th {\n        vertical-align: top;\n    }\n\n    .dataframe thead th {\n        text-align: right;\n    }\n</style>\n<table border=\"1\" class=\"dataframe\">\n  <thead>\n    <tr style=\"text-align: right;\">\n      <th></th>\n      <th>user_id</th>\n      <th>timestamp</th>\n      <th>group</th>\n      <th>landing_page</th>\n      <th>converted</th>\n    </tr>\n  </thead>\n  <tbody>\n    <tr>\n      <th>0</th>\n      <td>851104</td>\n      <td>2017-01-21 22:11:48.556739</td>\n      <td>control</td>\n      <td>old_page</td>\n      <td>0</td>\n    </tr>\n    <tr>\n      <th>1</th>\n      <td>804228</td>\n      <td>2017-01-12 08:01:45.159739</td>\n      <td>control</td>\n      <td>old_page</td>\n      <td>0</td>\n    </tr>\n    <tr>\n      <th>2</th>\n      <td>661590</td>\n      <td>2017-01-11 16:55:06.154213</td>\n      <td>treatment</td>\n      <td>new_page</td>\n      <td>0</td>\n    </tr>\n    <tr>\n      <th>3</th>\n      <td>853541</td>\n      <td>2017-01-08 18:28:03.143765</td>\n      <td>treatment</td>\n      <td>new_page</td>\n      <td>0</td>\n    </tr>\n    <tr>\n      <th>4</th>\n      <td>864975</td>\n      <td>2017-01-21 01:52:26.210827</td>\n      <td>control</td>\n      <td>old_page</td>\n      <td>1</td>\n    </tr>\n    <tr>\n      <th>5</th>\n      <td>936923</td>\n      <td>2017-01-10 15:20:49.083499</td>\n      <td>control</td>\n      <td>old_page</td>\n      <td>0</td>\n    </tr>\n    <tr>\n      <th>6</th>\n      <td>679687</td>\n      <td>2017-01-19 03:26:46.940749</td>\n      <td>treatment</td>\n      <td>new_page</td>\n      <td>1</td>\n    </tr>\n    <tr>\n      <th>7</th>\n      <td>719014</td>\n      <td>2017-01-17 01:48:29.539573</td>\n      <td>control</td>\n      <td>old_page</td>\n      <td>0</td>\n    </tr>\n    <tr>\n      <th>8</th>\n      <td>817355</td>\n      <td>2017-01-04 17:58:08.979471</td>\n      <td>treatment</td>\n      <td>new_page</td>\n      <td>1</td>\n    </tr>\n    <tr>\n      <th>9</th>\n      <td>839785</td>\n      <td>2017-01-15 18:11:06.610965</td>\n      <td>treatment</td>\n      <td>new_page</td>\n      <td>1</td>\n    </tr>\n  </tbody>\n</table>\n</div>"
     },
     "metadata": {},
     "execution_count": 17
    }
   ],
   "source": [
    "# Reading data\n",
    "raw_data=pd.read_csv('ab_data.csv')\n",
    "#show info\n",
    "raw_data.info()\n",
    "#show head\n",
    "raw_data.head(10)"
   ]
  },
  {
   "cell_type": "code",
   "execution_count": 18,
   "metadata": {},
   "outputs": [
    {
     "output_type": "execute_result",
     "data": {
      "text/plain": [
       "637561    2\n",
       "821876    2\n",
       "643869    2\n",
       "938802    2\n",
       "916765    2\n",
       "         ..\n",
       "710897    1\n",
       "708848    1\n",
       "665839    1\n",
       "663790    1\n",
       "630836    1\n",
       "Name: user_id, Length: 290584, dtype: int64"
      ]
     },
     "metadata": {},
     "execution_count": 18
    }
   ],
   "source": [
    "#check unique\n",
    "raw_data['user_id'].value_counts()"
   ]
  },
  {
   "cell_type": "code",
   "execution_count": 19,
   "metadata": {},
   "outputs": [
    {
     "output_type": "stream",
     "name": "stdout",
     "text": [
      "effect size=\t 0.031352702218681694\nrequired n=\t 15970\n"
     ]
    }
   ],
   "source": [
    "# Decide the effect_size base on prob.1 and prob.2\n",
    "import statsmodels.stats.api as sms\n",
    "prob1=0.12\n",
    "prob2=0.11\n",
    "effect_size=sms.proportion_effectsize(prob1,prob2)\n",
    "print('effect size=\\t',effect_size)\n",
    "# Decide reuqired number of sample\n",
    "reuqired_n=sms.NormalIndPower().solve_power(effect_size=effect_size,power=0.8,alpha=0.05,ratio=1)\n",
    "reuqired_n=ceil(reuqired_n)\n",
    "print('required n=\\t',reuqired_n)"
   ]
  },
  {
   "cell_type": "code",
   "execution_count": 20,
   "metadata": {},
   "outputs": [],
   "source": [
    "data=raw_data.drop_duplicates(subset=['user_id'],keep=False)"
   ]
  },
  {
   "cell_type": "code",
   "execution_count": 21,
   "metadata": {},
   "outputs": [],
   "source": [
    "#seperate into \"control\" and \"treatment\"\n",
    "control=data[data['group']=='control']\n",
    "treatment=data[data['group']=='treatment']\n",
    "\n",
    "control_sample=control.sample(reuqired_n,random_state=22)\n",
    "treatment_sample=treatment.sample(reuqired_n,random_state=22)"
   ]
  },
  {
   "cell_type": "code",
   "execution_count": 22,
   "metadata": {},
   "outputs": [
    {
     "output_type": "stream",
     "name": "stdout",
     "text": [
      "       user_id                   timestamp      group landing_page  converted\n0       763854  2017-01-21 03:43:17.188315    control     old_page          0\n1       690555  2017-01-18 06:38:13.079449    control     old_page          0\n2       861520  2017-01-06 21:13:40.044766    control     old_page          0\n3       630778  2017-01-05 16:42:36.995204    control     old_page          0\n4       656634  2017-01-04 15:31:21.676130    control     old_page          0\n...        ...                         ...        ...          ...        ...\n31935   780954  2017-01-19 07:49:58.295232  treatment     new_page          0\n31936   700881  2017-01-13 12:31:37.243352  treatment     new_page          0\n31937   829626  2017-01-14 09:07:57.784950  treatment     new_page          0\n31938   773197  2017-01-05 00:23:56.177295  treatment     new_page          0\n31939   720502  2017-01-15 15:54:12.049241  treatment     new_page          0\n\n[31940 rows x 5 columns]\n"
     ]
    }
   ],
   "source": [
    "ab_test_data=pd.concat([control_sample,treatment_sample])\n",
    "ab_test_data=ab_test_data.reset_index(drop=True)\n",
    "print(ab_test_data)"
   ]
  },
  {
   "cell_type": "code",
   "execution_count": 23,
   "metadata": {},
   "outputs": [],
   "source": [
    "#以函數計算z_stat, pval, confidence interval\n",
    "from statsmodels.stats.proportion import proportion_confint, proportions_ztest\n",
    "control_reuslt=ab_test_data[ab_test_data['group']=='control']['converted']\n",
    "treatment_result=ab_test_data[ab_test_data['group']=='treatment']['converted']\n",
    "\n",
    "n_control=control_reuslt.count()\n",
    "n_treatment=treatment_result.count()"
   ]
  },
  {
   "cell_type": "code",
   "execution_count": 24,
   "metadata": {},
   "outputs": [
    {
     "output_type": "stream",
     "name": "stdout",
     "text": [
      "[1932, 1928]\n[15970, 15970]\n"
     ]
    }
   ],
   "source": [
    "successes=[control_reuslt.sum(),treatment_result.sum()]\n",
    "nobs=[n_control,n_treatment]\n",
    "print(successes)\n",
    "print(nobs)"
   ]
  },
  {
   "cell_type": "code",
   "execution_count": 25,
   "metadata": {},
   "outputs": [],
   "source": [
    "z_stat,pval=proportions_ztest(count=successes,nobs=nobs)\n",
    "(lcl_control,lcl_treatment),(ucl_control,ucl_treatment)=proportion_confint(count=successes,nobs=nobs)"
   ]
  },
  {
   "cell_type": "code",
   "execution_count": 26,
   "metadata": {},
   "outputs": [
    {
     "output_type": "stream",
     "name": "stdout",
     "text": [
      "('z_stat','pval')=(0.069,0.945)\nci 95% for control group: (LCL,UCL)=[0.116,0.126]\nci 95% for treatment group: (LCL,UCL)=[0.116,0.126]\n>>>>>>>> 效果不顯著 <<<<<<<<\n"
     ]
    }
   ],
   "source": [
    "print(\"('z_stat','pval')=({0:.3f},{1:.3f})\".format(z_stat,pval))\n",
    "print(\"ci 95% for control group: (LCL,UCL)=[{0:.3f},{1:.3f}]\".format(lcl_control,ucl_control))\n",
    "print(\"ci 95% for treatment group: (LCL,UCL)=[{0:.3f},{1:.3f}]\".format(lcl_treatment,ucl_treatment))\n",
    "print('>>>>>>>> 效果不顯著 <<<<<<<<')"
   ]
  },
  {
   "cell_type": "markdown",
   "metadata": {
    "id": "Sjbijdxtw_3N"
   },
   "source": [
    "# 作業：樣本數是以那些模組/函數算的"
   ]
  },
  {
   "source": [
    "#### 模組：import statsmodels.stats.api as sms\n",
    "\n",
    "#### 函數：effect_size=sms.proportion_effectsize(prob1,prob2)\n",
    "\n",
    "#### 函數：reuqired_n=sms.NormalIndPower().solve_power(effect_size=effect_size,power=0.8,alpha=0.05,ratio=1)"
   ],
   "cell_type": "markdown",
   "metadata": {}
  }
 ],
 "metadata": {
  "colab": {
   "name": "ABTestExercise_作業.ipynb",
   "provenance": [],
   "toc_visible": true
  },
  "kernelspec": {
   "display_name": "Python 3",
   "language": "python",
   "name": "python3"
  },
  "language_info": {
   "codemirror_mode": {
    "name": "ipython",
    "version": 3
   },
   "file_extension": ".py",
   "mimetype": "text/x-python",
   "name": "python",
   "nbconvert_exporter": "python",
   "pygments_lexer": "ipython3",
   "version": "3.8.5-final"
  }
 },
 "nbformat": 4,
 "nbformat_minor": 1
}