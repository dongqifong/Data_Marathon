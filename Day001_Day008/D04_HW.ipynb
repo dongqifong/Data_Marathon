{
 "cells": [
  {
   "cell_type": "code",
   "execution_count": null,
   "metadata": {
    "id": "J8gYBNBr2Ttc"
   },
   "outputs": [],
   "source": []
  },
  {
   "cell_type": "markdown",
   "metadata": {
    "id": "XYM0mQCi2WTY"
   },
   "source": [
    "作業"
   ]
  },
  {
   "cell_type": "markdown",
   "metadata": {
    "id": "-MPLt0EF2Zto"
   },
   "source": [
    "題目:<br>\n",
    "english_score = np.array([55,89,76,65,48,70])<br>\n",
    "math_score = np.array([60,85,60,68,55,60])<br>\n",
    "chinese_score = np.array([65,90,82,72,66,77])<br>\n",
    "上3列共六位同學的英文、數學、國文成績，第一個元素代表第一位同學，舉例第一位同學英文55分、數學60分、國文65分，運用上列數據回答下列問題。<br>\n",
    "1. 有多少學生英文成績比數學成績高?\n",
    "2. 是否全班同學最高分都是國文?\n",
    "\n",
    "\n"
   ]
  },
  {
   "cell_type": "code",
   "execution_count": 5,
   "metadata": {
    "ExecuteTime": {
     "end_time": "2021-03-10T11:34:48.782727Z",
     "start_time": "2021-03-10T11:34:48.764775Z"
    },
    "id": "owy7B7Us2ZEM"
   },
   "outputs": [],
   "source": [
    "import numpy as np"
   ]
  },
  {
   "cell_type": "code",
   "execution_count": 6,
   "metadata": {
    "ExecuteTime": {
     "end_time": "2021-03-10T11:34:48.797882Z",
     "start_time": "2021-03-10T11:34:48.784702Z"
    },
    "id": "125dZVtGFImu"
   },
   "outputs": [],
   "source": [
    "english_score = np.array([55,89,76,65,48,70])\n",
    "math_score = np.array([60,85,60,68,55,60])\n",
    "chinese_score = np.array([65,90,82,72,66,77])"
   ]
  },
  {
   "cell_type": "code",
   "execution_count": 9,
   "metadata": {
    "ExecuteTime": {
     "end_time": "2021-03-10T11:35:09.834422Z",
     "start_time": "2021-03-10T11:35:09.827441Z"
    },
    "colab": {
     "base_uri": "https://localhost:8080/"
    },
    "executionInfo": {
     "elapsed": 1864,
     "status": "ok",
     "timestamp": 1612409248064,
     "user": {
      "displayName": "献竤黃",
      "photoUrl": "",
      "userId": "07529243043474362942"
     },
     "user_tz": -480
    },
    "id": "i0RGMNH72xkh",
    "outputId": "651f251b-2b8e-45e7-eb09-4e1c824ded12"
   },
   "outputs": [
    {
     "name": "stdout",
     "output_type": "stream",
     "text": [
      "[False  True  True False False  True]\n",
      "ans =  3\n"
     ]
    }
   ],
   "source": [
    "#1.有多少學生英文成績比數學成績高?\n",
    "en_greater_ma = np.greater(english_score,math_score)\n",
    "print(en_greater_ma)\n",
    "print(\"ans = \",np.sum(en_greater_ma))"
   ]
  },
  {
   "cell_type": "code",
   "execution_count": 8,
   "metadata": {
    "ExecuteTime": {
     "end_time": "2021-03-10T11:35:04.399152Z",
     "start_time": "2021-03-10T11:35:04.384191Z"
    },
    "colab": {
     "base_uri": "https://localhost:8080/"
    },
    "executionInfo": {
     "elapsed": 1617,
     "status": "ok",
     "timestamp": 1612409248065,
     "user": {
      "displayName": "献竤黃",
      "photoUrl": "",
      "userId": "07529243043474362942"
     },
     "user_tz": -480
    },
    "id": "F4Hzk1HM8pBZ",
    "outputId": "3b75013d-72b3-4580-99b5-a63128dc75eb"
   },
   "outputs": [
    {
     "name": "stdout",
     "output_type": "stream",
     "text": [
      "[ True  True  True  True  True  True]\n",
      "ans =  True\n"
     ]
    }
   ],
   "source": [
    "#2.是否全班同學最高分都是國文?\n",
    "ch_greater_ma = np.greater(chinese_score,math_score)\n",
    "ch_greater_en = np.greater(chinese_score,english_score)\n",
    "print(np.logical_and(ch_greater_ma,ch_greater_en))\n",
    "print(\"ans = \",np.logical_and(ch_greater_ma,ch_greater_en).all())"
   ]
  },
  {
   "cell_type": "code",
   "execution_count": null,
   "metadata": {
    "id": "hWS90fBsFE4h"
   },
   "outputs": [],
   "source": []
  }
 ],
 "metadata": {
  "colab": {
   "authorship_tag": "ABX9TyOe6+cMDltvW2EswiEkEHtV",
   "collapsed_sections": [],
   "name": "作業Hong解答.ipynb",
   "provenance": []
  },
  "kernelspec": {
   "display_name": "Python 3",
   "language": "python",
   "name": "python3"
  },
  "language_info": {
   "codemirror_mode": {
    "name": "ipython",
    "version": 3
   },
   "file_extension": ".py",
   "mimetype": "text/x-python",
   "name": "python",
   "nbconvert_exporter": "python",
   "pygments_lexer": "ipython3",
   "version": "3.8.5"
  },
  "toc": {
   "base_numbering": 1,
   "nav_menu": {},
   "number_sections": true,
   "sideBar": true,
   "skip_h1_title": false,
   "title_cell": "Table of Contents",
   "title_sidebar": "Contents",
   "toc_cell": false,
   "toc_position": {},
   "toc_section_display": true,
   "toc_window_display": false
  }
 },
 "nbformat": 4,
 "nbformat_minor": 1
}
