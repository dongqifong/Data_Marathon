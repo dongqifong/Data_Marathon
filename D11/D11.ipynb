{
 "cells": [
  {
   "cell_type": "code",
   "execution_count": 48,
   "id": "global-simulation",
   "metadata": {},
   "outputs": [],
   "source": [
    "import pandas as pd\n",
    "from sklearn.preprocessing import LabelEncoder\n",
    "q_df = pd.DataFrame([['male', 'teacher'], \n",
    "              ['male', 'engineer'],\n",
    "              ['female', None],\n",
    "              ['female', 'engineer']],columns=['Sex','Profession'])"
   ]
  },
  {
   "cell_type": "code",
   "execution_count": 49,
   "id": "patient-vector",
   "metadata": {},
   "outputs": [],
   "source": [
    "#缺失值填入字串'others'"
   ]
  },
  {
   "cell_type": "code",
   "execution_count": 50,
   "id": "sunset-wireless",
   "metadata": {},
   "outputs": [],
   "source": [
    "q_df=q_df.fillna(\"others\")"
   ]
  },
  {
   "cell_type": "code",
   "execution_count": 51,
   "id": "exterior-colon",
   "metadata": {},
   "outputs": [
    {
     "name": "stdout",
     "output_type": "stream",
     "text": [
      "      Sex Profession\n",
      "0    male    teacher\n",
      "1    male   engineer\n",
      "2  female     others\n",
      "3  female   engineer\n"
     ]
    }
   ],
   "source": [
    "print(q_df)"
   ]
  },
  {
   "cell_type": "code",
   "execution_count": 52,
   "id": "stainless-desert",
   "metadata": {},
   "outputs": [],
   "source": [
    "#更進一步將字串做編碼。 此時用什麼方式做編碼比較適合?為什麼?\n",
    "#因為性別和職業是沒有順序性的\n",
    "#所以用one-hot encoding"
   ]
  },
  {
   "cell_type": "code",
   "execution_count": 53,
   "id": "inclusive-samuel",
   "metadata": {},
   "outputs": [],
   "source": [
    "sex=pd.get_dummies(q_df[\"Sex\"])\n",
    "profession=pd.get_dummies(q_df[\"Profession\"])\n",
    "q_df=pd.concat([q_df,sex],axis=1)\n",
    "q_df=pd.concat([q_df,profession],axis=1)"
   ]
  },
  {
   "cell_type": "code",
   "execution_count": 54,
   "id": "increasing-athletics",
   "metadata": {},
   "outputs": [
    {
     "name": "stdout",
     "output_type": "stream",
     "text": [
      "      Sex Profession  female  male  engineer  others  teacher\n",
      "0    male    teacher       0     1         0       0        1\n",
      "1    male   engineer       0     1         1       0        0\n",
      "2  female     others       1     0         0       1        0\n",
      "3  female   engineer       1     0         1       0        0\n"
     ]
    }
   ],
   "source": [
    "print(q_df)"
   ]
  },
  {
   "cell_type": "code",
   "execution_count": null,
   "id": "descending-opportunity",
   "metadata": {},
   "outputs": [],
   "source": []
  }
 ],
 "metadata": {
  "kernelspec": {
   "display_name": "Python 3",
   "language": "python",
   "name": "python3"
  },
  "language_info": {
   "codemirror_mode": {
    "name": "ipython",
    "version": 3
   },
   "file_extension": ".py",
   "mimetype": "text/x-python",
   "name": "python",
   "nbconvert_exporter": "python",
   "pygments_lexer": "ipython3",
   "version": "3.6.12"
  }
 },
 "nbformat": 4,
 "nbformat_minor": 5
}
