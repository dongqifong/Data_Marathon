{
 "cells": [
  {
   "cell_type": "markdown",
   "metadata": {
    "id": "Uf6dEaWpP3lo"
   },
   "source": [
    "作業目標:<br>\n",
    "1. 運用索引找出需要資料<br>\n",
    "2. 合併資料的分法應用"
   ]
  },
  {
   "cell_type": "markdown",
   "metadata": {
    "id": "3rP6NOVVQZuB"
   },
   "source": [
    "作業重點:<br>\n",
    "1. 分辨索引loc、iloc差別\n",
    "2. 分辨合併資料方法的不同，因應不同情況使用Merge, join, concatenate"
   ]
  },
  {
   "cell_type": "markdown",
   "metadata": {
    "id": "02Ld_89FP-4N"
   },
   "source": [
    "題目:<br>\n",
    "讀取STOCK_DAY_0050_202009.csv串聯STOCK_DAY_0050_202010.csv，並且找出open小於close的資料\n"
   ]
  },
  {
   "cell_type": "code",
   "execution_count": 1,
   "metadata": {
    "ExecuteTime": {
     "end_time": "2021-03-10T11:58:41.549628Z",
     "start_time": "2021-03-10T11:58:41.186585Z"
    },
    "id": "ysjY4kR5P4rA"
   },
   "outputs": [],
   "source": [
    "import pandas as pd"
   ]
  },
  {
   "cell_type": "code",
   "execution_count": 2,
   "metadata": {
    "ExecuteTime": {
     "end_time": "2021-03-10T11:58:43.193000Z",
     "start_time": "2021-03-10T11:58:43.159795Z"
    },
    "id": "hsEDbEogG4DG"
   },
   "outputs": [],
   "source": [
    "#讀取STOCK_DAY_0050_202009.csv、STOCK_DAY_0050_202010.csv\n",
    "stock1 = pd.read_csv('STOCK_DAY_0050_202009.csv')\n",
    "stock2 = pd.read_csv('STOCK_DAY_0050_202010.csv')"
   ]
  },
  {
   "cell_type": "code",
   "execution_count": 5,
   "metadata": {
    "ExecuteTime": {
     "end_time": "2021-03-10T11:59:05.102678Z",
     "start_time": "2021-03-10T11:59:05.084128Z"
    },
    "id": "cw3OMgQgG4DG"
   },
   "outputs": [
    {
     "data": {
      "text/html": [
       "<div>\n",
       "<style scoped>\n",
       "    .dataframe tbody tr th:only-of-type {\n",
       "        vertical-align: middle;\n",
       "    }\n",
       "\n",
       "    .dataframe tbody tr th {\n",
       "        vertical-align: top;\n",
       "    }\n",
       "\n",
       "    .dataframe thead th {\n",
       "        text-align: right;\n",
       "    }\n",
       "</style>\n",
       "<table border=\"1\" class=\"dataframe\">\n",
       "  <thead>\n",
       "    <tr style=\"text-align: right;\">\n",
       "      <th></th>\n",
       "      <th>date</th>\n",
       "      <th>open</th>\n",
       "      <th>high</th>\n",
       "      <th>low</th>\n",
       "      <th>close</th>\n",
       "    </tr>\n",
       "  </thead>\n",
       "  <tbody>\n",
       "    <tr>\n",
       "      <th>0</th>\n",
       "      <td>109/09/01</td>\n",
       "      <td>102.45</td>\n",
       "      <td>103.35</td>\n",
       "      <td>101.85</td>\n",
       "      <td>103.35</td>\n",
       "    </tr>\n",
       "    <tr>\n",
       "      <th>1</th>\n",
       "      <td>109/09/02</td>\n",
       "      <td>103.65</td>\n",
       "      <td>104.05</td>\n",
       "      <td>102.30</td>\n",
       "      <td>103.00</td>\n",
       "    </tr>\n",
       "    <tr>\n",
       "      <th>2</th>\n",
       "      <td>109/09/03</td>\n",
       "      <td>103.70</td>\n",
       "      <td>104.30</td>\n",
       "      <td>103.20</td>\n",
       "      <td>103.30</td>\n",
       "    </tr>\n",
       "    <tr>\n",
       "      <th>3</th>\n",
       "      <td>109/09/04</td>\n",
       "      <td>102.00</td>\n",
       "      <td>102.70</td>\n",
       "      <td>101.90</td>\n",
       "      <td>102.55</td>\n",
       "    </tr>\n",
       "    <tr>\n",
       "      <th>4</th>\n",
       "      <td>109/09/07</td>\n",
       "      <td>102.55</td>\n",
       "      <td>103.05</td>\n",
       "      <td>101.90</td>\n",
       "      <td>102.40</td>\n",
       "    </tr>\n",
       "  </tbody>\n",
       "</table>\n",
       "</div>"
      ],
      "text/plain": [
       "        date    open    high     low   close\n",
       "0  109/09/01  102.45  103.35  101.85  103.35\n",
       "1  109/09/02  103.65  104.05  102.30  103.00\n",
       "2  109/09/03  103.70  104.30  103.20  103.30\n",
       "3  109/09/04  102.00  102.70  101.90  102.55\n",
       "4  109/09/07  102.55  103.05  101.90  102.40"
      ]
     },
     "execution_count": 5,
     "metadata": {},
     "output_type": "execute_result"
    }
   ],
   "source": [
    "#串聯\n",
    "stock_data = pd.concat([stock1,stock2])\n",
    "stock_data.head()"
   ]
  },
  {
   "cell_type": "code",
   "execution_count": 6,
   "metadata": {
    "ExecuteTime": {
     "end_time": "2021-03-10T11:59:21.651479Z",
     "start_time": "2021-03-10T11:59:21.624530Z"
    },
    "id": "LBBLV7TaG4DH",
    "outputId": "28fb7e0a-839d-41dd-a854-d5791237a9c9",
    "scrolled": true
   },
   "outputs": [
    {
     "data": {
      "text/html": [
       "<div>\n",
       "<style scoped>\n",
       "    .dataframe tbody tr th:only-of-type {\n",
       "        vertical-align: middle;\n",
       "    }\n",
       "\n",
       "    .dataframe tbody tr th {\n",
       "        vertical-align: top;\n",
       "    }\n",
       "\n",
       "    .dataframe thead th {\n",
       "        text-align: right;\n",
       "    }\n",
       "</style>\n",
       "<table border=\"1\" class=\"dataframe\">\n",
       "  <thead>\n",
       "    <tr style=\"text-align: right;\">\n",
       "      <th></th>\n",
       "      <th>date</th>\n",
       "      <th>open</th>\n",
       "      <th>high</th>\n",
       "      <th>low</th>\n",
       "      <th>close</th>\n",
       "    </tr>\n",
       "  </thead>\n",
       "  <tbody>\n",
       "    <tr>\n",
       "      <th>0</th>\n",
       "      <td>109/09/01</td>\n",
       "      <td>102.45</td>\n",
       "      <td>103.35</td>\n",
       "      <td>101.85</td>\n",
       "      <td>103.35</td>\n",
       "    </tr>\n",
       "    <tr>\n",
       "      <th>3</th>\n",
       "      <td>109/09/04</td>\n",
       "      <td>102.00</td>\n",
       "      <td>102.70</td>\n",
       "      <td>101.90</td>\n",
       "      <td>102.55</td>\n",
       "    </tr>\n",
       "    <tr>\n",
       "      <th>5</th>\n",
       "      <td>109/09/08</td>\n",
       "      <td>102.75</td>\n",
       "      <td>103.10</td>\n",
       "      <td>102.45</td>\n",
       "      <td>103.00</td>\n",
       "    </tr>\n",
       "    <tr>\n",
       "      <th>6</th>\n",
       "      <td>109/09/09</td>\n",
       "      <td>101.75</td>\n",
       "      <td>102.35</td>\n",
       "      <td>101.15</td>\n",
       "      <td>102.30</td>\n",
       "    </tr>\n",
       "    <tr>\n",
       "      <th>7</th>\n",
       "      <td>109/09/10</td>\n",
       "      <td>102.80</td>\n",
       "      <td>103.35</td>\n",
       "      <td>102.60</td>\n",
       "      <td>103.20</td>\n",
       "    </tr>\n",
       "  </tbody>\n",
       "</table>\n",
       "</div>"
      ],
      "text/plain": [
       "        date    open    high     low   close\n",
       "0  109/09/01  102.45  103.35  101.85  103.35\n",
       "3  109/09/04  102.00  102.70  101.90  102.55\n",
       "5  109/09/08  102.75  103.10  102.45  103.00\n",
       "6  109/09/09  101.75  102.35  101.15  102.30\n",
       "7  109/09/10  102.80  103.35  102.60  103.20"
      ]
     },
     "execution_count": 6,
     "metadata": {},
     "output_type": "execute_result"
    }
   ],
   "source": [
    "#找出open小於close的資料\n",
    "ans=stock_data[stock_data.open<stock_data.close]\n",
    "ans.head()"
   ]
  },
  {
   "cell_type": "code",
   "execution_count": null,
   "metadata": {
    "id": "tZaFA68VG4DH"
   },
   "outputs": [],
   "source": []
  }
 ],
 "metadata": {
  "colab": {
   "collapsed_sections": [],
   "name": "pandas_select_merge_hw解答.ipynb",
   "provenance": []
  },
  "kernelspec": {
   "display_name": "Python 3",
   "language": "python",
   "name": "python3"
  },
  "language_info": {
   "codemirror_mode": {
    "name": "ipython",
    "version": 3
   },
   "file_extension": ".py",
   "mimetype": "text/x-python",
   "name": "python",
   "nbconvert_exporter": "python",
   "pygments_lexer": "ipython3",
   "version": "3.8.5"
  },
  "toc": {
   "base_numbering": 1,
   "nav_menu": {},
   "number_sections": true,
   "sideBar": true,
   "skip_h1_title": false,
   "title_cell": "Table of Contents",
   "title_sidebar": "Contents",
   "toc_cell": false,
   "toc_position": {},
   "toc_section_display": true,
   "toc_window_display": false
  }
 },
 "nbformat": 4,
 "nbformat_minor": 1
}
