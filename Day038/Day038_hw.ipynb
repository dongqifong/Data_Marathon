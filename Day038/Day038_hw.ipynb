{
 "metadata": {
  "language_info": {
   "codemirror_mode": {
    "name": "ipython",
    "version": 3
   },
   "file_extension": ".py",
   "mimetype": "text/x-python",
   "name": "python",
   "nbconvert_exporter": "python",
   "pygments_lexer": "ipython3",
   "version": "3.8.5-final"
  },
  "orig_nbformat": 2,
  "kernelspec": {
   "name": "python3",
   "display_name": "Python 3.8.5 64-bit ('py38_data': conda)",
   "metadata": {
    "interpreter": {
     "hash": "1606c7c53c2cf95b63f3b5e0b1da62aa23bd9a1bd9d678180ba4366a39e521ef"
    }
   }
  }
 },
 "nbformat": 4,
 "nbformat_minor": 2,
 "cells": [
  {
   "source": [
    "作業\n",
    "在鐵達尼資料集中，今天我們專注觀察變數之間的相關性，以Titanic_train.csv 中，首先將有遺失值的數值刪除，並回答下列問題。\n",
    "\n",
    "Q1: 透過數值法計算 Age 和 Survived 是否有相關性?\n",
    "Q2:透過數值法計算 Sex 和 Survived 是否有相關性?\n",
    "Q3: 透過數值法計算 Age 和 Fare 是否有相關性?\n",
    "提示:\n",
    "1.產稱一個新的變數 Survived_cate ，資料型態傳換成類別型態\n",
    "2.把題目中的 Survived 用 Survived_cate 來做分析\n",
    "3.首先觀察一下這些變數的資料型態後，再來想要以哪一種判斷倆倆的相關性。"
   ],
   "cell_type": "markdown",
   "metadata": {}
  },
  {
   "cell_type": "code",
   "execution_count": 45,
   "metadata": {},
   "outputs": [],
   "source": [
    "# import library\n",
    "import matplotlib.pyplot as plt\n",
    "import numpy as np\n",
    "import pandas as pd\n",
    "from scipy import stats\n",
    "import math\n",
    "import statistics\n",
    "import seaborn as sns\n",
    "from IPython.display import display\n",
    "\n",
    "import pingouin as pg\n",
    "import researchpy   \n",
    "%matplotlib inline"
   ]
  },
  {
   "source": [
    "## 讀入資料"
   ],
   "cell_type": "markdown",
   "metadata": {}
  },
  {
   "cell_type": "code",
   "execution_count": 46,
   "metadata": {},
   "outputs": [
    {
     "output_type": "stream",
     "name": "stdout",
     "text": [
      "<class 'pandas.core.frame.DataFrame'>\nRangeIndex: 891 entries, 0 to 890\nData columns (total 12 columns):\n #   Column       Non-Null Count  Dtype  \n---  ------       --------------  -----  \n 0   PassengerId  891 non-null    int64  \n 1   Survived     891 non-null    int64  \n 2   Pclass       891 non-null    int64  \n 3   Name         891 non-null    object \n 4   Sex          891 non-null    object \n 5   Age          714 non-null    float64\n 6   SibSp        891 non-null    int64  \n 7   Parch        891 non-null    int64  \n 8   Ticket       891 non-null    object \n 9   Fare         891 non-null    float64\n 10  Cabin        204 non-null    object \n 11  Embarked     889 non-null    object \ndtypes: float64(2), int64(5), object(5)\nmemory usage: 83.7+ KB\nNone\n"
     ]
    }
   ],
   "source": [
    "df_train = pd.read_csv(\"Titanic_train.csv\")\n",
    "print(df_train.info())"
   ]
  },
  {
   "cell_type": "code",
   "execution_count": 47,
   "metadata": {},
   "outputs": [
    {
     "output_type": "stream",
     "name": "stdout",
     "text": [
      "0      0\n1      1\n2      1\n3      1\n4      0\n      ..\n886    0\n887    1\n888    0\n889    1\n890    0\nName: Survived, Length: 891, dtype: int64\n"
     ]
    }
   ],
   "source": [
    "## 這邊我們做一個調整，把 Survived 變成離散型變數 Survived_cate\n",
    "print(df_train['Survived'])"
   ]
  },
  {
   "source": [
    "### Q1: 透過數值法計算 Age 和 Survived 是否有相關性?"
   ],
   "cell_type": "markdown",
   "metadata": {}
  },
  {
   "cell_type": "code",
   "execution_count": 48,
   "metadata": {},
   "outputs": [
    {
     "output_type": "stream",
     "name": "stdout",
     "text": [
      "<class 'pandas.core.frame.DataFrame'>\nInt64Index: 714 entries, 0 to 890\nData columns (total 12 columns):\n #   Column       Non-Null Count  Dtype  \n---  ------       --------------  -----  \n 0   PassengerId  714 non-null    int64  \n 1   Survived     714 non-null    int64  \n 2   Pclass       714 non-null    int64  \n 3   Name         714 non-null    object \n 4   Sex          714 non-null    object \n 5   Age          714 non-null    float64\n 6   SibSp        714 non-null    int64  \n 7   Parch        714 non-null    int64  \n 8   Ticket       714 non-null    object \n 9   Fare         714 non-null    float64\n 10  Cabin        185 non-null    object \n 11  Embarked     712 non-null    object \ndtypes: float64(2), int64(5), object(5)\nmemory usage: 72.5+ KB\n     Source             SS   DF          MS         F     p-unc       np2\n0  Survived     897.187582    1  897.187582  4.271195  0.039125  0.005963\n1    Within  149559.448362  712  210.055405       NaN       NaN       NaN\n0.0059630974469252\n\nANS:幾乎可忽略\n"
     ]
    }
   ],
   "source": [
    "#Age和Survived都是連續vs離散型資料\n",
    "#-->用eta2\n",
    "\n",
    "#stet1:資料清理(把空值剔除):使用dropna，並且複製一份給新變數，避免動到原資料\n",
    "data_dropna=df_train.dropna(subset=['Age','Survived'],inplace=False).copy()\n",
    "data_dropna.info()\n",
    "#使用pg.anova計算SS\n",
    "import pingouin as pg\n",
    "aov=pg.anova(dv='Age',between='Survived',data=data_dropna[['Age','Survived']],detailed=True)\n",
    "print(aov)\n",
    "eta2=aov.SS[0]/(aov.SS[0]+aov.SS[1])\n",
    "print(eta2)\n",
    "print('\\nANS:幾乎可忽略')"
   ]
  },
  {
   "source": [
    "### Q2:透過數值法計算 Sex 和 Survived 是否有相關性?\n"
   ],
   "cell_type": "markdown",
   "metadata": {}
  },
  {
   "cell_type": "code",
   "execution_count": 49,
   "metadata": {},
   "outputs": [
    {
     "output_type": "stream",
     "name": "stdout",
     "text": [
      "Survived    0    1\n",
      "Sex               \n",
      "0          81  233\n",
      "1         468  109\n",
      "1\n",
      "         Survived          \n",
      "Survived        0    1  All\n",
      "Sex                        \n",
      "0              81  233  314\n",
      "1             468  109  577\n",
      "All           549  342  891\n",
      "                Chi-square test   results\n",
      "0  Pearson Chi-square ( 1.0) =   263.0506\n",
      "1                    p-value =     0.0000\n",
      "2               Cramer's phi =     0.5434\n",
      "Cramer's value= 0.5434\n",
      "\n",
      "ANS:高度相關\n"
     ]
    }
   ],
   "source": [
    "#stet1:資料清理(把空值剔除):使用dropna+把sex轉成數字形式，並且複製一份給新變數，避免動到原資料\n",
    "\n",
    "#清除空值\n",
    "data_dropna=df_train.dropna(subset=['Sex','Survived'],inplace=False).copy()\n",
    "##將Sex由字串轉成數字形式\n",
    "from sklearn.preprocessing import LabelEncoder\n",
    "labelencoder=LabelEncoder()\n",
    "data_dropna['Sex']=labelencoder.fit_transform(data_dropna['Sex'])\n",
    "# print(data_dropna['Sex'])\n",
    "#step2:離散vs離散-->使用Cramer's V\n",
    "conTable=pd.crosstab(data_dropna['Sex'],data_dropna['Survived'])\n",
    "print(conTable)\n",
    "#計算df\n",
    "df=min(conTable.shape[0],conTable.shape[1])-1\n",
    "print(df)\n",
    "\n",
    "crosstab,res=researchpy.crosstab(data_dropna['Sex'],data_dropna['Survived'],test='chi-square')\n",
    "\n",
    "print(crosstab)\n",
    "print(res)\n",
    "print(\"Cramer's value=\",res.loc[2,'results'])\n",
    "print('\\nANS:高度相關')"
   ]
  },
  {
   "source": [
    "### Q3: 透過數值法計算 Age 和 Fare 是否有相關性?"
   ],
   "cell_type": "markdown",
   "metadata": {}
  },
  {
   "cell_type": "code",
   "execution_count": 50,
   "metadata": {},
   "outputs": [
    {
     "output_type": "stream",
     "name": "stdout",
     "text": [
      "--------------------------------------------------\n",
      "Corr= 0.0960666917690389\n",
      "P-value= 0.010216277504442105\n",
      "\n",
      "ANS:沒有相關性\n"
     ]
    }
   ],
   "source": [
    "data_dropna=df_train.dropna(subset=['Age','Fare'],inplace=False).copy()\n",
    "corr,p_value=stats.pearsonr(data_dropna['Age'],data_dropna['Fare'])\n",
    "print('-'*50)\n",
    "print('Corr=',corr)\n",
    "print('P-value=',p_value)\n",
    "print('\\nANS:沒有相關性')"
   ]
  },
  {
   "cell_type": "code",
   "execution_count": null,
   "metadata": {},
   "outputs": [],
   "source": []
  }
 ]
}