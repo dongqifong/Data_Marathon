{
 "cells": [
  {
   "cell_type": "markdown",
   "metadata": {
    "id": "ecrVHDiuAto7"
   },
   "source": [
    "哈摟，各位資料科學家大家好，我是來自於台北市\"頭期款不足\"的阿宏，我想買房子很久了，但是不知道要買哪個地方，想先從內政部不動產交易時價登入資料中先了解行情，我現在手邊蒐集了台北市Taipei(A_lvr_land_A.csv)、新北市New_Taipei(F_lvr_land_A.csv)、台中市Taichung(B_lvr_land_A.csv)、高雄市Kaohsiung(E_lvr_land_A.csv)共四份資料，請各位資料科學家幫幫忙分析了。"
   ]
  },
  {
   "cell_type": "markdown",
   "metadata": {
    "id": "9_PILIgwAtpW"
   },
   "source": [
    "# 1.不動產資料檔案讀取並串接"
   ]
  },
  {
   "cell_type": "markdown",
   "metadata": {
    "id": "54hz4CgWAtpX"
   },
   "source": [
    "資料分散在4個資料，先合併成一個資料方便後續分析，但是我發現有英文欄位跟中文欄位，留下中文刪除英文，並加入新的欄位用以分辨台北市Taipei、新北市New_Taipei、台中市Taichung、高雄市Kaohsiung"
   ]
  },
  {
   "cell_type": "markdown",
   "metadata": {
    "id": "UAgGy_owAtpY"
   },
   "source": [
    "1. 利用Pandas中的pd.read_csv()分別讀取A_lvr_land_A.csv、B_lvr_land_A.csv、E_lvr_land_A.csv、F_lvr_land_A.csv\n",
    "2. 刪除csv中第二列英文翻譯，The villages and towns urban district,transaction sign,land sector position building sector house number plate,land shifting total area square meter,....\n",
    "3. 生成city欄位其中以地區分類台北市Taipei(A_lvr_land_A.csv)、新北市New_Taipei(F_lvr_land_A.csv)、台中市Taichung(B_lvr_land_A.csv)、高雄市Kaohsiung(E_lvr_land_A.csv)\n",
    "4. 將以上四份資料運用pd.concat()串接"
   ]
  },
  {
   "cell_type": "code",
   "execution_count": 20,
   "metadata": {
    "id": "AtdUcGYAAtpY"
   },
   "outputs": [],
   "source": [
    "import pandas as pd \n",
    "import warnings\n",
    "warnings.filterwarnings('ignore')"
   ]
  },
  {
   "cell_type": "code",
   "execution_count": 21,
   "metadata": {
    "id": "qaBwVWbkAtpZ"
   },
   "outputs": [],
   "source": [
    "#1.利用Pandas中的pd.read_csv()分別讀取A_lvr_land_A.csv、B_lvr_land_A.csv、E_lvr_land_A.csv、F_lvr_land_A.csv\n",
    "dataA=pd.read_csv(\"A_lvr_land_A.csv\")\n",
    "dataB=pd.read_csv(\"B_lvr_land_A.csv\")\n",
    "dataE=pd.read_csv(\"E_lvr_land_A.csv\")\n",
    "dataF=pd.read_csv(\"F_lvr_land_A.csv\")"
   ]
  },
  {
   "cell_type": "code",
   "execution_count": 22,
   "metadata": {
    "id": "ulv52OOeAtpZ"
   },
   "outputs": [],
   "source": [
    "#2.刪除csv中第二列英文翻譯，The villages and towns urban district,transaction sign,land sector position building sector house number plate,land shifting total area square meter,....\n",
    "dataA.drop(index=0,inplace=True)\n",
    "dataB.drop(index=0,inplace=True)\n",
    "dataE.drop(index=0,inplace=True)\n",
    "dataF.drop(index=0,inplace=True)"
   ]
  },
  {
   "cell_type": "code",
   "execution_count": 23,
   "metadata": {
    "id": "p7cqARS8Atpa"
   },
   "outputs": [],
   "source": [
    "#3. 生成city欄位其中以地區分類台北市Taipei(A_lvr_land_A.csv)、新北市New_Taipei(F_lvr_land_A.csv)、台中市Taichung(B_lvr_land_A.csv)、高雄市Kaohsiung(E_lvr_land_A.csv)\n",
    "dataA[\"city\"]=\"Taipei\"\n",
    "dataB[\"city\"]=\"Taichung\"\n",
    "dataE[\"city\"]=\"Kaohsiung\"\n",
    "dataF[\"city\"]=\"New_Taipei\"\n",
    "# shape_A=dataA.shape\n",
    "# shape_B=dataB.shape\n",
    "# shape_E=dataE.shape\n",
    "# shape_F=dataF.shape"
   ]
  },
  {
   "cell_type": "code",
   "execution_count": 24,
   "metadata": {
    "id": "5Sajh33BAtpb"
   },
   "outputs": [
    {
     "data": {
      "text/html": [
       "<div>\n",
       "<style scoped>\n",
       "    .dataframe tbody tr th:only-of-type {\n",
       "        vertical-align: middle;\n",
       "    }\n",
       "\n",
       "    .dataframe tbody tr th {\n",
       "        vertical-align: top;\n",
       "    }\n",
       "\n",
       "    .dataframe thead th {\n",
       "        text-align: right;\n",
       "    }\n",
       "</style>\n",
       "<table border=\"1\" class=\"dataframe\">\n",
       "  <thead>\n",
       "    <tr style=\"text-align: right;\">\n",
       "      <th></th>\n",
       "      <th>鄉鎮市區</th>\n",
       "      <th>交易標的</th>\n",
       "      <th>土地區段位置建物區段門牌</th>\n",
       "      <th>土地移轉總面積平方公尺</th>\n",
       "      <th>都市土地使用分區</th>\n",
       "      <th>非都市土地使用分區</th>\n",
       "      <th>非都市土地使用編定</th>\n",
       "      <th>交易年月日</th>\n",
       "      <th>交易筆棟數</th>\n",
       "      <th>移轉層次</th>\n",
       "      <th>...</th>\n",
       "      <th>車位類別</th>\n",
       "      <th>車位移轉總面積(平方公尺)</th>\n",
       "      <th>車位總價元</th>\n",
       "      <th>備註</th>\n",
       "      <th>編號</th>\n",
       "      <th>主建物面積</th>\n",
       "      <th>附屬建物面積</th>\n",
       "      <th>陽台面積</th>\n",
       "      <th>電梯</th>\n",
       "      <th>city</th>\n",
       "    </tr>\n",
       "  </thead>\n",
       "  <tbody>\n",
       "    <tr>\n",
       "      <th>0</th>\n",
       "      <td>文山區</td>\n",
       "      <td>房地(土地+建物)+車位</td>\n",
       "      <td>臺北市文山區忠順街二段85巷1~30號</td>\n",
       "      <td>26.97</td>\n",
       "      <td>住</td>\n",
       "      <td>NaN</td>\n",
       "      <td>NaN</td>\n",
       "      <td>1090406</td>\n",
       "      <td>土地1建物1車位2</td>\n",
       "      <td>四層</td>\n",
       "      <td>...</td>\n",
       "      <td>坡道平面</td>\n",
       "      <td>40.7</td>\n",
       "      <td>0</td>\n",
       "      <td>含增建或未登記建物。;內含獨立產權車位，未包含在棟數內。</td>\n",
       "      <td>RPVOMLMKNHPFFAA18CA</td>\n",
       "      <td>110.91</td>\n",
       "      <td>9.63</td>\n",
       "      <td>11.09</td>\n",
       "      <td>NaN</td>\n",
       "      <td>Taipei</td>\n",
       "    </tr>\n",
       "    <tr>\n",
       "      <th>1</th>\n",
       "      <td>文山區</td>\n",
       "      <td>房地(土地+建物)</td>\n",
       "      <td>臺北市文山區福興路91~120號</td>\n",
       "      <td>10.32</td>\n",
       "      <td>住</td>\n",
       "      <td>NaN</td>\n",
       "      <td>NaN</td>\n",
       "      <td>1090317</td>\n",
       "      <td>土地1建物1車位0</td>\n",
       "      <td>三層</td>\n",
       "      <td>...</td>\n",
       "      <td>NaN</td>\n",
       "      <td>0.0</td>\n",
       "      <td>0</td>\n",
       "      <td>含增建或未登記建物。;</td>\n",
       "      <td>RPPPMLMKNHPFFAA67CA</td>\n",
       "      <td>24.58</td>\n",
       "      <td>1.28</td>\n",
       "      <td>2.30</td>\n",
       "      <td>NaN</td>\n",
       "      <td>Taipei</td>\n",
       "    </tr>\n",
       "    <tr>\n",
       "      <th>2</th>\n",
       "      <td>文山區</td>\n",
       "      <td>房地(土地+建物)</td>\n",
       "      <td>臺北市文山區木柵路四段121~150號</td>\n",
       "      <td>39.64</td>\n",
       "      <td>其他</td>\n",
       "      <td>NaN</td>\n",
       "      <td>NaN</td>\n",
       "      <td>1090418</td>\n",
       "      <td>土地2建物1車位0</td>\n",
       "      <td>六層</td>\n",
       "      <td>...</td>\n",
       "      <td>NaN</td>\n",
       "      <td>0.0</td>\n",
       "      <td>0</td>\n",
       "      <td>NaN</td>\n",
       "      <td>RPSPMLMKNHPFFAA97CA</td>\n",
       "      <td>78.80</td>\n",
       "      <td>4.15</td>\n",
       "      <td>8.76</td>\n",
       "      <td>NaN</td>\n",
       "      <td>Taipei</td>\n",
       "    </tr>\n",
       "  </tbody>\n",
       "</table>\n",
       "<p>3 rows × 33 columns</p>\n",
       "</div>"
      ],
      "text/plain": [
       "  鄉鎮市區          交易標的         土地區段位置建物區段門牌 土地移轉總面積平方公尺 都市土地使用分區 非都市土地使用分區  \\\n",
       "0  文山區  房地(土地+建物)+車位  臺北市文山區忠順街二段85巷1~30號       26.97        住       NaN   \n",
       "1  文山區     房地(土地+建物)     臺北市文山區福興路91~120號       10.32        住       NaN   \n",
       "2  文山區     房地(土地+建物)  臺北市文山區木柵路四段121~150號       39.64       其他       NaN   \n",
       "\n",
       "  非都市土地使用編定    交易年月日      交易筆棟數 移轉層次  ...  車位類別 車位移轉總面積(平方公尺) 車位總價元  \\\n",
       "0       NaN  1090406  土地1建物1車位2   四層  ...  坡道平面          40.7     0   \n",
       "1       NaN  1090317  土地1建物1車位0   三層  ...   NaN           0.0     0   \n",
       "2       NaN  1090418  土地2建物1車位0   六層  ...   NaN           0.0     0   \n",
       "\n",
       "                             備註                   編號   主建物面積 附屬建物面積   陽台面積  \\\n",
       "0  含增建或未登記建物。;內含獨立產權車位，未包含在棟數內。  RPVOMLMKNHPFFAA18CA  110.91   9.63  11.09   \n",
       "1                   含增建或未登記建物。;  RPPPMLMKNHPFFAA67CA   24.58   1.28   2.30   \n",
       "2                           NaN  RPSPMLMKNHPFFAA97CA   78.80   4.15   8.76   \n",
       "\n",
       "    電梯    city  \n",
       "0  NaN  Taipei  \n",
       "1  NaN  Taipei  \n",
       "2  NaN  Taipei  \n",
       "\n",
       "[3 rows x 33 columns]"
      ]
     },
     "execution_count": 24,
     "metadata": {},
     "output_type": "execute_result"
    }
   ],
   "source": [
    "#4. 將以上四份資料運用pd.concat()串接\n",
    "data=pd.concat([dataA,dataB,dataE,dataF],ignore_index=True)\n",
    "data.head(3)"
   ]
  },
  {
   "cell_type": "markdown",
   "metadata": {
    "id": "vf6GM8Z_Atpb"
   },
   "source": [
    "# 2. 資料清理與切片"
   ]
  },
  {
   "cell_type": "markdown",
   "metadata": {
    "id": "QMPrmISNAtpb"
   },
   "source": [
    "因為我是想買來住的房子，所以幫忙刪除住宿用途以外的資料，並且限制\n",
    "1. 交易年月日，限制在109年\n",
    "2. 建物現況格局-房，1~5間 \n",
    "3. 建物現況格局-廳，1~2廳"
   ]
  },
  {
   "cell_type": "markdown",
   "metadata": {
    "id": "1C-ImCfTAtpc"
   },
   "source": [
    "以下columns_mapping、analysis_columns、columns_type提供給資料科學家配合使用\n",
    "1. 利用.rename()並配合以下columns_mapping，將原中文欄位名稱改為英文方便之後分析\n",
    "2. 取出主要用途(main_use)為'住家用'以及都市土地使用分區(use_zoning)為'住'的資料並針對以下欄位analysis_columns做分析並去除na值\n",
    "   (提示:先取完之後再.dropna())\n",
    "3. 觀察欄位資料型態，並利用.astype()搭配以下提供的columns_type做欄位型態轉換\n",
    "4. 做資料切片將<br>\n",
    "    新增欄位交易年月日(tx_dt_year)，從交易年月日(tx_dt)萃取出年份<br>\n",
    "    1.交易年月日(tx_dt_year)，限制在109年<br>\n",
    "    2.建物現況格局-房(room_number)，限制在1到5間<br>\n",
    "    3.建物現況格局-廳(hall_number)，限制在1到2廳<br>\n",
    "    4.最後運用.reset_index()重新定義索引"
   ]
  },
  {
   "cell_type": "code",
   "execution_count": 25,
   "metadata": {
    "id": "rBSElFmKAtpc"
   },
   "outputs": [],
   "source": [
    "columns_mapping = {'鄉鎮市區':'towns',\n",
    "'交易標的':'transaction_sign',\n",
    "'土地區段位置建物區段門牌':'house_number',\n",
    "'土地移轉總面積平方公尺':'land_area_square_meter', \n",
    "'都市土地使用分區':'use_zoning', \n",
    "'非都市土地使用分區':'land_use_district',\n",
    "'非都市土地使用編定':'land_use',\n",
    "'交易年月日':'tx_dt', \n",
    " '交易筆棟數':'transaction_pen_number', \n",
    " '移轉層次':'shifting_level', \n",
    " '總樓層數':'total_floor_number', \n",
    " '建物型態':'building_state', \n",
    " '主要用途':'main_use', \n",
    " '主要建材':'main_materials',\n",
    " '建築完成年月':'complete_date', \n",
    " '建物移轉總面積平方公尺':'building_area_square_meter', \n",
    " '建物現況格局-房':'room_number', \n",
    " '建物現況格局-廳':'hall_number', \n",
    " '建物現況格局-衛':'health_number', \n",
    "'建物現況格局-隔間':'compartmented_number', \n",
    " '有無管理組織':'manages', \n",
    " '總價元':'total_price', \n",
    " '單價元平方公尺':'unit_price', \n",
    " '車位類別':'berth_category', \n",
    " '車位移轉總面積(平方公尺)':'berth_area_square_meter',\n",
    "'車位總價元':'berth_price', \n",
    " '備註':'note', \n",
    " '編號':'serial_number', \n",
    " '主建物面積':'main_building_area', \n",
    " '附屬建物面積':'auxiliary_building_area', \n",
    " '陽台面積':'balcony_area', \n",
    " '電梯':'elevator'\n",
    "                  }\n",
    "analysis_columns = ['city',\n",
    "                    'towns',\n",
    "                    'main_use',\n",
    "                    'use_zoning',\n",
    "                    'total_price',\n",
    "                    'building_area_square_meter',\n",
    "                    'main_building_area',\n",
    "                    'tx_dt',\n",
    "                    'unit_price',\n",
    "                    'room_number',\n",
    "                    'hall_number',\n",
    "                    'health_number']\n",
    "\n",
    "columns_type = {'total_price': 'int',\n",
    "                'unit_price':'float',\n",
    "                'building_area_square_meter':'float',\n",
    "                'main_building_area': 'float',\n",
    "                'room_number': 'int',\n",
    "                'hall_number': 'int',\n",
    "                'health_number': 'int'}"
   ]
  },
  {
   "cell_type": "code",
   "execution_count": 26,
   "metadata": {
    "id": "JFrw25keAtpe",
    "scrolled": true
   },
   "outputs": [],
   "source": [
    "#1. 利用.rename()並配合以下columns_mapping，將原中文欄位名稱改為英文方便之後分析\n",
    "#Rename\n",
    "data.rename(mapper=columns_mapping,axis=1,inplace=True)"
   ]
  },
  {
   "cell_type": "code",
   "execution_count": 27,
   "metadata": {
    "id": "GMPSUJFcAtpf"
   },
   "outputs": [],
   "source": [
    "#2. 取出主要用途(main_use)為'住家用'以及都市土地使用分區(use_zoning)為'住'的資料並針對以下欄位analysis_columns做分析並去除na值 (提示:先取完之後再.dropna())\n",
    "\n",
    "#extract \"住家用\" in column \"main_use\" and \"住\" in column \"use_zoning\"\n",
    "data2=data[(data[\"main_use\"]==\"住家用\") & (data[\"use_zoning\"]==\"住\")]\n",
    "data2=data2.dropna(subset=analysis_columns)"
   ]
  },
  {
   "cell_type": "code",
   "execution_count": 28,
   "metadata": {
    "id": "Y5_BWtUpAtph"
   },
   "outputs": [],
   "source": [
    "#3. 觀察欄位資料型態，並利用.astype()搭配以下提供的columns_type做欄位型態轉換\n",
    "data2=data2.astype(columns_type)"
   ]
  },
  {
   "cell_type": "code",
   "execution_count": 29,
   "metadata": {
    "id": "AxF8yHDeAtph",
    "scrolled": true
   },
   "outputs": [
    {
     "name": "stdout",
     "output_type": "stream",
     "text": [
      "shape of new data =  (6894, 12)\n"
     ]
    }
   ],
   "source": [
    "#4. 做資料切片將\n",
    "#     新增欄位交易年月日(tx_dt_year)，從交易年月日(tx_dt)萃取出年份\n",
    "#     1.交易年月日(tx_dt_year)，限制在109年\n",
    "#     2.建物現況格局-房(room_number)，限制在1到5間\n",
    "#     3.建物現況格局-廳(hall_number)，限制在1到2廳\n",
    "#     4.最後運用.reset_index()重新定義索引\n",
    "        \n",
    "data2[\"tx_dt_year\"]=data2[\"tx_dt\"].apply(lambda x: x[0:-4])\n",
    "data2[\"tx_dt_year\"].head(5)\n",
    "mask1=data2[\"tx_dt_year\"]==\"109\"\n",
    "mask2=(data2[\"room_number\"]>=1) & (data2[\"room_number\"]<=5)\n",
    "mask3=(data2[\"hall_number\"]>=1) & (data2[\"hall_number\"]<=2)\n",
    "mask=(mask1) & (mask2) & (mask3)\n",
    "data3=data2[mask].reset_index()\n",
    "data3=data3.loc[:,analysis_columns]\n",
    "print('shape of new data = ',data3.shape)"
   ]
  },
  {
   "cell_type": "markdown",
   "metadata": {
    "id": "zTOTmNDxAtpi"
   },
   "source": [
    "# 3. 建立自定義特徵加入分析\n"
   ]
  },
  {
   "cell_type": "markdown",
   "metadata": {
    "id": "cyL2au1aAtpi"
   },
   "source": [
    "以台灣來說大家都是以坪為單位計算使用面積，應該是不會問說你家有幾平方公尺吧?，但是偏偏資料中沒有以坪為單位計算，所以接下來請各位幫忙產生新的欄位以坪為單位計算面積，轉換公式我也幫你找好了，在下面的定義。<br>\n",
    "定義 : 1平方公尺相當於0.3025坪 <br>\n",
    "建立新特徵\n",
    "1. 建物移轉總面積坪(building_area_square_feet) : 建物移轉總面積平方公尺\\*0.3025\n",
    "2. 主建物面積坪(main_building_area_square_feet) : 主建物面積\\*0.3025\n",
    "3. 單價元坪(unit_price_square_feet) : 單價元平方公尺/0.3025"
   ]
  },
  {
   "cell_type": "markdown",
   "metadata": {
    "id": "O-BL5boZAtpi"
   },
   "source": [
    "可以利用.describe()做一下資料觀察，是否有奇怪的資料?<br>\n",
    "如果有請將資料移除，並說明為什麼移除此資料?<br>\n",
    "移除後再用.describe()觀察是否還有奇怪的資料?"
   ]
  },
  {
   "cell_type": "code",
   "execution_count": 30,
   "metadata": {
    "id": "vWILawwvAtpj"
   },
   "outputs": [],
   "source": [
    "# 建立新特徵\n",
    "# 1. 建物移轉總面積坪(building_area_square_feet) : 建物移轉總面積平方公尺*0.3025\n",
    "# 2. 主建物面積坪(main_building_area_square_feet) : 主建物面積*0.3025\n",
    "# 3. 單價元坪(unit_price_square_feet) : 單價元平方公尺/0.3025\n",
    "data3[\"building_area_square_feet\"]=data3[\"building_area_square_meter\"].apply(lambda x: 0.3025*x)\n",
    "data3[\"main_building_area_square_feet\"]=data3[\"main_building_area\"].apply(lambda x: 0.3025*x)\n",
    "data3[\"unit_price_square_feet\"]=data3[\"unit_price\"].apply(lambda x: 0.3025*x)"
   ]
  },
  {
   "cell_type": "code",
   "execution_count": 31,
   "metadata": {
    "id": "ZuAZPbnNAtpj",
    "scrolled": true
   },
   "outputs": [
    {
     "data": {
      "text/html": [
       "<div>\n",
       "<style scoped>\n",
       "    .dataframe tbody tr th:only-of-type {\n",
       "        vertical-align: middle;\n",
       "    }\n",
       "\n",
       "    .dataframe tbody tr th {\n",
       "        vertical-align: top;\n",
       "    }\n",
       "\n",
       "    .dataframe thead th {\n",
       "        text-align: right;\n",
       "    }\n",
       "</style>\n",
       "<table border=\"1\" class=\"dataframe\">\n",
       "  <thead>\n",
       "    <tr style=\"text-align: right;\">\n",
       "      <th></th>\n",
       "      <th>total_price</th>\n",
       "      <th>building_area_square_meter</th>\n",
       "      <th>main_building_area</th>\n",
       "      <th>unit_price</th>\n",
       "      <th>room_number</th>\n",
       "      <th>hall_number</th>\n",
       "      <th>health_number</th>\n",
       "      <th>building_area_square_feet</th>\n",
       "      <th>main_building_area_square_feet</th>\n",
       "      <th>unit_price_square_feet</th>\n",
       "    </tr>\n",
       "  </thead>\n",
       "  <tbody>\n",
       "    <tr>\n",
       "      <th>count</th>\n",
       "      <td>6.894000e+03</td>\n",
       "      <td>6894.000000</td>\n",
       "      <td>6894.000000</td>\n",
       "      <td>6894.000000</td>\n",
       "      <td>6894.000000</td>\n",
       "      <td>6894.000000</td>\n",
       "      <td>6894.000000</td>\n",
       "      <td>6894.000000</td>\n",
       "      <td>6894.000000</td>\n",
       "      <td>6894.000000</td>\n",
       "    </tr>\n",
       "    <tr>\n",
       "      <th>mean</th>\n",
       "      <td>1.138712e+07</td>\n",
       "      <td>121.712089</td>\n",
       "      <td>82.086667</td>\n",
       "      <td>94364.671163</td>\n",
       "      <td>2.850885</td>\n",
       "      <td>1.793299</td>\n",
       "      <td>1.733536</td>\n",
       "      <td>36.817907</td>\n",
       "      <td>24.831217</td>\n",
       "      <td>28545.313027</td>\n",
       "    </tr>\n",
       "    <tr>\n",
       "      <th>std</th>\n",
       "      <td>1.159445e+07</td>\n",
       "      <td>62.871712</td>\n",
       "      <td>37.363166</td>\n",
       "      <td>58317.311227</td>\n",
       "      <td>0.898498</td>\n",
       "      <td>0.404969</td>\n",
       "      <td>0.681085</td>\n",
       "      <td>19.018693</td>\n",
       "      <td>11.302358</td>\n",
       "      <td>17640.986646</td>\n",
       "    </tr>\n",
       "    <tr>\n",
       "      <th>min</th>\n",
       "      <td>0.000000e+00</td>\n",
       "      <td>0.970000</td>\n",
       "      <td>0.000000</td>\n",
       "      <td>0.000000</td>\n",
       "      <td>1.000000</td>\n",
       "      <td>1.000000</td>\n",
       "      <td>0.000000</td>\n",
       "      <td>0.293425</td>\n",
       "      <td>0.000000</td>\n",
       "      <td>0.000000</td>\n",
       "    </tr>\n",
       "    <tr>\n",
       "      <th>25%</th>\n",
       "      <td>5.580000e+06</td>\n",
       "      <td>82.965000</td>\n",
       "      <td>60.682500</td>\n",
       "      <td>53532.250000</td>\n",
       "      <td>2.000000</td>\n",
       "      <td>2.000000</td>\n",
       "      <td>1.000000</td>\n",
       "      <td>25.096912</td>\n",
       "      <td>18.356456</td>\n",
       "      <td>16193.505625</td>\n",
       "    </tr>\n",
       "    <tr>\n",
       "      <th>50%</th>\n",
       "      <td>8.550000e+06</td>\n",
       "      <td>109.390000</td>\n",
       "      <td>78.990000</td>\n",
       "      <td>79610.000000</td>\n",
       "      <td>3.000000</td>\n",
       "      <td>2.000000</td>\n",
       "      <td>2.000000</td>\n",
       "      <td>33.090475</td>\n",
       "      <td>23.894475</td>\n",
       "      <td>24082.025000</td>\n",
       "    </tr>\n",
       "    <tr>\n",
       "      <th>75%</th>\n",
       "      <td>1.329500e+07</td>\n",
       "      <td>147.517500</td>\n",
       "      <td>95.797500</td>\n",
       "      <td>118728.250000</td>\n",
       "      <td>3.000000</td>\n",
       "      <td>2.000000</td>\n",
       "      <td>2.000000</td>\n",
       "      <td>44.624044</td>\n",
       "      <td>28.978744</td>\n",
       "      <td>35915.295625</td>\n",
       "    </tr>\n",
       "    <tr>\n",
       "      <th>max</th>\n",
       "      <td>2.250000e+08</td>\n",
       "      <td>1444.950000</td>\n",
       "      <td>335.760000</td>\n",
       "      <td>610104.000000</td>\n",
       "      <td>5.000000</td>\n",
       "      <td>2.000000</td>\n",
       "      <td>6.000000</td>\n",
       "      <td>437.097375</td>\n",
       "      <td>101.567400</td>\n",
       "      <td>184556.460000</td>\n",
       "    </tr>\n",
       "  </tbody>\n",
       "</table>\n",
       "</div>"
      ],
      "text/plain": [
       "        total_price  building_area_square_meter  main_building_area  \\\n",
       "count  6.894000e+03                 6894.000000         6894.000000   \n",
       "mean   1.138712e+07                  121.712089           82.086667   \n",
       "std    1.159445e+07                   62.871712           37.363166   \n",
       "min    0.000000e+00                    0.970000            0.000000   \n",
       "25%    5.580000e+06                   82.965000           60.682500   \n",
       "50%    8.550000e+06                  109.390000           78.990000   \n",
       "75%    1.329500e+07                  147.517500           95.797500   \n",
       "max    2.250000e+08                 1444.950000          335.760000   \n",
       "\n",
       "          unit_price  room_number  hall_number  health_number  \\\n",
       "count    6894.000000  6894.000000  6894.000000    6894.000000   \n",
       "mean    94364.671163     2.850885     1.793299       1.733536   \n",
       "std     58317.311227     0.898498     0.404969       0.681085   \n",
       "min         0.000000     1.000000     1.000000       0.000000   \n",
       "25%     53532.250000     2.000000     2.000000       1.000000   \n",
       "50%     79610.000000     3.000000     2.000000       2.000000   \n",
       "75%    118728.250000     3.000000     2.000000       2.000000   \n",
       "max    610104.000000     5.000000     2.000000       6.000000   \n",
       "\n",
       "       building_area_square_feet  main_building_area_square_feet  \\\n",
       "count                6894.000000                     6894.000000   \n",
       "mean                   36.817907                       24.831217   \n",
       "std                    19.018693                       11.302358   \n",
       "min                     0.293425                        0.000000   \n",
       "25%                    25.096912                       18.356456   \n",
       "50%                    33.090475                       23.894475   \n",
       "75%                    44.624044                       28.978744   \n",
       "max                   437.097375                      101.567400   \n",
       "\n",
       "       unit_price_square_feet  \n",
       "count             6894.000000  \n",
       "mean             28545.313027  \n",
       "std              17640.986646  \n",
       "min                  0.000000  \n",
       "25%              16193.505625  \n",
       "50%              24082.025000  \n",
       "75%              35915.295625  \n",
       "max             184556.460000  "
      ]
     },
     "execution_count": 31,
     "metadata": {},
     "output_type": "execute_result"
    }
   ],
   "source": [
    "# 可以利用.describe()做一下資料觀察，是否有奇怪的資料?\n",
    "# 如果有請將資料移除，並說明為什麼移除此資料?\n",
    "data3.describe()"
   ]
  },
  {
   "cell_type": "code",
   "execution_count": 32,
   "metadata": {
    "id": "qED9ygBDAtpj"
   },
   "outputs": [
    {
     "name": "stdout",
     "output_type": "stream",
     "text": [
      "可能因為有些欄位數值為0卻並非nan，所以dropna的時候沒有被排出掉\n"
     ]
    },
    {
     "data": {
      "text/html": [
       "<div>\n",
       "<style scoped>\n",
       "    .dataframe tbody tr th:only-of-type {\n",
       "        vertical-align: middle;\n",
       "    }\n",
       "\n",
       "    .dataframe tbody tr th {\n",
       "        vertical-align: top;\n",
       "    }\n",
       "\n",
       "    .dataframe thead th {\n",
       "        text-align: right;\n",
       "    }\n",
       "</style>\n",
       "<table border=\"1\" class=\"dataframe\">\n",
       "  <thead>\n",
       "    <tr style=\"text-align: right;\">\n",
       "      <th></th>\n",
       "      <th>total_price</th>\n",
       "      <th>building_area_square_meter</th>\n",
       "      <th>main_building_area</th>\n",
       "      <th>unit_price</th>\n",
       "      <th>room_number</th>\n",
       "      <th>hall_number</th>\n",
       "      <th>health_number</th>\n",
       "      <th>building_area_square_feet</th>\n",
       "      <th>main_building_area_square_feet</th>\n",
       "      <th>unit_price_square_feet</th>\n",
       "    </tr>\n",
       "  </thead>\n",
       "  <tbody>\n",
       "    <tr>\n",
       "      <th>count</th>\n",
       "      <td>6.854000e+03</td>\n",
       "      <td>6854.000000</td>\n",
       "      <td>6854.000000</td>\n",
       "      <td>6854.000000</td>\n",
       "      <td>6854.000000</td>\n",
       "      <td>6854.000000</td>\n",
       "      <td>6854.000000</td>\n",
       "      <td>6854.000000</td>\n",
       "      <td>6854.000000</td>\n",
       "      <td>6854.000000</td>\n",
       "    </tr>\n",
       "    <tr>\n",
       "      <th>mean</th>\n",
       "      <td>1.141669e+07</td>\n",
       "      <td>121.768404</td>\n",
       "      <td>82.565725</td>\n",
       "      <td>94548.453020</td>\n",
       "      <td>2.849869</td>\n",
       "      <td>1.793114</td>\n",
       "      <td>1.733149</td>\n",
       "      <td>36.834942</td>\n",
       "      <td>24.976132</td>\n",
       "      <td>28600.907039</td>\n",
       "    </tr>\n",
       "    <tr>\n",
       "      <th>std</th>\n",
       "      <td>1.161669e+07</td>\n",
       "      <td>62.849105</td>\n",
       "      <td>36.940424</td>\n",
       "      <td>58374.690321</td>\n",
       "      <td>0.898343</td>\n",
       "      <td>0.405103</td>\n",
       "      <td>0.680869</td>\n",
       "      <td>19.011854</td>\n",
       "      <td>11.174478</td>\n",
       "      <td>17658.343822</td>\n",
       "    </tr>\n",
       "    <tr>\n",
       "      <th>min</th>\n",
       "      <td>4.100000e+05</td>\n",
       "      <td>7.440000</td>\n",
       "      <td>7.440000</td>\n",
       "      <td>3239.000000</td>\n",
       "      <td>1.000000</td>\n",
       "      <td>1.000000</td>\n",
       "      <td>0.000000</td>\n",
       "      <td>2.250600</td>\n",
       "      <td>2.250600</td>\n",
       "      <td>979.797500</td>\n",
       "    </tr>\n",
       "    <tr>\n",
       "      <th>25%</th>\n",
       "      <td>5.600000e+06</td>\n",
       "      <td>83.012500</td>\n",
       "      <td>61.062500</td>\n",
       "      <td>53597.250000</td>\n",
       "      <td>2.000000</td>\n",
       "      <td>2.000000</td>\n",
       "      <td>1.000000</td>\n",
       "      <td>25.111281</td>\n",
       "      <td>18.471406</td>\n",
       "      <td>16213.168125</td>\n",
       "    </tr>\n",
       "    <tr>\n",
       "      <th>50%</th>\n",
       "      <td>8.600000e+06</td>\n",
       "      <td>109.405000</td>\n",
       "      <td>79.110000</td>\n",
       "      <td>79742.500000</td>\n",
       "      <td>3.000000</td>\n",
       "      <td>2.000000</td>\n",
       "      <td>2.000000</td>\n",
       "      <td>33.095012</td>\n",
       "      <td>23.930775</td>\n",
       "      <td>24122.106250</td>\n",
       "    </tr>\n",
       "    <tr>\n",
       "      <th>75%</th>\n",
       "      <td>1.330000e+07</td>\n",
       "      <td>147.445000</td>\n",
       "      <td>95.970000</td>\n",
       "      <td>118880.000000</td>\n",
       "      <td>3.000000</td>\n",
       "      <td>2.000000</td>\n",
       "      <td>2.000000</td>\n",
       "      <td>44.602112</td>\n",
       "      <td>29.030925</td>\n",
       "      <td>35961.200000</td>\n",
       "    </tr>\n",
       "    <tr>\n",
       "      <th>max</th>\n",
       "      <td>2.250000e+08</td>\n",
       "      <td>1444.950000</td>\n",
       "      <td>335.760000</td>\n",
       "      <td>610104.000000</td>\n",
       "      <td>5.000000</td>\n",
       "      <td>2.000000</td>\n",
       "      <td>6.000000</td>\n",
       "      <td>437.097375</td>\n",
       "      <td>101.567400</td>\n",
       "      <td>184556.460000</td>\n",
       "    </tr>\n",
       "  </tbody>\n",
       "</table>\n",
       "</div>"
      ],
      "text/plain": [
       "        total_price  building_area_square_meter  main_building_area  \\\n",
       "count  6.854000e+03                 6854.000000         6854.000000   \n",
       "mean   1.141669e+07                  121.768404           82.565725   \n",
       "std    1.161669e+07                   62.849105           36.940424   \n",
       "min    4.100000e+05                    7.440000            7.440000   \n",
       "25%    5.600000e+06                   83.012500           61.062500   \n",
       "50%    8.600000e+06                  109.405000           79.110000   \n",
       "75%    1.330000e+07                  147.445000           95.970000   \n",
       "max    2.250000e+08                 1444.950000          335.760000   \n",
       "\n",
       "          unit_price  room_number  hall_number  health_number  \\\n",
       "count    6854.000000  6854.000000  6854.000000    6854.000000   \n",
       "mean    94548.453020     2.849869     1.793114       1.733149   \n",
       "std     58374.690321     0.898343     0.405103       0.680869   \n",
       "min      3239.000000     1.000000     1.000000       0.000000   \n",
       "25%     53597.250000     2.000000     2.000000       1.000000   \n",
       "50%     79742.500000     3.000000     2.000000       2.000000   \n",
       "75%    118880.000000     3.000000     2.000000       2.000000   \n",
       "max    610104.000000     5.000000     2.000000       6.000000   \n",
       "\n",
       "       building_area_square_feet  main_building_area_square_feet  \\\n",
       "count                6854.000000                     6854.000000   \n",
       "mean                   36.834942                       24.976132   \n",
       "std                    19.011854                       11.174478   \n",
       "min                     2.250600                        2.250600   \n",
       "25%                    25.111281                       18.471406   \n",
       "50%                    33.095012                       23.930775   \n",
       "75%                    44.602112                       29.030925   \n",
       "max                   437.097375                      101.567400   \n",
       "\n",
       "       unit_price_square_feet  \n",
       "count             6854.000000  \n",
       "mean             28600.907039  \n",
       "std              17658.343822  \n",
       "min                979.797500  \n",
       "25%              16213.168125  \n",
       "50%              24122.106250  \n",
       "75%              35961.200000  \n",
       "max             184556.460000  "
      ]
     },
     "execution_count": 32,
     "metadata": {},
     "output_type": "execute_result"
    }
   ],
   "source": [
    "# 移除後再用.describe()觀察是否還有奇怪的資料?\n",
    "print(\"可能因為有些欄位數值為0卻並非nan，所以dropna的時候沒有被排出掉\")\n",
    "mask_0=(data3[\"main_building_area\"]!=0) & (data3[\"unit_price\"]!=0)\n",
    "data4=data3[mask_0]\n",
    "data4.describe()"
   ]
  },
  {
   "cell_type": "markdown",
   "metadata": {
    "id": "uRcOUtYPAtpk"
   },
   "source": [
    "# 4. 找出台北市時價登入總價高度相關的變數"
   ]
  },
  {
   "cell_type": "markdown",
   "metadata": {
    "id": "sMgZ6PbwAtpk"
   },
   "source": [
    "阿宏我是台北人他想找出影響台北市總價、單價元坪的因子<br>\n",
    "相關係數0.3以下為低相關，0.3\\~0.7為中等相關，0.7以上為高度相關<br>\n",
    "1. 資料切片切出city欄位為台北市的資料，並找出時價登入總價(total_price)高度相關的變數\n",
    "2. 資料切片切出city欄位為台北市的資料，找出單價元坪(unit_price_square_feet)高度相關的變數"
   ]
  },
  {
   "cell_type": "code",
   "execution_count": 33,
   "metadata": {
    "id": "UZyUNLQzAtpm"
   },
   "outputs": [
    {
     "name": "stdout",
     "output_type": "stream",
     "text": [
      "Strongest correlation with 'total_price' = \n",
      "building_area_square_feet\n",
      "\n",
      "Strongest correlation with 'unit_price_square_feet' = \n",
      "unit_price\n"
     ]
    }
   ],
   "source": [
    "# 阿宏我是台北人他想找出影響台北市總價、單價元坪的因子\n",
    "# 1. 資料切片切出city欄位為台北市的資料，並找出時價登入總價(total_price)高度相關的變數\n",
    "\n",
    "# 2. 資料切片切出city欄位為台北市的資料，找出單價元坪(unit_price_square_feet)高度相關的變數\n",
    "mask4=(data4[\"city\"]==\"Taipei\")\n",
    "data_taipei=data4[mask4]\n",
    "corr_taipei=data_taipei.corr()\n",
    "corr_taipei\n",
    "corr_with_total_price=corr_taipei[\"total_price\"].sort_values(ascending=False)\n",
    "\n",
    "corr_with_unit_price_square_feet=corr_taipei[\"unit_price_square_feet\"].sort_values(ascending=False)\n",
    "\n",
    "\n",
    "print(\"Strongest correlation with 'total_price' = \\n{0}\".format(corr_with_total_price.index[1]))\n",
    "print()\n",
    "print(\"Strongest correlation with 'unit_price_square_feet' = \\n{0}\".format(corr_with_unit_price_square_feet.index[0]))\n"
   ]
  },
  {
   "cell_type": "markdown",
   "metadata": {
    "id": "-y15EpRMAtpm"
   },
   "source": [
    "# 5. 資料視覺化並解釋\n"
   ]
  },
  {
   "cell_type": "markdown",
   "metadata": {
    "id": "TuAbtSFfAtpn"
   },
   "source": [
    "我想要以視覺化的方式來看房價資料，並且請各位資料科學家解釋圖表給阿宏我知道\n",
    "1. 以城市(city)為x軸，以單價元坪(unit_price_square_feet)為y軸畫出boxplot，並找出單價元坪(unit_price_square_feet)中位數最高的地區\n",
    "2. 進一步對台北市的資料做圖，以建物現況格局-房(room_number)為x軸，以總價元(total_price)為y軸畫出boxplot，並找出總價元(total_price)中位數最高的房間數。hint:資料切片找出city欄位為台北市的資料，再進一步畫圖\n",
    "3. 對台北市的資料做圖，先將地區(twons)做編碼在進行，再以地區(twon)為x軸，以單價元坪(unit_price_square_feet)為y軸畫出boxplot，並找出單價元坪(unit_price_square_feet)中位數最高的地區。hint:運用LabelEncoder()對地區(twons)做編碼，運用.inverse_transform()反查編碼的地區"
   ]
  },
  {
   "cell_type": "code",
   "execution_count": 34,
   "metadata": {
    "id": "AeGKqgwIAtpn",
    "scrolled": false
   },
   "outputs": [
    {
     "name": "stdout",
     "output_type": "stream",
     "text": [
      "unit_price_square_feet 中位數最高的是 Taipei,數值為 49087.431249999994\n"
     ]
    },
    {
     "data": {
      "image/png": "[encoded data removed]",
      "text/plain": [
       "<Figure size 720x360 with 1 Axes>"
      ]
     },
     "metadata": {
      "needs_background": "light"
     },
     "output_type": "display_data"
    }
   ],
   "source": [
    "#1. 以城市(city)為x軸，以單價元坪(unit_price_square_feet)為y軸畫出boxplot，並找出單價元坪(unit_price_square_feet)中位數最高的地區\n",
    "import matplotlib.pyplot as plt\n",
    "import numpy as np\n",
    "import seaborn as sns\n",
    "fig,axs=plt.subplots(1,1,figsize=(10,5))\n",
    "ax2=sns.boxplot(data=data4,x=\"city\",y=\"unit_price_square_feet\",ax=axs)\n",
    "\n",
    "groupby_city=data4.groupby(\"city\")\n",
    "get_median=groupby_city.median()\n",
    "max_value=get_median[\"unit_price_square_feet\"].max()\n",
    "max_city=get_median[\"unit_price_square_feet\"][get_median[\"unit_price_square_feet\"]==max_value].index[0]\n",
    "print(\"unit_price_square_feet 中位數最高的是 {0},數值為 {1}\".format(max_city,max_value))"
   ]
  },
  {
   "cell_type": "code",
   "execution_count": 35,
   "metadata": {
    "id": "2_sM72QLAtpn"
   },
   "outputs": [
    {
     "name": "stdout",
     "output_type": "stream",
     "text": [
      "total_price中位數最高的對應房間數為 5\n"
     ]
    },
    {
     "data": {
      "image/png": "[encoded data removed]",
      "text/plain": [
       "<Figure size 720x360 with 1 Axes>"
      ]
     },
     "metadata": {
      "needs_background": "light"
     },
     "output_type": "display_data"
    }
   ],
   "source": [
    "#2. 進一步對台北市的資料做圖，以建物現況格局-房(room_number)為x軸，以總價元(total_price)為y軸畫出boxplot，並找出總價元(total_price)中位數最高的房間數。hint:資料切片找出city欄位為台北市的資料，再進一步畫圖\n",
    "fig,axs=plt.subplots(1,1,figsize=(10,5))\n",
    "taipei_data=data4[data4[\"city\"]==\"Taipei\"]\n",
    "sns.boxplot(data=taipei_data,x=\"room_number\",y=\"total_price\")\n",
    "\n",
    "groupby_room_number=taipei_data.groupby(\"room_number\").median()\n",
    "max_value=groupby_room_number[\"total_price\"].max()\n",
    "index=(groupby_room_number[groupby_room_number[\"total_price\"]==max_value]).index[0]\n",
    "print(\"total_price中位數最高的對應房間數為 {0}\".format(index))"
   ]
  },
  {
   "cell_type": "code",
   "execution_count": 36,
   "metadata": {
    "id": "PatbpuqLAtpo",
    "scrolled": true
   },
   "outputs": [
    {
     "name": "stdout",
     "output_type": "stream",
     "text": [
      "unit_price_square_feet 中位數最高的對應地區為 ['大安區']\n"
     ]
    },
    {
     "data": {
      "image/png": "[encoded data removed]",
      "text/plain": [
       "<Figure size 720x360 with 1 Axes>"
      ]
     },
     "metadata": {
      "needs_background": "light"
     },
     "output_type": "display_data"
    }
   ],
   "source": [
    "#3. 對台北市的資料做圖，先將地區(twons)做編碼在進行，再以地區(twon)為x軸，以單價元坪(unit_price_square_feet)為y軸畫出boxplot，並找出單價元坪(unit_price_square_feet)中位數最高的地區。\n",
    "# hint:運用LabelEncoder()對地區(twons)做編碼，運用.inverse_transform()反查編碼的地區\n",
    "from sklearn.preprocessing import LabelEncoder\n",
    "le=LabelEncoder()\n",
    "taipei_data=data4[data4[\"city\"]==\"Taipei\"]\n",
    "le.fit(taipei_data[\"towns\"])\n",
    "taipei_data.loc[:,[\"towns\"]]=le.transform(taipei_data[\"towns\"])\n",
    "fig2,axs2=plt.subplots(1,1,figsize=(10,5))\n",
    "sns.boxplot(data=taipei_data,x=\"towns\",y=\"unit_price_square_feet\",ax=axs2)\n",
    "\n",
    "groupby_towns=taipei_data.groupby(\"towns\").median()\n",
    "max_value=groupby_towns[\"unit_price_square_feet\"].max()\n",
    "index=(groupby_towns[groupby_towns[\"unit_price_square_feet\"]==max_value]).index[0]\n",
    "index2=le.inverse_transform([index])\n",
    "print(\"unit_price_square_feet 中位數最高的對應地區為 {0}\".format(index2))"
   ]
  }
 ],
 "metadata": {
  "colab": {
   "name": "不動產分析_習題.ipynb",
   "provenance": []
  },
  "kernelspec": {
   "display_name": "Python 3",
   "language": "python",
   "name": "python3"
  },
  "language_info": {
   "codemirror_mode": {
    "name": "ipython",
    "version": 3
   },
   "file_extension": ".py",
   "mimetype": "text/x-python",
   "name": "python",
   "nbconvert_exporter": "python",
   "pygments_lexer": "ipython3",
   "version": "3.8.5"
  }
 },
 "nbformat": 4,
 "nbformat_minor": 1
}
